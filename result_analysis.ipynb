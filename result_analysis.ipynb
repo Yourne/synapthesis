{
 "cells": [
  {
   "cell_type": "code",
   "execution_count": 2,
   "metadata": {},
   "outputs": [],
   "source": [
    "import os\n",
    "import pandas as pd\n",
    "from models import prep\n",
    "\n",
    "pd.set_eng_float_format(accuracy=2, use_eng_prefix=True)\n",
    "\n",
    "df = prep.load_dataset()\n",
    "df = prep.split_sum_totals(df)\n",
    "df = prep.feature_extraction(df)\n",
    "df = prep.remove_obvious_outliers(df)"
   ]
  },
  {
   "cell_type": "code",
   "execution_count": 3,
   "metadata": {},
   "outputs": [],
   "source": [
    "# forget about the time related features \n",
    "df = df.drop(columns=[\"id_lsf\", \"sinDayOfYear\", \"cosDayOfYear\",\n",
    "                      \"daysSinceBaseDate\"])"
   ]
  },
  {
   "cell_type": "code",
   "execution_count": 4,
   "metadata": {},
   "outputs": [],
   "source": [
    "for agent in [\"id_pa\", \"id_be\"]:\n",
    "    global_stats = pd.concat([\n",
    "        df.groupby(agent)[\"importo\"].median().rename(\n",
    "            agent.strip(\"id_\") + \"_global_median\"),\n",
    "        df.groupby(agent)[\"importo\"].std().rename(\n",
    "            agent.strip(\"id_\") + \"_global_std\")], axis=1)\n",
    "    df = df.join(global_stats, on=agent)\n",
    "\n",
    "# sta cosa è sostituta da median_annual_contract e med_ann_rev\n"
   ]
  },
  {
   "cell_type": "code",
   "execution_count": 5,
   "metadata": {},
   "outputs": [],
   "source": [
    "df = df[df[\"cpv\"].isin(prep.abc_cpv_short_names.keys())]\n",
    "df = df[df[\"id_scelta_contraente\"].isin(prep.abc_procedure_short_names.keys())]"
   ]
  },
  {
   "cell_type": "code",
   "execution_count": 6,
   "metadata": {},
   "outputs": [],
   "source": [
    "# df must be local\n",
    "for agent in [\"id_pa\", \"id_be\"]:\n",
    "    local_stats = pd.concat([\n",
    "        df.groupby(agent)[\"importo\"].median().rename(\n",
    "            agent.strip(\"id_\") + \"_local_median\"),\n",
    "        df.groupby(agent)[\"importo\"].std().rename(\n",
    "            agent.strip(\"id_\") + \"_local_std\")], axis=1)\n",
    "    df = df.join(local_stats, on=agent)"
   ]
  },
  {
   "cell_type": "code",
   "execution_count": 7,
   "metadata": {},
   "outputs": [
    {
     "data": {
      "text/html": [
       "<div>\n",
       "<style scoped>\n",
       "    .dataframe tbody tr th:only-of-type {\n",
       "        vertical-align: middle;\n",
       "    }\n",
       "\n",
       "    .dataframe tbody tr th {\n",
       "        vertical-align: top;\n",
       "    }\n",
       "\n",
       "    .dataframe thead th {\n",
       "        text-align: right;\n",
       "    }\n",
       "</style>\n",
       "<table border=\"1\" class=\"dataframe\">\n",
       "  <thead>\n",
       "    <tr style=\"text-align: right;\">\n",
       "      <th></th>\n",
       "      <th>importo</th>\n",
       "      <th>pa_local_median</th>\n",
       "      <th>be_local_median</th>\n",
       "      <th>pa_med_ann_contr</th>\n",
       "      <th>be_med_ann_contr</th>\n",
       "      <th>pa_med_ann_expenditure</th>\n",
       "      <th>be_med_ann_revenue</th>\n",
       "      <th>id_scelta_contraente</th>\n",
       "      <th>cpv</th>\n",
       "      <th>id_pa</th>\n",
       "      <th>id_be</th>\n",
       "    </tr>\n",
       "  </thead>\n",
       "  <tbody>\n",
       "    <tr>\n",
       "      <th>4</th>\n",
       "      <td>707.92</td>\n",
       "      <td>815.32</td>\n",
       "      <td>768.40</td>\n",
       "      <td>1.05k</td>\n",
       "      <td>888.24</td>\n",
       "      <td>101.99M</td>\n",
       "      <td>322.60k</td>\n",
       "      <td>23</td>\n",
       "      <td>33</td>\n",
       "      <td>2997</td>\n",
       "      <td>95012</td>\n",
       "    </tr>\n",
       "    <tr>\n",
       "      <th>13</th>\n",
       "      <td>29.15k</td>\n",
       "      <td>29.07k</td>\n",
       "      <td>107.25k</td>\n",
       "      <td>3.30k</td>\n",
       "      <td>119.38k</td>\n",
       "      <td>20.84M</td>\n",
       "      <td>3.00M</td>\n",
       "      <td>23</td>\n",
       "      <td>45</td>\n",
       "      <td>592</td>\n",
       "      <td>103976</td>\n",
       "    </tr>\n",
       "    <tr>\n",
       "      <th>20</th>\n",
       "      <td>128.16</td>\n",
       "      <td>5.00k</td>\n",
       "      <td>4.20k</td>\n",
       "      <td>4.50k</td>\n",
       "      <td>1.00k</td>\n",
       "      <td>197.78M</td>\n",
       "      <td>19.91k</td>\n",
       "      <td>23</td>\n",
       "      <td>33</td>\n",
       "      <td>2992</td>\n",
       "      <td>283851</td>\n",
       "    </tr>\n",
       "    <tr>\n",
       "      <th>22</th>\n",
       "      <td>5.00k</td>\n",
       "      <td>6.60k</td>\n",
       "      <td>1.88k</td>\n",
       "      <td>1.02k</td>\n",
       "      <td>2.07k</td>\n",
       "      <td>6.68M</td>\n",
       "      <td>821.93k</td>\n",
       "      <td>23</td>\n",
       "      <td>45</td>\n",
       "      <td>14374</td>\n",
       "      <td>94395</td>\n",
       "    </tr>\n",
       "    <tr>\n",
       "      <th>29</th>\n",
       "      <td>340.80k</td>\n",
       "      <td>3.60k</td>\n",
       "      <td>29.22k</td>\n",
       "      <td>4.35k</td>\n",
       "      <td>28.99k</td>\n",
       "      <td>219.52M</td>\n",
       "      <td>13.31M</td>\n",
       "      <td>1</td>\n",
       "      <td>33</td>\n",
       "      <td>2435</td>\n",
       "      <td>93140</td>\n",
       "    </tr>\n",
       "    <tr>\n",
       "      <th>...</th>\n",
       "      <td>...</td>\n",
       "      <td>...</td>\n",
       "      <td>...</td>\n",
       "      <td>...</td>\n",
       "      <td>...</td>\n",
       "      <td>...</td>\n",
       "      <td>...</td>\n",
       "      <td>...</td>\n",
       "      <td>...</td>\n",
       "      <td>...</td>\n",
       "      <td>...</td>\n",
       "    </tr>\n",
       "    <tr>\n",
       "      <th>755711</th>\n",
       "      <td>4.70k</td>\n",
       "      <td>1.12k</td>\n",
       "      <td>830.50</td>\n",
       "      <td>1.07k</td>\n",
       "      <td>576.75</td>\n",
       "      <td>93.58M</td>\n",
       "      <td>263.19k</td>\n",
       "      <td>23</td>\n",
       "      <td>33</td>\n",
       "      <td>2998</td>\n",
       "      <td>85233</td>\n",
       "    </tr>\n",
       "    <tr>\n",
       "      <th>755726</th>\n",
       "      <td>814.50</td>\n",
       "      <td>600.00</td>\n",
       "      <td>800.00</td>\n",
       "      <td>740.00</td>\n",
       "      <td>863.52</td>\n",
       "      <td>26.72M</td>\n",
       "      <td>393.50k</td>\n",
       "      <td>23</td>\n",
       "      <td>33</td>\n",
       "      <td>25911</td>\n",
       "      <td>89351</td>\n",
       "    </tr>\n",
       "    <tr>\n",
       "      <th>755727</th>\n",
       "      <td>39.00k</td>\n",
       "      <td>20.00k</td>\n",
       "      <td>1.81k</td>\n",
       "      <td>18.00k</td>\n",
       "      <td>2.32k</td>\n",
       "      <td>621.25M</td>\n",
       "      <td>464.22k</td>\n",
       "      <td>26</td>\n",
       "      <td>33</td>\n",
       "      <td>2987</td>\n",
       "      <td>94771</td>\n",
       "    </tr>\n",
       "    <tr>\n",
       "      <th>755738</th>\n",
       "      <td>5.00k</td>\n",
       "      <td>12.80k</td>\n",
       "      <td>1.22k</td>\n",
       "      <td>9.10k</td>\n",
       "      <td>1.80k</td>\n",
       "      <td>89.27M</td>\n",
       "      <td>85.36k</td>\n",
       "      <td>23</td>\n",
       "      <td>33</td>\n",
       "      <td>2995</td>\n",
       "      <td>93097</td>\n",
       "    </tr>\n",
       "    <tr>\n",
       "      <th>755751</th>\n",
       "      <td>20.00k</td>\n",
       "      <td>5.00k</td>\n",
       "      <td>4.36k</td>\n",
       "      <td>4.50k</td>\n",
       "      <td>4.54k</td>\n",
       "      <td>197.78M</td>\n",
       "      <td>377.71k</td>\n",
       "      <td>23</td>\n",
       "      <td>33</td>\n",
       "      <td>2992</td>\n",
       "      <td>91099</td>\n",
       "    </tr>\n",
       "  </tbody>\n",
       "</table>\n",
       "<p>101458 rows × 11 columns</p>\n",
       "</div>"
      ],
      "text/plain": [
       "        importo  pa_local_median  be_local_median  pa_med_ann_contr  \\\n",
       "4        707.92           815.32           768.40             1.05k   \n",
       "13       29.15k           29.07k          107.25k             3.30k   \n",
       "20       128.16            5.00k            4.20k             4.50k   \n",
       "22        5.00k            6.60k            1.88k             1.02k   \n",
       "29      340.80k            3.60k           29.22k             4.35k   \n",
       "...         ...              ...              ...               ...   \n",
       "755711    4.70k            1.12k           830.50             1.07k   \n",
       "755726   814.50           600.00           800.00            740.00   \n",
       "755727   39.00k           20.00k            1.81k            18.00k   \n",
       "755738    5.00k           12.80k            1.22k             9.10k   \n",
       "755751   20.00k            5.00k            4.36k             4.50k   \n",
       "\n",
       "        be_med_ann_contr  pa_med_ann_expenditure  be_med_ann_revenue  \\\n",
       "4                 888.24                 101.99M             322.60k   \n",
       "13               119.38k                  20.84M               3.00M   \n",
       "20                 1.00k                 197.78M              19.91k   \n",
       "22                 2.07k                   6.68M             821.93k   \n",
       "29                28.99k                 219.52M              13.31M   \n",
       "...                  ...                     ...                 ...   \n",
       "755711            576.75                  93.58M             263.19k   \n",
       "755726            863.52                  26.72M             393.50k   \n",
       "755727             2.32k                 621.25M             464.22k   \n",
       "755738             1.80k                  89.27M              85.36k   \n",
       "755751             4.54k                 197.78M             377.71k   \n",
       "\n",
       "        id_scelta_contraente  cpv  id_pa   id_be  \n",
       "4                         23   33   2997   95012  \n",
       "13                        23   45    592  103976  \n",
       "20                        23   33   2992  283851  \n",
       "22                        23   45  14374   94395  \n",
       "29                         1   33   2435   93140  \n",
       "...                      ...  ...    ...     ...  \n",
       "755711                    23   33   2998   85233  \n",
       "755726                    23   33  25911   89351  \n",
       "755727                    26   33   2987   94771  \n",
       "755738                    23   33   2995   93097  \n",
       "755751                    23   33   2992   91099  \n",
       "\n",
       "[101458 rows x 11 columns]"
      ]
     },
     "execution_count": 7,
     "metadata": {},
     "output_type": "execute_result"
    }
   ],
   "source": [
    "df[[\n",
    "    \"importo\", \"pa_local_median\", \"be_local_median\", \"pa_med_ann_contr\", \n",
    "    \"be_med_ann_contr\", \"pa_med_ann_expenditure\", \"be_med_ann_revenue\", \n",
    "    \"id_scelta_contraente\", \"cpv\", \"id_pa\", \"id_be\"]]"
   ]
  },
  {
   "cell_type": "markdown",
   "metadata": {},
   "source": [
    "idea: uni-dimentional clustering within the cpv-procedures clusters"
   ]
  },
  {
   "cell_type": "code",
   "execution_count": 8,
   "metadata": {},
   "outputs": [
    {
     "data": {
      "text/plain": [
       "4          True\n",
       "13        False\n",
       "20        False\n",
       "22        False\n",
       "29        False\n",
       "          ...  \n",
       "755711    False\n",
       "755726    False\n",
       "755727    False\n",
       "755738    False\n",
       "755751    False\n",
       "Name: id_pa, Length: 101458, dtype: bool"
      ]
     },
     "execution_count": 8,
     "metadata": {},
     "output_type": "execute_result"
    }
   ],
   "source": [
    "df[\"id_pa\"] == 2997"
   ]
  },
  {
   "cell_type": "code",
   "execution_count": 9,
   "metadata": {},
   "outputs": [
    {
     "data": {
      "text/plain": [
       "<AxesSubplot:xlabel='importo', ylabel='importo'>"
      ]
     },
     "execution_count": 9,
     "metadata": {},
     "output_type": "execute_result"
    },
    {
     "data": {
      "image/png": "[encoded data removed]",
      "text/plain": [
       "<Figure size 432x288 with 1 Axes>"
      ]
     },
     "metadata": {
      "needs_background": "light"
     },
     "output_type": "display_data"
    }
   ],
   "source": [
    "# where lies the lot in the (pa, be) distribution?\n",
    "import seaborn as sns\n",
    "import numpy as np\n",
    "sns.histplot(x=np.log10(df[df[\"id_pa\"] == 2997].importo), y=np.log10(df[df[\"id_be\"] == 95012].importo))"
   ]
  }
 ],
 "metadata": {
  "kernelspec": {
   "display_name": "Python 3.9.12 ('base')",
   "language": "python",
   "name": "python3"
  },
  "language_info": {
   "codemirror_mode": {
    "name": "ipython",
    "version": 3
   },
   "file_extension": ".py",
   "mimetype": "text/x-python",
   "name": "python",
   "nbconvert_exporter": "python",
   "pygments_lexer": "ipython3",
   "version": "3.9.12"
  },
  "orig_nbformat": 4,
  "vscode": {
   "interpreter": {
    "hash": "d1cfeb6185f643ec464a079a5b9eb481464a0163b688360f3347b9b9d5311284"
   }
  }
 },
 "nbformat": 4,
 "nbformat_minor": 2
}
