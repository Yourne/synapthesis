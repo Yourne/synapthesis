{
 "cells": [
  {
   "cell_type": "code",
   "execution_count": 2,
   "metadata": {},
   "outputs": [
    {
     "name": "stderr",
     "output_type": "stream",
     "text": [
      "/Users/nepal/Documents/synapthesis/models/prep.py:70: SettingWithCopyWarning: \n",
      "A value is trying to be set on a copy of a slice from a DataFrame.\n",
      "Try using .loc[row_indexer,col_indexer] = value instead\n",
      "\n",
      "See the caveats in the documentation: https://pandas.pydata.org/pandas-docs/stable/user_guide/indexing.html#returning-a-view-versus-a-copy\n",
      "  df.iloc[temp.index, 3] = temp.values\n"
     ]
    }
   ],
   "source": [
    "import os\n",
    "import pandas as pd\n",
    "from models import prep\n",
    "\n",
    "pd.set_eng_float_format(accuracy=2, use_eng_prefix=True)\n",
    "\n",
    "df = prep.load_dataset(prep.import_directory, prep.lotti_fn, prep.vincitori_fn)\n",
    "# df = prep.split_sum_totals(df)\n",
    "# df = prep.feature_extraction(df)\n",
    "# df = prep.remove_obvious_outliers(df)"
   ]
  },
  {
   "cell_type": "code",
   "execution_count": 7,
   "metadata": {},
   "outputs": [],
   "source": [
    "df = df[~df.duplicated()]\n",
    "temp = df[df[\"id_lotto\"].duplicated(keep=False)]\n",
    "temp = temp.join(temp.groupby(\"id_lotto\").size().rename(\"n_winners\"), on=\"id_lotto\")\n",
    "temp = temp[\"importo\"] / temp[\"n_winners\"]"
   ]
  },
  {
   "cell_type": "code",
   "execution_count": 14,
   "metadata": {},
   "outputs": [],
   "source": [
    "df.loc[temp.index, \"importo\"] = temp"
   ]
  },
  {
   "cell_type": "code",
   "execution_count": null,
   "metadata": {},
   "outputs": [],
   "source": [
    "def split_sum_totals(df):\n",
    "    # remove duplicates\n",
    "    df = df[~df.duplicated()]\n",
    "    # save records having more than one winner in a temporary variable\n",
    "    temp = df[df[\"id_lotto\"].duplicated(keep=False)]\n",
    "    # equally split the lot sum among all the winners\n",
    "    # (uniform distr. is uninformative prior)\n",
    "    temp = temp.join(temp.groupby(\"id_lotto\").size().rename(\"n_winners\"),\n",
    "                     on=\"id_lotto\")\n",
    "    temp = temp[\"importo\"] / temp[\"n_winners\"]\n",
    "    # modifico la copia o l'originale?\n",
    "    # l'originale secondo quello che so\n",
    "    df.loc[temp.index, \"importo\"] = temp\n",
    "    return df"
   ]
  }
 ],
 "metadata": {
  "kernelspec": {
   "display_name": "Python 3.9.12 ('base')",
   "language": "python",
   "name": "python3"
  },
  "language_info": {
   "codemirror_mode": {
    "name": "ipython",
    "version": 3
   },
   "file_extension": ".py",
   "mimetype": "text/x-python",
   "name": "python",
   "nbconvert_exporter": "python",
   "pygments_lexer": "ipython3",
   "version": "3.9.12"
  },
  "orig_nbformat": 4,
  "vscode": {
   "interpreter": {
    "hash": "d1cfeb6185f643ec464a079a5b9eb481464a0163b688360f3347b9b9d5311284"
   }
  }
 },
 "nbformat": 4,
 "nbformat_minor": 2
}
