{
 "cells": [
  {
   "cell_type": "code",
   "execution_count": 1,
   "metadata": {},
   "outputs": [],
   "source": [
    "import os\n",
    "import pandas as pd\n",
    "from models import prep\n",
    "\n",
    "pd.set_eng_float_format(accuracy=2, use_eng_prefix=True)\n",
    "\n",
    "df = prep.load_dataset()\n",
    "df = prep.split_sum_totals(df)\n",
    "df = prep.feature_extraction(df)\n",
    "df = prep.remove_obvious_outliers(df)"
   ]
  },
  {
   "cell_type": "code",
   "execution_count": 5,
   "metadata": {},
   "outputs": [
    {
     "data": {
      "text/plain": [
       "8193"
      ]
     },
     "execution_count": 5,
     "metadata": {},
     "output_type": "execute_result"
    }
   ],
   "source": [
    "df[\"id_lotto\"].duplicated().sum()"
   ]
  },
  {
   "cell_type": "code",
   "execution_count": 44,
   "metadata": {},
   "outputs": [],
   "source": [
    "# forget about the time related features \n",
    "df = df.drop(columns=[\"id_lsf\", \"sinDayOfYear\", \"cosDayOfYear\",\n",
    "                      \"daysSinceBaseDate\"])"
   ]
  },
  {
   "cell_type": "code",
   "execution_count": 45,
   "metadata": {},
   "outputs": [],
   "source": [
    "for agent in [\"id_pa\", \"id_be\"]:\n",
    "    global_stats = pd.concat([\n",
    "        df.groupby(agent)[\"importo\"].median().rename(\n",
    "            agent.strip(\"id_\") + \"_global_median\"),\n",
    "        df.groupby(agent)[\"importo\"].std().rename(\n",
    "            agent.strip(\"id_\") + \"_global_std\")], axis=1)\n",
    "    df = df.join(global_stats, on=agent)\n",
    "\n",
    "# sta cosa è sostituta da median_annual_contract e med_ann_rev\n"
   ]
  },
  {
   "cell_type": "code",
   "execution_count": 46,
   "metadata": {},
   "outputs": [
    {
     "name": "stdout",
     "output_type": "stream",
     "text": [
      "{33: 'appMed', 45: 'lavori', 85: 'servSani', 79: 'servImpr'}\n",
      "{1: 'aperta', 26: 'adesione', 4: 'negoziata', 23: 'affidamento'}\n"
     ]
    }
   ],
   "source": [
    "print(prep.abc_cpv_short_names)\n",
    "print(prep.abc_procedure_short_names)"
   ]
  },
  {
   "cell_type": "code",
   "execution_count": 47,
   "metadata": {},
   "outputs": [],
   "source": [
    "# df must be local\n",
    "\n",
    "df = df[df[\"cpv\"] == 33]\n",
    "df = df[df[\"id_scelta_contraente\"] == 1]\n",
    "\n",
    "for agent in [\"id_pa\", \"id_be\"]:\n",
    "    local_stats = pd.concat([\n",
    "        df.groupby(agent)[\"importo\"].median().rename(\n",
    "            agent.strip(\"id_\") + \"_local_median\"),\n",
    "        df.groupby(agent)[\"importo\"].std().rename(\n",
    "            agent.strip(\"id_\") + \"_local_std\")], axis=1)\n",
    "    df = df.join(local_stats, on=agent)"
   ]
  },
  {
   "cell_type": "code",
   "execution_count": 48,
   "metadata": {},
   "outputs": [
    {
     "data": {
      "text/html": [
       "<div>\n",
       "<style scoped>\n",
       "    .dataframe tbody tr th:only-of-type {\n",
       "        vertical-align: middle;\n",
       "    }\n",
       "\n",
       "    .dataframe tbody tr th {\n",
       "        vertical-align: top;\n",
       "    }\n",
       "\n",
       "    .dataframe thead th {\n",
       "        text-align: right;\n",
       "    }\n",
       "</style>\n",
       "<table border=\"1\" class=\"dataframe\">\n",
       "  <thead>\n",
       "    <tr style=\"text-align: right;\">\n",
       "      <th></th>\n",
       "      <th>importo</th>\n",
       "      <th>pa_local_median</th>\n",
       "      <th>be_local_median</th>\n",
       "      <th>pa_med_ann_contr</th>\n",
       "      <th>be_med_ann_contr</th>\n",
       "      <th>pa_med_ann_expenditure</th>\n",
       "      <th>be_med_ann_revenue</th>\n",
       "      <th>id_scelta_contraente</th>\n",
       "      <th>cpv</th>\n",
       "      <th>id_pa</th>\n",
       "      <th>id_be</th>\n",
       "    </tr>\n",
       "  </thead>\n",
       "  <tbody>\n",
       "    <tr>\n",
       "      <th>29</th>\n",
       "      <td>340.80k</td>\n",
       "      <td>91.20k</td>\n",
       "      <td>150.90k</td>\n",
       "      <td>4.35k</td>\n",
       "      <td>28.99k</td>\n",
       "      <td>219.52M</td>\n",
       "      <td>13.31M</td>\n",
       "      <td>1</td>\n",
       "      <td>33</td>\n",
       "      <td>2435</td>\n",
       "      <td>93140</td>\n",
       "    </tr>\n",
       "    <tr>\n",
       "      <th>733</th>\n",
       "      <td>2.43k</td>\n",
       "      <td>11.96k</td>\n",
       "      <td>2.43k</td>\n",
       "      <td>1.05k</td>\n",
       "      <td>4.68k</td>\n",
       "      <td>101.99M</td>\n",
       "      <td>451.85k</td>\n",
       "      <td>1</td>\n",
       "      <td>33</td>\n",
       "      <td>2997</td>\n",
       "      <td>93221</td>\n",
       "    </tr>\n",
       "    <tr>\n",
       "      <th>2292</th>\n",
       "      <td>91.20k</td>\n",
       "      <td>91.20k</td>\n",
       "      <td>150.90k</td>\n",
       "      <td>4.35k</td>\n",
       "      <td>28.99k</td>\n",
       "      <td>219.52M</td>\n",
       "      <td>13.31M</td>\n",
       "      <td>1</td>\n",
       "      <td>33</td>\n",
       "      <td>2435</td>\n",
       "      <td>93140</td>\n",
       "    </tr>\n",
       "    <tr>\n",
       "      <th>2924</th>\n",
       "      <td>240.00k</td>\n",
       "      <td>131.80k</td>\n",
       "      <td>150.90k</td>\n",
       "      <td>1.07k</td>\n",
       "      <td>28.99k</td>\n",
       "      <td>93.58M</td>\n",
       "      <td>13.31M</td>\n",
       "      <td>1</td>\n",
       "      <td>33</td>\n",
       "      <td>2998</td>\n",
       "      <td>93140</td>\n",
       "    </tr>\n",
       "    <tr>\n",
       "      <th>3205</th>\n",
       "      <td>78.00k</td>\n",
       "      <td>91.20k</td>\n",
       "      <td>78.00k</td>\n",
       "      <td>4.35k</td>\n",
       "      <td>19.76k</td>\n",
       "      <td>219.52M</td>\n",
       "      <td>345.93k</td>\n",
       "      <td>1</td>\n",
       "      <td>33</td>\n",
       "      <td>2435</td>\n",
       "      <td>98771</td>\n",
       "    </tr>\n",
       "    <tr>\n",
       "      <th>...</th>\n",
       "      <td>...</td>\n",
       "      <td>...</td>\n",
       "      <td>...</td>\n",
       "      <td>...</td>\n",
       "      <td>...</td>\n",
       "      <td>...</td>\n",
       "      <td>...</td>\n",
       "      <td>...</td>\n",
       "      <td>...</td>\n",
       "      <td>...</td>\n",
       "      <td>...</td>\n",
       "    </tr>\n",
       "    <tr>\n",
       "      <th>752446</th>\n",
       "      <td>170.40k</td>\n",
       "      <td>91.20k</td>\n",
       "      <td>46.00k</td>\n",
       "      <td>4.35k</td>\n",
       "      <td>3.50k</td>\n",
       "      <td>219.52M</td>\n",
       "      <td>9.34M</td>\n",
       "      <td>1</td>\n",
       "      <td>33</td>\n",
       "      <td>2435</td>\n",
       "      <td>90072</td>\n",
       "    </tr>\n",
       "    <tr>\n",
       "      <th>752469</th>\n",
       "      <td>38.70k</td>\n",
       "      <td>91.20k</td>\n",
       "      <td>150.90k</td>\n",
       "      <td>4.35k</td>\n",
       "      <td>28.99k</td>\n",
       "      <td>219.52M</td>\n",
       "      <td>13.31M</td>\n",
       "      <td>1</td>\n",
       "      <td>33</td>\n",
       "      <td>2435</td>\n",
       "      <td>93140</td>\n",
       "    </tr>\n",
       "    <tr>\n",
       "      <th>752777</th>\n",
       "      <td>294.00k</td>\n",
       "      <td>91.20k</td>\n",
       "      <td>150.90k</td>\n",
       "      <td>4.35k</td>\n",
       "      <td>28.99k</td>\n",
       "      <td>219.52M</td>\n",
       "      <td>13.31M</td>\n",
       "      <td>1</td>\n",
       "      <td>33</td>\n",
       "      <td>2435</td>\n",
       "      <td>93140</td>\n",
       "    </tr>\n",
       "    <tr>\n",
       "      <th>753849</th>\n",
       "      <td>11.10M</td>\n",
       "      <td>125.65k</td>\n",
       "      <td>251.00k</td>\n",
       "      <td>3.00k</td>\n",
       "      <td>1.42k</td>\n",
       "      <td>171.26M</td>\n",
       "      <td>11.74M</td>\n",
       "      <td>1</td>\n",
       "      <td>33</td>\n",
       "      <td>2469</td>\n",
       "      <td>93008</td>\n",
       "    </tr>\n",
       "    <tr>\n",
       "      <th>755551</th>\n",
       "      <td>180.00k</td>\n",
       "      <td>91.20k</td>\n",
       "      <td>110.13k</td>\n",
       "      <td>4.35k</td>\n",
       "      <td>36.87k</td>\n",
       "      <td>219.52M</td>\n",
       "      <td>2.24M</td>\n",
       "      <td>1</td>\n",
       "      <td>33</td>\n",
       "      <td>2435</td>\n",
       "      <td>282603</td>\n",
       "    </tr>\n",
       "  </tbody>\n",
       "</table>\n",
       "<p>570 rows × 11 columns</p>\n",
       "</div>"
      ],
      "text/plain": [
       "        importo  pa_local_median  be_local_median  pa_med_ann_contr  \\\n",
       "29      340.80k           91.20k          150.90k             4.35k   \n",
       "733       2.43k           11.96k            2.43k             1.05k   \n",
       "2292     91.20k           91.20k          150.90k             4.35k   \n",
       "2924    240.00k          131.80k          150.90k             1.07k   \n",
       "3205     78.00k           91.20k           78.00k             4.35k   \n",
       "...         ...              ...              ...               ...   \n",
       "752446  170.40k           91.20k           46.00k             4.35k   \n",
       "752469   38.70k           91.20k          150.90k             4.35k   \n",
       "752777  294.00k           91.20k          150.90k             4.35k   \n",
       "753849   11.10M          125.65k          251.00k             3.00k   \n",
       "755551  180.00k           91.20k          110.13k             4.35k   \n",
       "\n",
       "        be_med_ann_contr  pa_med_ann_expenditure  be_med_ann_revenue  \\\n",
       "29                28.99k                 219.52M              13.31M   \n",
       "733                4.68k                 101.99M             451.85k   \n",
       "2292              28.99k                 219.52M              13.31M   \n",
       "2924              28.99k                  93.58M              13.31M   \n",
       "3205              19.76k                 219.52M             345.93k   \n",
       "...                  ...                     ...                 ...   \n",
       "752446             3.50k                 219.52M               9.34M   \n",
       "752469            28.99k                 219.52M              13.31M   \n",
       "752777            28.99k                 219.52M              13.31M   \n",
       "753849             1.42k                 171.26M              11.74M   \n",
       "755551            36.87k                 219.52M               2.24M   \n",
       "\n",
       "        id_scelta_contraente  cpv  id_pa   id_be  \n",
       "29                         1   33   2435   93140  \n",
       "733                        1   33   2997   93221  \n",
       "2292                       1   33   2435   93140  \n",
       "2924                       1   33   2998   93140  \n",
       "3205                       1   33   2435   98771  \n",
       "...                      ...  ...    ...     ...  \n",
       "752446                     1   33   2435   90072  \n",
       "752469                     1   33   2435   93140  \n",
       "752777                     1   33   2435   93140  \n",
       "753849                     1   33   2469   93008  \n",
       "755551                     1   33   2435  282603  \n",
       "\n",
       "[570 rows x 11 columns]"
      ]
     },
     "execution_count": 48,
     "metadata": {},
     "output_type": "execute_result"
    }
   ],
   "source": [
    "df[[\n",
    "    \"importo\", \"pa_local_median\", \"be_local_median\", \"pa_med_ann_contr\", \n",
    "    \"be_med_ann_contr\", \"pa_med_ann_expenditure\", \"be_med_ann_revenue\", \n",
    "    \"id_scelta_contraente\", \"cpv\", \"id_pa\", \"id_be\"]]"
   ]
  },
  {
   "cell_type": "markdown",
   "metadata": {},
   "source": [
    "idea: uni-dimentional clustering within the cpv-procedures clusters"
   ]
  },
  {
   "cell_type": "code",
   "execution_count": 58,
   "metadata": {},
   "outputs": [
    {
     "data": {
      "text/plain": [
       "<AxesSubplot:xlabel='importo', ylabel='Density'>"
      ]
     },
     "execution_count": 58,
     "metadata": {},
     "output_type": "execute_result"
    },
    {
     "data": {
      "image/png": "[encoded data removed]",
      "text/plain": [
       "<Figure size 432x288 with 1 Axes>"
      ]
     },
     "metadata": {
      "needs_background": "light"
     },
     "output_type": "display_data"
    }
   ],
   "source": [
    "import seaborn as sns\n",
    "sns.histplot(df[df[\"id_be\"] == 93140].importo, log_scale=True, stat=\"density\")"
   ]
  },
  {
   "cell_type": "code",
   "execution_count": 51,
   "metadata": {},
   "outputs": [
    {
     "data": {
      "text/plain": [
       "<AxesSubplot:xlabel='importo', ylabel='Density'>"
      ]
     },
     "execution_count": 51,
     "metadata": {},
     "output_type": "execute_result"
    },
    {
     "data": {
      "image/png": "[encoded data removed]",
      "text/plain": [
       "<Figure size 432x288 with 1 Axes>"
      ]
     },
     "metadata": {
      "needs_background": "light"
     },
     "output_type": "display_data"
    }
   ],
   "source": [
    "sns.histplot(df[df[\"id_pa\"] == 2435].importo, bins=50, log_scale=True, stat=\"density\")"
   ]
  },
  {
   "cell_type": "code",
   "execution_count": 54,
   "metadata": {},
   "outputs": [
    {
     "data": {
      "text/plain": [
       "<matplotlib.collections.PathCollection at 0x290fe62e0>"
      ]
     },
     "execution_count": 54,
     "metadata": {},
     "output_type": "execute_result"
    },
    {
     "data": {
      "image/png": "[encoded data removed]",
      "text/plain": [
       "<Figure size 432x288 with 2 Axes>"
      ]
     },
     "metadata": {
      "needs_background": "light"
     },
     "output_type": "display_data"
    }
   ],
   "source": [
    "# where lies the lot in the (pa, be) distribution?\n",
    "import seaborn as sns\n",
    "import matplotlib.pyplot as plt\n",
    "import numpy as np\n",
    "\n",
    "_, ax = plt.subplots()\n",
    "sns.histplot(x=df[df[\"id_pa\"] == 2435].importo, \n",
    "             y=df[df[\"id_be\"] == 93140].importo, \n",
    "             stat=\"density\",log_scale=True, cbar=True, ax=ax)\n",
    "ax.scatter([340800],[340800], c=\"red\")"
   ]
  },
  {
   "cell_type": "markdown",
   "metadata": {},
   "source": [
    "# coloro i risultati in funzione della probabilità stimata dalla kde "
   ]
  },
  {
   "cell_type": "code",
   "execution_count": 75,
   "metadata": {},
   "outputs": [],
   "source": [
    "from sklearn.neighbors import KernelDensity\n",
    "# from sklearn.model_selection import GridSearchCV\n",
    "from sklearn.preprocessing import RobustScaler\n",
    "from scipy.stats import boxcox\n",
    "import pandas as pd\n",
    "import numpy as np\n",
    "from os import path\n",
    "\n",
    "directory = \"datasets\"\n",
    "dataset = \"appMed_aperta\"\n",
    "model = \"kde\"\n",
    "X = pd.read_csv(\n",
    "    path.join(directory, dataset + \".csv\"), index_col=\"id_lotto\")\n",
    "\n",
    "# remove time related features\n",
    "X = X.drop(columns=[\"sinDayOfYear\", \"cosDayOfYear\", \"daysSinceBaseDate\"])\n",
    "# remove median contract pa and median contract be as they are computed\n",
    "# on whole dataset, not only the CPV and award procedure\n",
    "X = X.drop(columns=[\"median_contract_pa\", \"median_contract_be\"])\n",
    "\n",
    "# preprocessing\n",
    "col_names = X.columns\n",
    "X.duration = X.duration.replace(0, X.duration.median())\n",
    "scaler = RobustScaler(with_centering=False)\n",
    "table = scaler.fit_transform(X)\n",
    "# scale only the real-valued columns\n",
    "for i in range(0, 2):\n",
    "    table[:, i], _ = boxcox(table[:, i])\n",
    "\n",
    "# already optimized bandwidth\n",
    "bandwidth = 0.26366508987303583\n",
    "kde = KernelDensity(bandwidth=1, kernel=\"gaussian\")\n",
    "kde.fit(table)\n",
    "\n"
   ]
  },
  {
   "cell_type": "code",
   "execution_count": 76,
   "metadata": {},
   "outputs": [],
   "source": [
    "scores = kde.score_samples(table)"
   ]
  },
  {
   "cell_type": "code",
   "execution_count": 77,
   "metadata": {},
   "outputs": [
    {
     "data": {
      "image/png": "[encoded data removed]",
      "text/plain": [
       "<Figure size 1382.4x302.4 with 3 Axes>"
      ]
     },
     "metadata": {
      "needs_background": "light"
     },
     "output_type": "display_data"
    }
   ],
   "source": [
    "fig, ax = plt.subplots(1, 3, figsize=(6.4*3, 4.2), sharey=True)\n",
    "fig.suptitle(model + \" \" + dataset)\n",
    "for i, feature in enumerate([\"median_annual_revenue\",\n",
    "                            \"median_annual_expenditure\", \"duration\"]):\n",
    "    s = ax[i].scatter(x=X[feature], y=X.sum_total, c=scores, alpha=1, s=.2)\n",
    "    ax[i].legend(*s.legend_elements())\n",
    "    ax[i].set_ylabel(\"contract sum-total\")\n",
    "    ax[i].set_xlabel(feature)\n",
    "    ax[i].set_xscale(\"log\")\n",
    "    ax[i].set_yscale(\"log\")"
   ]
  },
  {
   "cell_type": "code",
   "execution_count": 88,
   "metadata": {},
   "outputs": [
    {
     "name": "stdout",
     "output_type": "stream",
     "text": [
      "thr -10.05 yields 0 outliers\n",
      "thr -9.51 yields 1 outliers\n",
      "thr -8.97 yields 2 outliers\n",
      "thr -8.43 yields 5 outliers\n",
      "thr -7.88 yields 14 outliers\n",
      "thr -7.34 yields 31 outliers\n",
      "thr -6.80 yields 62 outliers\n",
      "thr -6.25 yields 153 outliers\n",
      "thr -5.71 yields 320 outliers\n",
      "thr -5.17 yields 608 outliers\n"
     ]
    }
   ],
   "source": [
    "for thr in np.linspace(np.min(scores), np.max(scores), 10):\n",
    "    # samples below threshold\n",
    "    outliers_total = np.sum(scores < thr)\n",
    "    print(f\"thr {thr:.2f} yields {outliers_total} outliers\")"
   ]
  },
  {
   "cell_type": "code",
   "execution_count": null,
   "metadata": {},
   "outputs": [],
   "source": []
  }
 ],
 "metadata": {
  "kernelspec": {
   "display_name": "Python 3.9.12 ('base')",
   "language": "python",
   "name": "python3"
  },
  "language_info": {
   "codemirror_mode": {
    "name": "ipython",
    "version": 3
   },
   "file_extension": ".py",
   "mimetype": "text/x-python",
   "name": "python",
   "nbconvert_exporter": "python",
   "pygments_lexer": "ipython3",
   "version": "3.9.12"
  },
  "orig_nbformat": 4,
  "vscode": {
   "interpreter": {
    "hash": "d1cfeb6185f643ec464a079a5b9eb481464a0163b688360f3347b9b9d5311284"
   }
  }
 },
 "nbformat": 4,
 "nbformat_minor": 2
}
