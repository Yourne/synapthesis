{
 "cells": [
  {
   "cell_type": "code",
   "execution_count": 1,
   "id": "57f23be1-e105-4c98-b3e4-a0c6a0827200",
   "metadata": {},
   "outputs": [],
   "source": [
    "import numpy as np\n",
    "import pandas as pd\n",
    "from os import path\n",
    "\n",
    "data_directory = \"synData28June\"\n",
    "lotti_fn = \"export_lotti_veneto_2016_2018_giulio.csv\"\n",
    "vincitori_fn = \"export_vincitori_veneto_2016_2018_giulio.csv\"\n",
    "\n",
    "lotti = pd.read_csv(path.join(data_directory, lotti_fn))\n",
    "vincitori = pd.read_csv(path.join(data_directory, vincitori_fn))"
   ]
  },
  {
   "cell_type": "code",
   "execution_count": 2,
   "id": "f228b14b-f0c9-4651-a61f-5be7164b099b",
   "metadata": {},
   "outputs": [],
   "source": [
    "import string\n",
    "hash_to_letter = dict()\n",
    "\n",
    "for i, centrale_committenza in enumerate(lotti.md5.unique()):\n",
    "    hash_to_letter[centrale_committenza] = string.ascii_uppercase[i]\n",
    "lotti = lotti.replace({\"md5\": hash_to_letter})"
   ]
  },
  {
   "cell_type": "markdown",
   "id": "028b1262-251b-48a0-8c7e-f6b66623f3e0",
   "metadata": {},
   "source": [
    "let us focus on a single market as defined by the *common procurement vocabulary*"
   ]
  },
  {
   "cell_type": "code",
   "execution_count": 3,
   "id": "a47c604c-a3fa-4e49-b744-a0591c3dc12b",
   "metadata": {},
   "outputs": [
    {
     "data": {
      "text/plain": [
       "0    3121.0\n",
       "Name: id_cpv, dtype: float64"
      ]
     },
     "execution_count": 3,
     "metadata": {},
     "output_type": "execute_result"
    }
   ],
   "source": [
    "lotti[\"id_cpv\"].mode()"
   ]
  },
  {
   "cell_type": "code",
   "execution_count": 4,
   "id": "454e7534-bc5e-49d6-b4e4-cc03233a28fe",
   "metadata": {},
   "outputs": [],
   "source": [
    "B_market = lotti[lotti.id_cpv == lotti.id_cpv.mode().values[0]]"
   ]
  },
  {
   "cell_type": "code",
   "execution_count": 5,
   "id": "71acbc96-a5d4-4b38-b014-78c55340ccfd",
   "metadata": {},
   "outputs": [
    {
     "data": {
      "text/plain": [
       "0"
      ]
     },
     "execution_count": 5,
     "metadata": {},
     "output_type": "execute_result"
    }
   ],
   "source": [
    "np.sum(B_market.importo.isna())"
   ]
  },
  {
   "cell_type": "code",
   "execution_count": 6,
   "id": "a8b9e7ee-1261-44af-8e78-6b97c47b17bf",
   "metadata": {},
   "outputs": [
    {
     "name": "stdout",
     "output_type": "stream",
     "text": [
      "importo $\\in$ (4498870906.88, 0.01)\n",
      "sample percentage 98.51\n"
     ]
    }
   ],
   "source": [
    "th = 6e6\n",
    "print(f\"importo $\\in$ ({B_market.importo.max()}, {B_market.importo.min()})\")\n",
    "print(f\"sample percentage {np.sum(B_market.importo < th) / len(B_market) * 100 :.2f}\")"
   ]
  },
  {
   "cell_type": "code",
   "execution_count": 7,
   "id": "9cf3b981-42e8-4828-a2c8-ad0c8c18a852",
   "metadata": {},
   "outputs": [
    {
     "data": {
      "text/plain": [
       "<AxesSubplot:xlabel='importo', ylabel='Count'>"
      ]
     },
     "execution_count": 7,
     "metadata": {},
     "output_type": "execute_result"
    },
    {
     "data": {
      "image/png": "[encoded data removed]",
      "text/plain": [
       "<Figure size 432x288 with 1 Axes>"
      ]
     },
     "metadata": {
      "needs_background": "light"
     },
     "output_type": "display_data"
    }
   ],
   "source": [
    "import seaborn as sns\n",
    "\n",
    "sns.histplot(B_market.importo[B_market.importo < th], bins = 100)"
   ]
  },
  {
   "cell_type": "code",
   "execution_count": 8,
   "id": "ed1fe05f-0489-4f41-8d4e-0f64da0f6dc8",
   "metadata": {},
   "outputs": [
    {
     "data": {
      "text/plain": [
       "<AxesSubplot:xlabel='importo', ylabel='Count'>"
      ]
     },
     "execution_count": 8,
     "metadata": {},
     "output_type": "execute_result"
    },
    {
     "data": {
      "image/png": "[encoded data removed]",
      "text/plain": [
       "<Figure size 432x288 with 1 Axes>"
      ]
     },
     "metadata": {
      "needs_background": "light"
     },
     "output_type": "display_data"
    }
   ],
   "source": [
    "sns.histplot(np.log(B_market.importo), bins=100)"
   ]
  },
  {
   "cell_type": "code",
   "execution_count": 9,
   "id": "5b6095f3-78c2-4650-954d-6bdd4a1a3844",
   "metadata": {},
   "outputs": [
    {
     "data": {
      "text/plain": [
       "<AxesSubplot:xlabel='importo', ylabel='Count'>"
      ]
     },
     "execution_count": 9,
     "metadata": {},
     "output_type": "execute_result"
    },
    {
     "data": {
      "image/png": "[encoded data removed]",
      "text/plain": [
       "<Figure size 432x288 with 1 Axes>"
      ]
     },
     "metadata": {
      "needs_background": "light"
     },
     "output_type": "display_data"
    }
   ],
   "source": [
    "cut_off = 10\n",
    "sns.histplot(np.log(B_market.importo)[np.log(B_market.importo)>cut_off], bins=100)"
   ]
  },
  {
   "cell_type": "code",
   "execution_count": 10,
   "id": "37630e94-cdb2-4ea7-a3d8-71447460a3a3",
   "metadata": {},
   "outputs": [
    {
     "data": {
      "text/html": [
       "<div>\n",
       "<style scoped>\n",
       "    .dataframe tbody tr th:only-of-type {\n",
       "        vertical-align: middle;\n",
       "    }\n",
       "\n",
       "    .dataframe tbody tr th {\n",
       "        vertical-align: top;\n",
       "    }\n",
       "\n",
       "    .dataframe thead th {\n",
       "        text-align: right;\n",
       "    }\n",
       "</style>\n",
       "<table border=\"1\" class=\"dataframe\">\n",
       "  <thead>\n",
       "    <tr style=\"text-align: right;\">\n",
       "      <th></th>\n",
       "      <th>id_lotto</th>\n",
       "      <th>oggetto</th>\n",
       "      <th>id_scelta_contraente</th>\n",
       "      <th>id_cpv</th>\n",
       "      <th>importo</th>\n",
       "      <th>importo_base_asta</th>\n",
       "      <th>importo_liquidato</th>\n",
       "      <th>data_inizio</th>\n",
       "      <th>data_fine</th>\n",
       "      <th>data_inferita_calcolata</th>\n",
       "      <th>id_lsf</th>\n",
       "      <th>id_mod_realizz</th>\n",
       "      <th>id_forma_giuridica</th>\n",
       "      <th>md5</th>\n",
       "    </tr>\n",
       "  </thead>\n",
       "  <tbody>\n",
       "    <tr>\n",
       "      <th>326</th>\n",
       "      <td>1455175</td>\n",
       "      <td>GARA REGIONALE FARMACI 2018/2020 - CIG DERIVAT...</td>\n",
       "      <td>26.0</td>\n",
       "      <td>3121.0</td>\n",
       "      <td>2260258.98</td>\n",
       "      <td>NaN</td>\n",
       "      <td>NaN</td>\n",
       "      <td>2018-04-01</td>\n",
       "      <td>2020-04-30</td>\n",
       "      <td>True</td>\n",
       "      <td>3.0</td>\n",
       "      <td>14.0</td>\n",
       "      <td>135</td>\n",
       "      <td>B</td>\n",
       "    </tr>\n",
       "    <tr>\n",
       "      <th>1192</th>\n",
       "      <td>4828381</td>\n",
       "      <td>CRAV APPALTO SPECIFICO FORNITURA FARMACI AZIEN...</td>\n",
       "      <td>26.0</td>\n",
       "      <td>3121.0</td>\n",
       "      <td>352402.05</td>\n",
       "      <td>NaN</td>\n",
       "      <td>97671.07</td>\n",
       "      <td>2018-05-01</td>\n",
       "      <td>2020-12-31</td>\n",
       "      <td>True</td>\n",
       "      <td>3.0</td>\n",
       "      <td>14.0</td>\n",
       "      <td>135</td>\n",
       "      <td>B</td>\n",
       "    </tr>\n",
       "    <tr>\n",
       "      <th>1614</th>\n",
       "      <td>11849649</td>\n",
       "      <td>GR FARMACI 2018/2020 - II^ PROCEDURA - CIG DER...</td>\n",
       "      <td>26.0</td>\n",
       "      <td>3121.0</td>\n",
       "      <td>87909.35</td>\n",
       "      <td>NaN</td>\n",
       "      <td>NaN</td>\n",
       "      <td>2018-05-24</td>\n",
       "      <td>2020-04-30</td>\n",
       "      <td>True</td>\n",
       "      <td>3.0</td>\n",
       "      <td>14.0</td>\n",
       "      <td>135</td>\n",
       "      <td>B</td>\n",
       "    </tr>\n",
       "    <tr>\n",
       "      <th>1920</th>\n",
       "      <td>17271979</td>\n",
       "      <td>GARA REGIONALE FARMACI 2018/2020 - CIG DERIEVA...</td>\n",
       "      <td>26.0</td>\n",
       "      <td>3121.0</td>\n",
       "      <td>1743672.00</td>\n",
       "      <td>NaN</td>\n",
       "      <td>NaN</td>\n",
       "      <td>2018-04-01</td>\n",
       "      <td>2020-04-30</td>\n",
       "      <td>True</td>\n",
       "      <td>3.0</td>\n",
       "      <td>14.0</td>\n",
       "      <td>135</td>\n",
       "      <td>B</td>\n",
       "    </tr>\n",
       "    <tr>\n",
       "      <th>2051</th>\n",
       "      <td>887940180</td>\n",
       "      <td>GARA REGIONALE FARMACI - 2^ PROCEDURA - DETERM...</td>\n",
       "      <td>26.0</td>\n",
       "      <td>3121.0</td>\n",
       "      <td>1151361.00</td>\n",
       "      <td>NaN</td>\n",
       "      <td>NaN</td>\n",
       "      <td>2018-07-11</td>\n",
       "      <td>2020-04-30</td>\n",
       "      <td>True</td>\n",
       "      <td>3.0</td>\n",
       "      <td>14.0</td>\n",
       "      <td>135</td>\n",
       "      <td>B</td>\n",
       "    </tr>\n",
       "    <tr>\n",
       "      <th>...</th>\n",
       "      <td>...</td>\n",
       "      <td>...</td>\n",
       "      <td>...</td>\n",
       "      <td>...</td>\n",
       "      <td>...</td>\n",
       "      <td>...</td>\n",
       "      <td>...</td>\n",
       "      <td>...</td>\n",
       "      <td>...</td>\n",
       "      <td>...</td>\n",
       "      <td>...</td>\n",
       "      <td>...</td>\n",
       "      <td>...</td>\n",
       "      <td>...</td>\n",
       "    </tr>\n",
       "    <tr>\n",
       "      <th>945265</th>\n",
       "      <td>887903314</td>\n",
       "      <td>FORNITURA FARMACO KETAMINA MOLT LOTTO 1340/A -...</td>\n",
       "      <td>26.0</td>\n",
       "      <td>3121.0</td>\n",
       "      <td>56296.00</td>\n",
       "      <td>NaN</td>\n",
       "      <td>13701.56</td>\n",
       "      <td>2018-05-01</td>\n",
       "      <td>2021-10-31</td>\n",
       "      <td>True</td>\n",
       "      <td>3.0</td>\n",
       "      <td>14.0</td>\n",
       "      <td>135</td>\n",
       "      <td>B</td>\n",
       "    </tr>\n",
       "    <tr>\n",
       "      <th>945266</th>\n",
       "      <td>887919610</td>\n",
       "      <td>FORNITURA FARMACI LOTTO 805/A  - CEFTRIAXONE  ...</td>\n",
       "      <td>26.0</td>\n",
       "      <td>3121.0</td>\n",
       "      <td>94349.00</td>\n",
       "      <td>NaN</td>\n",
       "      <td>32530.10</td>\n",
       "      <td>2018-05-01</td>\n",
       "      <td>2021-10-31</td>\n",
       "      <td>True</td>\n",
       "      <td>3.0</td>\n",
       "      <td>14.0</td>\n",
       "      <td>135</td>\n",
       "      <td>B</td>\n",
       "    </tr>\n",
       "    <tr>\n",
       "      <th>945267</th>\n",
       "      <td>887903762</td>\n",
       "      <td>FORNITURA FARMACI LOTTO 984/B - SUBCUVIA  - IM...</td>\n",
       "      <td>26.0</td>\n",
       "      <td>3121.0</td>\n",
       "      <td>245112.00</td>\n",
       "      <td>NaN</td>\n",
       "      <td>46833.90</td>\n",
       "      <td>2018-05-01</td>\n",
       "      <td>2021-10-31</td>\n",
       "      <td>True</td>\n",
       "      <td>3.0</td>\n",
       "      <td>14.0</td>\n",
       "      <td>135</td>\n",
       "      <td>B</td>\n",
       "    </tr>\n",
       "    <tr>\n",
       "      <th>945268</th>\n",
       "      <td>887904257</td>\n",
       "      <td>FORNITURA FARMACO LUAN LOTTO 1354/A - IMPRESA ...</td>\n",
       "      <td>26.0</td>\n",
       "      <td>3121.0</td>\n",
       "      <td>48930.00</td>\n",
       "      <td>NaN</td>\n",
       "      <td>15295.59</td>\n",
       "      <td>2018-05-01</td>\n",
       "      <td>2021-10-31</td>\n",
       "      <td>True</td>\n",
       "      <td>3.0</td>\n",
       "      <td>14.0</td>\n",
       "      <td>135</td>\n",
       "      <td>B</td>\n",
       "    </tr>\n",
       "    <tr>\n",
       "      <th>945769</th>\n",
       "      <td>18363114</td>\n",
       "      <td>Lotto 307 Esclusivi - DAPTOMICINA SOLUZ.INIETT...</td>\n",
       "      <td>26.0</td>\n",
       "      <td>3121.0</td>\n",
       "      <td>82000.00</td>\n",
       "      <td>NaN</td>\n",
       "      <td>6000.50</td>\n",
       "      <td>2016-05-18</td>\n",
       "      <td>2017-06-30</td>\n",
       "      <td>True</td>\n",
       "      <td>3.0</td>\n",
       "      <td>14.0</td>\n",
       "      <td>135</td>\n",
       "      <td>B</td>\n",
       "    </tr>\n",
       "  </tbody>\n",
       "</table>\n",
       "<p>4198 rows × 14 columns</p>\n",
       "</div>"
      ],
      "text/plain": [
       "         id_lotto                                            oggetto  \\\n",
       "326       1455175  GARA REGIONALE FARMACI 2018/2020 - CIG DERIVAT...   \n",
       "1192      4828381  CRAV APPALTO SPECIFICO FORNITURA FARMACI AZIEN...   \n",
       "1614     11849649  GR FARMACI 2018/2020 - II^ PROCEDURA - CIG DER...   \n",
       "1920     17271979  GARA REGIONALE FARMACI 2018/2020 - CIG DERIEVA...   \n",
       "2051    887940180  GARA REGIONALE FARMACI - 2^ PROCEDURA - DETERM...   \n",
       "...           ...                                                ...   \n",
       "945265  887903314  FORNITURA FARMACO KETAMINA MOLT LOTTO 1340/A -...   \n",
       "945266  887919610  FORNITURA FARMACI LOTTO 805/A  - CEFTRIAXONE  ...   \n",
       "945267  887903762  FORNITURA FARMACI LOTTO 984/B - SUBCUVIA  - IM...   \n",
       "945268  887904257  FORNITURA FARMACO LUAN LOTTO 1354/A - IMPRESA ...   \n",
       "945769   18363114  Lotto 307 Esclusivi - DAPTOMICINA SOLUZ.INIETT...   \n",
       "\n",
       "        id_scelta_contraente  id_cpv     importo  importo_base_asta  \\\n",
       "326                     26.0  3121.0  2260258.98                NaN   \n",
       "1192                    26.0  3121.0   352402.05                NaN   \n",
       "1614                    26.0  3121.0    87909.35                NaN   \n",
       "1920                    26.0  3121.0  1743672.00                NaN   \n",
       "2051                    26.0  3121.0  1151361.00                NaN   \n",
       "...                      ...     ...         ...                ...   \n",
       "945265                  26.0  3121.0    56296.00                NaN   \n",
       "945266                  26.0  3121.0    94349.00                NaN   \n",
       "945267                  26.0  3121.0   245112.00                NaN   \n",
       "945268                  26.0  3121.0    48930.00                NaN   \n",
       "945769                  26.0  3121.0    82000.00                NaN   \n",
       "\n",
       "        importo_liquidato data_inizio   data_fine  data_inferita_calcolata  \\\n",
       "326                   NaN  2018-04-01  2020-04-30                     True   \n",
       "1192             97671.07  2018-05-01  2020-12-31                     True   \n",
       "1614                  NaN  2018-05-24  2020-04-30                     True   \n",
       "1920                  NaN  2018-04-01  2020-04-30                     True   \n",
       "2051                  NaN  2018-07-11  2020-04-30                     True   \n",
       "...                   ...         ...         ...                      ...   \n",
       "945265           13701.56  2018-05-01  2021-10-31                     True   \n",
       "945266           32530.10  2018-05-01  2021-10-31                     True   \n",
       "945267           46833.90  2018-05-01  2021-10-31                     True   \n",
       "945268           15295.59  2018-05-01  2021-10-31                     True   \n",
       "945769            6000.50  2016-05-18  2017-06-30                     True   \n",
       "\n",
       "        id_lsf  id_mod_realizz  id_forma_giuridica md5  \n",
       "326        3.0            14.0                 135   B  \n",
       "1192       3.0            14.0                 135   B  \n",
       "1614       3.0            14.0                 135   B  \n",
       "1920       3.0            14.0                 135   B  \n",
       "2051       3.0            14.0                 135   B  \n",
       "...        ...             ...                 ...  ..  \n",
       "945265     3.0            14.0                 135   B  \n",
       "945266     3.0            14.0                 135   B  \n",
       "945267     3.0            14.0                 135   B  \n",
       "945268     3.0            14.0                 135   B  \n",
       "945769     3.0            14.0                 135   B  \n",
       "\n",
       "[4198 rows x 14 columns]"
      ]
     },
     "execution_count": 10,
     "metadata": {},
     "output_type": "execute_result"
    }
   ],
   "source": [
    "B_market[np.log(B_market.importo)>cut_off]"
   ]
  },
  {
   "cell_type": "markdown",
   "id": "a2853b17-5c6b-4382-9c3f-6c7376754978",
   "metadata": {},
   "source": [
    "analisi di questo specifico mercato"
   ]
  },
  {
   "cell_type": "raw",
   "id": "8390af5a-d84f-4533-bff0-cd35f297e066",
   "metadata": {},
   "source": [
    "for attribute in B_market.columns:\n",
    "    print(B_market[np.log(B_market.importo)>cut_off].groupby(attribute).size())\n",
    "    print()\n",
    "    print()"
   ]
  },
  {
   "cell_type": "code",
   "execution_count": 12,
   "id": "5f1d010f-a793-49a1-9c59-071e86ff78ef",
   "metadata": {},
   "outputs": [],
   "source": [
    "market = B_market[[\"importo\", \"importo_liquidato\", \"id_mod_realizz\", \"id_forma_giuridica\"]]\n",
    "market = market.fillna(0)"
   ]
  },
  {
   "cell_type": "code",
   "execution_count": 13,
   "id": "7980c41f-76dd-40ae-a3b9-587a9481f686",
   "metadata": {},
   "outputs": [],
   "source": [
    "from sklearn.ensemble import IsolationForest\n",
    "from sklearn.model_selection import train_test_split\n",
    "\n",
    "detector = IsolationForest()\n",
    "\n",
    "y = detector.fit_predict(market)"
   ]
  },
  {
   "cell_type": "code",
   "execution_count": 14,
   "id": "e4cb4b25-e1f7-435a-ac16-646ebb2dd50d",
   "metadata": {},
   "outputs": [],
   "source": [
    "from sklearn.decomposition import PCA\n",
    "pca = PCA(n_components=2)\n",
    "\n",
    "X = pca.fit_transform(market)"
   ]
  },
  {
   "cell_type": "code",
   "execution_count": 15,
   "id": "8b1d956b-bfcd-4db1-8bce-15eecb7c9cc9",
   "metadata": {},
   "outputs": [
    {
     "data": {
      "text/plain": [
       "{-1, 1}"
      ]
     },
     "execution_count": 15,
     "metadata": {},
     "output_type": "execute_result"
    }
   ],
   "source": [
    "set(y)"
   ]
  },
  {
   "cell_type": "code",
   "execution_count": 17,
   "id": "686d49cf-af04-44ea-ada4-fd1ba15583be",
   "metadata": {},
   "outputs": [
    {
     "name": "stderr",
     "output_type": "stream",
     "text": [
      "/var/folders/zw/jt2ycyfx58j5m2lkspywwvnm0000gn/T/ipykernel_3094/597447282.py:5: RuntimeWarning: invalid value encountered in log\n",
      "  plt.scatter(np.log(X[:, 0][y==flag]), np.log(X[:, 1][y==flag]), alpha=.6, color=color, label=label)\n"
     ]
    },
    {
     "data": {
      "image/png": "[encoded data removed]",
      "text/plain": [
       "<Figure size 432x288 with 1 Axes>"
      ]
     },
     "metadata": {
      "needs_background": "light"
     },
     "output_type": "display_data"
    }
   ],
   "source": [
    "import matplotlib.pyplot as plt\n",
    "colors = [\"darkorange\", \"navy\"]\n",
    "labels = [\"out\", \"in\"]\n",
    "for flag, color, label in zip(set(y), colors, labels):\n",
    "    plt.scatter(np.log(X[:, 0][y==flag]), np.log(X[:, 1][y==flag]), alpha=.6, color=color, label=label)\n",
    "plt.legend()\n",
    "plt.show()"
   ]
  },
  {
   "cell_type": "code",
   "execution_count": null,
   "id": "463e5908-a077-4fce-b26f-c7cad54e3aa3",
   "metadata": {},
   "outputs": [],
   "source": []
  }
 ],
 "metadata": {
  "kernelspec": {
   "display_name": "Python 3 (ipykernel)",
   "language": "python",
   "name": "python3"
  },
  "language_info": {
   "codemirror_mode": {
    "name": "ipython",
    "version": 3
   },
   "file_extension": ".py",
   "mimetype": "text/x-python",
   "name": "python",
   "nbconvert_exporter": "python",
   "pygments_lexer": "ipython3",
   "version": "3.9.13"
  }
 },
 "nbformat": 4,
 "nbformat_minor": 5
}
