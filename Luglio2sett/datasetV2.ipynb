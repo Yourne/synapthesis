{
 "cells": [
  {
   "cell_type": "code",
   "execution_count": 1,
   "id": "306fe8ef-8299-4576-a7d0-125bd580976d",
   "metadata": {},
   "outputs": [],
   "source": [
    "from os import path\n",
    "import numpy as np\n",
    "import pandas as pd\n",
    "import matplotlib.pyplot as plt\n",
    "import seaborn as sns\n",
    "import utils\n",
    "\n",
    "data_directory = \"/Users/nepal/Documents/synapthesis/synData6July\"\n",
    "lotti_fn = \"export_lotti_veneto_2016_2018_giulio_v2.csv\"\n",
    "vincitori_fn = \"export_vincitori_veneto_2016_2018_giulio_v2.csv\"\n",
    "\n",
    "lotti = pd.read_csv(path.join(data_directory, lotti_fn))\n",
    "vincitori = pd.read_csv(path.join(data_directory, vincitori_fn))\n",
    "\n",
    "lotti.data_inizio = pd.to_datetime(lotti.data_inizio, yearfirst=True)\n",
    "lotti.data_fine = pd.to_datetime(lotti.data_fine, yearfirst=True)\n",
    "lotti.data_inferita = pd.to_datetime(lotti.data_inferita, yearfirst=True)"
   ]
  },
  {
   "cell_type": "code",
   "execution_count": 2,
   "id": "059098dd-4a26-4011-aa23-e74ba2766161",
   "metadata": {},
   "outputs": [
    {
     "name": "stdout",
     "output_type": "stream",
     "text": [
      "SHAPE: (1382247, 16)\n",
      "\n",
      "DTYPES\n",
      "id_lotto                         int64\n",
      "id_pa                            int64\n",
      "oggetto                         object\n",
      "id_scelta_contraente           float64\n",
      "importo                        float64\n",
      "importo_base_asta              float64\n",
      "importo_liquidato              float64\n",
      "data_inizio             datetime64[ns]\n",
      "data_fine               datetime64[ns]\n",
      "data_inferita           datetime64[ns]\n",
      "id_lsf                         float64\n",
      "id_mod_realizz                 float64\n",
      "id_forma_giuridica               int64\n",
      "uber_forma_giuridica            object\n",
      "cpv                            float64\n",
      "cpv_vero                        object\n",
      "dtype: object\n",
      "\n",
      "COMPLETENESS percentages (100 means no NaNs)\n",
      "id_lotto                100.000000\n",
      "id_pa                   100.000000\n",
      "oggetto                  99.987122\n",
      "id_scelta_contraente     99.903273\n",
      "importo                  99.603038\n",
      "importo_base_asta         1.890834\n",
      "importo_liquidato        69.557973\n",
      "data_inizio              68.549036\n",
      "data_fine                65.455161\n",
      "data_inferita            99.966070\n",
      "id_lsf                   97.141972\n",
      "id_mod_realizz            4.717391\n",
      "id_forma_giuridica      100.000000\n",
      "uber_forma_giuridica     99.998698\n",
      "cpv                      87.745750\n",
      "cpv_vero                  6.243023\n",
      "dtype: float64\n"
     ]
    }
   ],
   "source": [
    "utils.print_df_measures(lotti)"
   ]
  },
  {
   "cell_type": "markdown",
   "id": "3e8095a9-4628-49fb-8679-dc5ad9cda000",
   "metadata": {},
   "source": [
    "# Data preparation"
   ]
  },
  {
   "cell_type": "markdown",
   "id": "238cfa2f-936e-4843-b740-eba31fd635eb",
   "metadata": {},
   "source": [
    "## lotti dataframe"
   ]
  },
  {
   "cell_type": "raw",
   "id": "e0b04b49-0aec-43c4-aaee-033b059eea47",
   "metadata": {},
   "source": [
    "lotti.loc[lotti.importo_base_asta.notna() & lotti.importo.isna(), [\"importo\", \"importo_base_asta\"]]"
   ]
  },
  {
   "cell_type": "code",
   "execution_count": 3,
   "id": "c90d6a8b-e178-47bf-b21e-3dc5f0e63136",
   "metadata": {},
   "outputs": [
    {
     "name": "stdout",
     "output_type": "stream",
     "text": [
      "importo values to substitute:           0.0012%\n"
     ]
    }
   ],
   "source": [
    "lotti = utils.replace_missing_value(lotti, \"importo\", \"importo_base_asta\")"
   ]
  },
  {
   "cell_type": "code",
   "execution_count": 4,
   "id": "a08ac5eb-5056-4faf-be16-76d571726d7d",
   "metadata": {},
   "outputs": [
    {
     "name": "stdout",
     "output_type": "stream",
     "text": [
      "data_inizio values to substitute:           0.3145%\n"
     ]
    }
   ],
   "source": [
    "lotti = utils.replace_missing_value(lotti, \"data_inizio\", \"data_inferita\")"
   ]
  },
  {
   "cell_type": "code",
   "execution_count": 5,
   "id": "a8d92205-b1d2-4954-b4a9-408ca3797409",
   "metadata": {},
   "outputs": [],
   "source": [
    "# drop non relevante table attributes\n",
    "lotti = lotti.drop(columns=[\"oggetto\", \"importo_liquidato\", \"importo_base_asta\", \"data_inferita\", \"id_mod_realizz\", \"cpv_vero\"])"
   ]
  },
  {
   "cell_type": "markdown",
   "id": "78c628ca-0380-46e7-8e32-b292492d2ca9",
   "metadata": {},
   "source": [
    "per il momento scarto tutte le transazioni con almeno un missing value.\n",
    "eventualmente quando non mi servirà la durata, tornerò indietro. "
   ]
  },
  {
   "cell_type": "code",
   "execution_count": 6,
   "id": "383a8f71-996f-4bec-818c-9b7a2b76a10e",
   "metadata": {},
   "outputs": [],
   "source": [
    "lotti = lotti.dropna()"
   ]
  },
  {
   "cell_type": "markdown",
   "id": "a24a40e5-5d56-4414-9711-b98cd3b8b66f",
   "metadata": {},
   "source": [
    "## cast to int64 cols now w/out np.nan"
   ]
  },
  {
   "cell_type": "code",
   "execution_count": 7,
   "id": "8b5b305b-d8bf-49e7-ba2d-1874da985b22",
   "metadata": {},
   "outputs": [
    {
     "name": "stdout",
     "output_type": "stream",
     "text": [
      "SHAPE: (788453, 10)\n",
      "\n",
      "DTYPES\n",
      "id_lotto                         int64\n",
      "id_pa                            int64\n",
      "id_scelta_contraente             int64\n",
      "importo                        float64\n",
      "data_inizio             datetime64[ns]\n",
      "data_fine               datetime64[ns]\n",
      "id_lsf                           int64\n",
      "id_forma_giuridica               int64\n",
      "uber_forma_giuridica            object\n",
      "cpv                              int64\n",
      "dtype: object\n",
      "\n",
      "COMPLETENESS percentages (100 means no NaNs)\n",
      "id_lotto                100.0\n",
      "id_pa                   100.0\n",
      "id_scelta_contraente    100.0\n",
      "importo                 100.0\n",
      "data_inizio             100.0\n",
      "data_fine               100.0\n",
      "id_lsf                  100.0\n",
      "id_forma_giuridica      100.0\n",
      "uber_forma_giuridica    100.0\n",
      "cpv                     100.0\n",
      "dtype: float64\n"
     ]
    }
   ],
   "source": [
    "lotti.id_scelta_contraente = lotti.id_scelta_contraente.astype('int')\n",
    "lotti.id_lsf = lotti.id_lsf.astype('int')\n",
    "lotti.cpv = lotti.cpv.astype('int')\n",
    "utils.print_df_measures(lotti)"
   ]
  },
  {
   "cell_type": "markdown",
   "id": "4ed8eda1-4637-4902-9997-a6da42a2f655",
   "metadata": {},
   "source": [
    "## vincitori dataframe\n"
   ]
  },
  {
   "cell_type": "code",
   "execution_count": 8,
   "id": "dd4386ad-a94f-4b37-ad24-496ad9450d15",
   "metadata": {},
   "outputs": [
    {
     "name": "stdout",
     "output_type": "stream",
     "text": [
      "SHAPE: (917316, 4)\n",
      "\n",
      "DTYPES\n",
      "id_lotto                 int64\n",
      "id_be                    int64\n",
      "id_forma_giuridica       int64\n",
      "uber_forma_giuridica    object\n",
      "dtype: object\n",
      "\n",
      "COMPLETENESS percentages (100 means no NaNs)\n",
      "id_lotto                100.000000\n",
      "id_be                   100.000000\n",
      "id_forma_giuridica      100.000000\n",
      "uber_forma_giuridica     99.893603\n",
      "dtype: float64\n"
     ]
    }
   ],
   "source": [
    "utils.print_df_measures(vincitori)"
   ]
  },
  {
   "cell_type": "code",
   "execution_count": 9,
   "id": "6124ddd0-6ffe-446c-ac02-829534e6da60",
   "metadata": {},
   "outputs": [],
   "source": [
    "vincitori = vincitori.dropna()"
   ]
  },
  {
   "cell_type": "markdown",
   "id": "fc6a7b8d-9ff8-4788-9f8f-587b937edaaa",
   "metadata": {},
   "source": [
    "## lotti merge vincitori"
   ]
  },
  {
   "cell_type": "code",
   "execution_count": 10,
   "id": "43fca1f7-de13-45cd-bb49-56c1afd7148b",
   "metadata": {},
   "outputs": [],
   "source": [
    "df = lotti.merge(vincitori, on=\"id_lotto\", how=\"inner\", suffixes=(\"_acquirente\", \"_fornitore\"))"
   ]
  },
  {
   "cell_type": "code",
   "execution_count": 11,
   "id": "d8345478-59a5-4cac-911c-b400e36f5aa1",
   "metadata": {},
   "outputs": [
    {
     "name": "stdout",
     "output_type": "stream",
     "text": [
      "SHAPE: (755757, 13)\n",
      "\n",
      "DTYPES\n",
      "id_lotto                                    int64\n",
      "id_pa                                       int64\n",
      "id_scelta_contraente                        int64\n",
      "importo                                   float64\n",
      "data_inizio                        datetime64[ns]\n",
      "data_fine                          datetime64[ns]\n",
      "id_lsf                                      int64\n",
      "id_forma_giuridica_acquirente               int64\n",
      "uber_forma_giuridica_acquirente            object\n",
      "cpv                                         int64\n",
      "id_be                                       int64\n",
      "id_forma_giuridica_fornitore                int64\n",
      "uber_forma_giuridica_fornitore             object\n",
      "dtype: object\n",
      "\n",
      "COMPLETENESS percentages (100 means no NaNs)\n",
      "id_lotto                           100.0\n",
      "id_pa                              100.0\n",
      "id_scelta_contraente               100.0\n",
      "importo                            100.0\n",
      "data_inizio                        100.0\n",
      "data_fine                          100.0\n",
      "id_lsf                             100.0\n",
      "id_forma_giuridica_acquirente      100.0\n",
      "uber_forma_giuridica_acquirente    100.0\n",
      "cpv                                100.0\n",
      "id_be                              100.0\n",
      "id_forma_giuridica_fornitore       100.0\n",
      "uber_forma_giuridica_fornitore     100.0\n",
      "dtype: float64\n"
     ]
    }
   ],
   "source": [
    "utils.print_df_measures(df)"
   ]
  },
  {
   "cell_type": "markdown",
   "id": "36786583-a28f-4c6c-bb0b-74251b195eb0",
   "metadata": {},
   "source": [
    "# feature extraction"
   ]
  },
  {
   "cell_type": "code",
   "execution_count": 12,
   "id": "f7e383e1-9b89-45c0-ba04-16e7bd4cbc5d",
   "metadata": {},
   "outputs": [],
   "source": [
    "# durata\n",
    "df['durata'] = df.data_fine - df.data_inizio"
   ]
  },
  {
   "cell_type": "code",
   "execution_count": 13,
   "id": "ac8132fa-e9f9-4768-9c55-dda80e654e46",
   "metadata": {},
   "outputs": [],
   "source": [
    "# fatturato mediano annuo fornitori\n",
    "supplier_rev = utils.compute_revenue_year(df, \"id_be\", \"data_inizio\").median(axis=1).rename(\"fatt_med_be\")\n",
    "df = df.merge(supplier_rev, on=\"id_be\", how=\"left\")"
   ]
  },
  {
   "cell_type": "code",
   "execution_count": 15,
   "id": "51822408-f648-43a2-bc65-f078fb8aca66",
   "metadata": {},
   "outputs": [],
   "source": [
    "# erogato mediano annuo pa\n",
    "buyer_rev = utils.compute_revenue_year(df, \"id_pa\", \"data_inizio\").median(axis=1).rename(\"erogato_med_pa\")\n",
    "df = df.merge(supplier_rev, on=\"id_be\", how=\"left\")"
   ]
  },
  {
   "cell_type": "code",
   "execution_count": 16,
   "id": "8b20a1c9-f31e-46c0-8872-a07b07b19427",
   "metadata": {},
   "outputs": [
    {
     "name": "stdout",
     "output_type": "stream",
     "text": [
      "SHAPE: (755757, 16)\n",
      "\n",
      "DTYPES\n",
      "id_lotto                                     int64\n",
      "id_pa                                        int64\n",
      "id_scelta_contraente                         int64\n",
      "importo                                    float64\n",
      "data_inizio                         datetime64[ns]\n",
      "data_fine                           datetime64[ns]\n",
      "id_lsf                                       int64\n",
      "id_forma_giuridica_acquirente                int64\n",
      "uber_forma_giuridica_acquirente             object\n",
      "cpv                                          int64\n",
      "id_be                                        int64\n",
      "id_forma_giuridica_fornitore                 int64\n",
      "uber_forma_giuridica_fornitore              object\n",
      "durata                             timedelta64[ns]\n",
      "fatt_med_be_x                              float64\n",
      "fatt_med_be_y                              float64\n",
      "dtype: object\n",
      "\n",
      "COMPLETENESS percentages (100 means no NaNs)\n",
      "id_lotto                           100.0\n",
      "id_pa                              100.0\n",
      "id_scelta_contraente               100.0\n",
      "importo                            100.0\n",
      "data_inizio                        100.0\n",
      "data_fine                          100.0\n",
      "id_lsf                             100.0\n",
      "id_forma_giuridica_acquirente      100.0\n",
      "uber_forma_giuridica_acquirente    100.0\n",
      "cpv                                100.0\n",
      "id_be                              100.0\n",
      "id_forma_giuridica_fornitore       100.0\n",
      "uber_forma_giuridica_fornitore     100.0\n",
      "durata                             100.0\n",
      "fatt_med_be_x                      100.0\n",
      "fatt_med_be_y                      100.0\n",
      "dtype: float64\n"
     ]
    }
   ],
   "source": [
    "utils.print_df_measures(df)"
   ]
  },
  {
   "cell_type": "code",
   "execution_count": null,
   "id": "c2a7ee12-9b5f-42f7-a64a-4b7bb5a74ea1",
   "metadata": {},
   "outputs": [],
   "source": []
  }
 ],
 "metadata": {
  "kernelspec": {
   "display_name": "Python 3 (ipykernel)",
   "language": "python",
   "name": "python3"
  },
  "language_info": {
   "codemirror_mode": {
    "name": "ipython",
    "version": 3
   },
   "file_extension": ".py",
   "mimetype": "text/x-python",
   "name": "python",
   "nbconvert_exporter": "python",
   "pygments_lexer": "ipython3",
   "version": "3.9.13"
  }
 },
 "nbformat": 4,
 "nbformat_minor": 5
}
