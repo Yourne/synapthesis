{
 "cells": [
  {
   "cell_type": "markdown",
   "id": "2bb9103a-3dac-4368-af3b-cb322684f578",
   "metadata": {},
   "source": [
    "# Conoscenza interente il dataset\n",
    "Un bando di gara è suddiviso in lotti. \n",
    "Per ciascun lotto si assegnano uno o più contratti a un vincitore.\n"
   ]
  },
  {
   "cell_type": "markdown",
   "id": "79d92aaf-82d2-4208-b48b-b13abb8b8cfe",
   "metadata": {},
   "source": [
    "# italiano : english\n",
    "bando : public call, public tender\n",
    "lotto : lot"
   ]
  },
  {
   "cell_type": "code",
   "execution_count": 1,
   "id": "15abda25-4aeb-4ec8-b143-5ab1bbce9559",
   "metadata": {},
   "outputs": [],
   "source": [
    "import numpy as np\n",
    "import pandas as pd\n",
    "from os import path\n",
    "\n",
    "data_directory = \"synData28June\"\n",
    "lotti_fn = \"export_lotti_veneto_2016_2018_giulio.csv\"\n",
    "vincitori_fn = \"export_vincitori_veneto_2016_2018_giulio.csv\"\n",
    "\n",
    "lotti = pd.read_csv(path.join(data_directory, lotti_fn))\n",
    "vincitori = pd.read_csv(path.join(data_directory, vincitori_fn))"
   ]
  },
  {
   "cell_type": "markdown",
   "id": "a65b6b37-b3c2-4ede-8795-6dcacfa39a03",
   "metadata": {},
   "source": [
    "## lotti attributi\n",
    "1. **id lotto** identificatore del lotto di gara attribuito da Synapta\n",
    "2. **oggetto** oggetto del contratto del lotto di gara\n",
    "3. **id_scelta_contraente** identificatore numerico del metodo di assegnazione del lotto #(26)\n",
    "4. **id_cpv** *common procurement vocabulary* sistema di classificazione europeo per categorizzare l'oggetto dei contratti pubblici d'acquisto\n",
    "5. **importo** importo da pagare all'azienda fornitrice come definito dal contratto\n",
    "6. **importo_base_asta** importo massimo per l'asta a ribasso per il dato lotto\n",
    "7. **importo liquidato** importo effettivamente liquidato\n",
    "8. **data inizio** data d'inizio d'esecuzione del contratto\n",
    "9. **data fine** data di fine esecuzione del contratto\n",
    "10. **data inferita calcolata** booleano; se vero, la/le data/e sono state inferite da ?\n",
    "11. **id_lsf** identificatore lavoro, servizio, fornitura {1: lavoro, 2: servizio, 3: fornitura}\n",
    "12. **id_mod_realizz** modalilità realizzazione; specifica in funzione del contratto evenutalmente rimovibile#(12)\n",
    "13. **id_formagiuridica** identificatore della forma giuridica del committente\n",
    "14. **md5** hash(tipo di centrale di committenza)"
   ]
  },
  {
   "cell_type": "code",
   "execution_count": 2,
   "id": "87147e30-508b-41c1-b100-b00a6f1ed0d0",
   "metadata": {},
   "outputs": [
    {
     "data": {
      "text/html": [
       "<div>\n",
       "<style scoped>\n",
       "    .dataframe tbody tr th:only-of-type {\n",
       "        vertical-align: middle;\n",
       "    }\n",
       "\n",
       "    .dataframe tbody tr th {\n",
       "        vertical-align: top;\n",
       "    }\n",
       "\n",
       "    .dataframe thead th {\n",
       "        text-align: right;\n",
       "    }\n",
       "</style>\n",
       "<table border=\"1\" class=\"dataframe\">\n",
       "  <thead>\n",
       "    <tr style=\"text-align: right;\">\n",
       "      <th></th>\n",
       "      <th>id_lotto</th>\n",
       "      <th>oggetto</th>\n",
       "      <th>id_scelta_contraente</th>\n",
       "      <th>id_cpv</th>\n",
       "      <th>importo</th>\n",
       "      <th>importo_base_asta</th>\n",
       "      <th>importo_liquidato</th>\n",
       "      <th>data_inizio</th>\n",
       "      <th>data_fine</th>\n",
       "      <th>data_inferita_calcolata</th>\n",
       "      <th>id_lsf</th>\n",
       "      <th>id_mod_realizz</th>\n",
       "      <th>id_forma_giuridica</th>\n",
       "      <th>md5</th>\n",
       "    </tr>\n",
       "  </thead>\n",
       "  <tbody>\n",
       "    <tr>\n",
       "      <th>0</th>\n",
       "      <td>887826082</td>\n",
       "      <td>2017_OG1 OPERE EDILI - MANUTENZIONE ORDINARIA ...</td>\n",
       "      <td>27.0</td>\n",
       "      <td>7161.0</td>\n",
       "      <td>60000.00</td>\n",
       "      <td>NaN</td>\n",
       "      <td>NaN</td>\n",
       "      <td>2017-09-01</td>\n",
       "      <td>2017-12-30</td>\n",
       "      <td>True</td>\n",
       "      <td>1.0</td>\n",
       "      <td>13.0</td>\n",
       "      <td>154</td>\n",
       "      <td>1f2eac73c875ee65907ba4d8681a7d2a</td>\n",
       "    </tr>\n",
       "    <tr>\n",
       "      <th>1</th>\n",
       "      <td>14913388</td>\n",
       "      <td>SONDA PER PH METRIA ID 18P001</td>\n",
       "      <td>23.0</td>\n",
       "      <td>NaN</td>\n",
       "      <td>640.00</td>\n",
       "      <td>NaN</td>\n",
       "      <td>640.00</td>\n",
       "      <td>2018-08-09</td>\n",
       "      <td>2018-08-09</td>\n",
       "      <td>True</td>\n",
       "      <td>3.0</td>\n",
       "      <td>NaN</td>\n",
       "      <td>139</td>\n",
       "      <td>4c9f18d34d17b903f078e45bc25d54b1</td>\n",
       "    </tr>\n",
       "    <tr>\n",
       "      <th>2</th>\n",
       "      <td>13973004</td>\n",
       "      <td>CAT MOUNT GIREVOLE PED</td>\n",
       "      <td>23.0</td>\n",
       "      <td>NaN</td>\n",
       "      <td>27.50</td>\n",
       "      <td>NaN</td>\n",
       "      <td>27.45</td>\n",
       "      <td>2018-05-28</td>\n",
       "      <td>2018-05-28</td>\n",
       "      <td>True</td>\n",
       "      <td>3.0</td>\n",
       "      <td>NaN</td>\n",
       "      <td>135</td>\n",
       "      <td>4c9f18d34d17b903f078e45bc25d54b1</td>\n",
       "    </tr>\n",
       "    <tr>\n",
       "      <th>3</th>\n",
       "      <td>18037021</td>\n",
       "      <td>Servizio di ristorazione in occasione della 53...</td>\n",
       "      <td>23.0</td>\n",
       "      <td>NaN</td>\n",
       "      <td>4545.46</td>\n",
       "      <td>NaN</td>\n",
       "      <td>3190.91</td>\n",
       "      <td>2016-03-16</td>\n",
       "      <td>2016-04-21</td>\n",
       "      <td>True</td>\n",
       "      <td>2.0</td>\n",
       "      <td>NaN</td>\n",
       "      <td>75</td>\n",
       "      <td>380ded385c850cdd5f5aa90c91f9a0a9</td>\n",
       "    </tr>\n",
       "    <tr>\n",
       "      <th>4</th>\n",
       "      <td>11263465</td>\n",
       "      <td>Acquisto toner</td>\n",
       "      <td>23.0</td>\n",
       "      <td>NaN</td>\n",
       "      <td>79.00</td>\n",
       "      <td>NaN</td>\n",
       "      <td>79.00</td>\n",
       "      <td>2017-02-16</td>\n",
       "      <td>2017-05-12</td>\n",
       "      <td>True</td>\n",
       "      <td>3.0</td>\n",
       "      <td>NaN</td>\n",
       "      <td>103</td>\n",
       "      <td>e2d0bdd808a492fe24340a00f8cd6f7a</td>\n",
       "    </tr>\n",
       "  </tbody>\n",
       "</table>\n",
       "</div>"
      ],
      "text/plain": [
       "    id_lotto                                            oggetto  \\\n",
       "0  887826082  2017_OG1 OPERE EDILI - MANUTENZIONE ORDINARIA ...   \n",
       "1   14913388                      SONDA PER PH METRIA ID 18P001   \n",
       "2   13973004                             CAT MOUNT GIREVOLE PED   \n",
       "3   18037021  Servizio di ristorazione in occasione della 53...   \n",
       "4   11263465                                     Acquisto toner   \n",
       "\n",
       "   id_scelta_contraente  id_cpv   importo  importo_base_asta  \\\n",
       "0                  27.0  7161.0  60000.00                NaN   \n",
       "1                  23.0     NaN    640.00                NaN   \n",
       "2                  23.0     NaN     27.50                NaN   \n",
       "3                  23.0     NaN   4545.46                NaN   \n",
       "4                  23.0     NaN     79.00                NaN   \n",
       "\n",
       "   importo_liquidato data_inizio   data_fine  data_inferita_calcolata  id_lsf  \\\n",
       "0                NaN  2017-09-01  2017-12-30                     True     1.0   \n",
       "1             640.00  2018-08-09  2018-08-09                     True     3.0   \n",
       "2              27.45  2018-05-28  2018-05-28                     True     3.0   \n",
       "3            3190.91  2016-03-16  2016-04-21                     True     2.0   \n",
       "4              79.00  2017-02-16  2017-05-12                     True     3.0   \n",
       "\n",
       "   id_mod_realizz  id_forma_giuridica                               md5  \n",
       "0            13.0                 154  1f2eac73c875ee65907ba4d8681a7d2a  \n",
       "1             NaN                 139  4c9f18d34d17b903f078e45bc25d54b1  \n",
       "2             NaN                 135  4c9f18d34d17b903f078e45bc25d54b1  \n",
       "3             NaN                  75  380ded385c850cdd5f5aa90c91f9a0a9  \n",
       "4             NaN                 103  e2d0bdd808a492fe24340a00f8cd6f7a  "
      ]
     },
     "execution_count": 2,
     "metadata": {},
     "output_type": "execute_result"
    }
   ],
   "source": [
    "lotti.head()"
   ]
  },
  {
   "cell_type": "code",
   "execution_count": 3,
   "id": "f702ecc0-7b97-40d1-b298-855ac2030a78",
   "metadata": {},
   "outputs": [
    {
     "name": "stdout",
     "output_type": "stream",
     "text": [
      "how many missing variable in lotti.id_lotto?\n"
     ]
    },
    {
     "data": {
      "text/plain": [
       "0"
      ]
     },
     "execution_count": 3,
     "metadata": {},
     "output_type": "execute_result"
    }
   ],
   "source": [
    "print(\"how many missing variable in lotti.id_lotto?\")\n",
    "np.sum(pd.isna(lotti.id_lotto))"
   ]
  },
  {
   "cell_type": "code",
   "execution_count": 4,
   "id": "a5a430b0-cd0f-447e-88e9-8a651eb10a93",
   "metadata": {},
   "outputs": [
    {
     "name": "stdout",
     "output_type": "stream",
     "text": [
      "how many lots contain NaNs in id_scelta_contraente?\n"
     ]
    }
   ],
   "source": [
    "lotti.id_scelta_contraente.unique()\n",
    "print(\"how many lots contain NaNs in id_scelta_contraente?\")"
   ]
  },
  {
   "cell_type": "code",
   "execution_count": 5,
   "id": "fb3919a1-257b-44ab-9a12-885b57f27dd3",
   "metadata": {},
   "outputs": [
    {
     "name": "stdout",
     "output_type": "stream",
     "text": [
      "which lots do not have a id_scelta_contraente?\n"
     ]
    },
    {
     "data": {
      "text/html": [
       "<div>\n",
       "<style scoped>\n",
       "    .dataframe tbody tr th:only-of-type {\n",
       "        vertical-align: middle;\n",
       "    }\n",
       "\n",
       "    .dataframe tbody tr th {\n",
       "        vertical-align: top;\n",
       "    }\n",
       "\n",
       "    .dataframe thead th {\n",
       "        text-align: right;\n",
       "    }\n",
       "</style>\n",
       "<table border=\"1\" class=\"dataframe\">\n",
       "  <thead>\n",
       "    <tr style=\"text-align: right;\">\n",
       "      <th></th>\n",
       "      <th>id_lotto</th>\n",
       "      <th>oggetto</th>\n",
       "      <th>id_scelta_contraente</th>\n",
       "      <th>id_cpv</th>\n",
       "      <th>importo</th>\n",
       "      <th>importo_base_asta</th>\n",
       "      <th>importo_liquidato</th>\n",
       "      <th>data_inizio</th>\n",
       "      <th>data_fine</th>\n",
       "      <th>data_inferita_calcolata</th>\n",
       "      <th>id_lsf</th>\n",
       "      <th>id_mod_realizz</th>\n",
       "      <th>id_forma_giuridica</th>\n",
       "      <th>md5</th>\n",
       "    </tr>\n",
       "  </thead>\n",
       "  <tbody>\n",
       "    <tr>\n",
       "      <th>1609</th>\n",
       "      <td>11972362</td>\n",
       "      <td>SERVIZI DI TRASPORTO PUBBLICO LOCALE: ACCERTAM...</td>\n",
       "      <td>NaN</td>\n",
       "      <td>NaN</td>\n",
       "      <td>1.384415e+08</td>\n",
       "      <td>NaN</td>\n",
       "      <td>51705735.13</td>\n",
       "      <td>2017-06-30</td>\n",
       "      <td>2025-12-31</td>\n",
       "      <td>True</td>\n",
       "      <td>NaN</td>\n",
       "      <td>NaN</td>\n",
       "      <td>14</td>\n",
       "      <td>47a78836496a7a97994acb6aef0d8cbf</td>\n",
       "    </tr>\n",
       "    <tr>\n",
       "      <th>26022</th>\n",
       "      <td>3469444</td>\n",
       "      <td>Contratto di Servizio per il trasporto pubblic...</td>\n",
       "      <td>NaN</td>\n",
       "      <td>NaN</td>\n",
       "      <td>2.226800e+09</td>\n",
       "      <td>NaN</td>\n",
       "      <td>105000.00</td>\n",
       "      <td>2018-01-01</td>\n",
       "      <td>2032-12-31</td>\n",
       "      <td>True</td>\n",
       "      <td>NaN</td>\n",
       "      <td>NaN</td>\n",
       "      <td>19</td>\n",
       "      <td>47a78836496a7a97994acb6aef0d8cbf</td>\n",
       "    </tr>\n",
       "    <tr>\n",
       "      <th>40783</th>\n",
       "      <td>2316458</td>\n",
       "      <td>TRIZIVIR*60CPR RIV ABACAVIR/LAMIVUDINA/ZIDOVUD...</td>\n",
       "      <td>NaN</td>\n",
       "      <td>NaN</td>\n",
       "      <td>NaN</td>\n",
       "      <td>NaN</td>\n",
       "      <td>0.00</td>\n",
       "      <td>2016-05-23</td>\n",
       "      <td>NaN</td>\n",
       "      <td>True</td>\n",
       "      <td>NaN</td>\n",
       "      <td>NaN</td>\n",
       "      <td>139</td>\n",
       "      <td>4c9f18d34d17b903f078e45bc25d54b1</td>\n",
       "    </tr>\n",
       "    <tr>\n",
       "      <th>45428</th>\n",
       "      <td>18345252</td>\n",
       "      <td>GARA REGIONALE CIG MASTER</td>\n",
       "      <td>NaN</td>\n",
       "      <td>NaN</td>\n",
       "      <td>NaN</td>\n",
       "      <td>NaN</td>\n",
       "      <td>NaN</td>\n",
       "      <td>2016-07-01</td>\n",
       "      <td>2019-06-30</td>\n",
       "      <td>True</td>\n",
       "      <td>NaN</td>\n",
       "      <td>NaN</td>\n",
       "      <td>135</td>\n",
       "      <td>4c9f18d34d17b903f078e45bc25d54b1</td>\n",
       "    </tr>\n",
       "    <tr>\n",
       "      <th>49270</th>\n",
       "      <td>14164374</td>\n",
       "      <td>MIMPARA*28CPR RIV CINACALCET CLORIDRATO 2-E 20...</td>\n",
       "      <td>NaN</td>\n",
       "      <td>NaN</td>\n",
       "      <td>NaN</td>\n",
       "      <td>NaN</td>\n",
       "      <td>0.00</td>\n",
       "      <td>2016-05-24</td>\n",
       "      <td>NaN</td>\n",
       "      <td>True</td>\n",
       "      <td>NaN</td>\n",
       "      <td>NaN</td>\n",
       "      <td>139</td>\n",
       "      <td>4c9f18d34d17b903f078e45bc25d54b1</td>\n",
       "    </tr>\n",
       "    <tr>\n",
       "      <th>...</th>\n",
       "      <td>...</td>\n",
       "      <td>...</td>\n",
       "      <td>...</td>\n",
       "      <td>...</td>\n",
       "      <td>...</td>\n",
       "      <td>...</td>\n",
       "      <td>...</td>\n",
       "      <td>...</td>\n",
       "      <td>...</td>\n",
       "      <td>...</td>\n",
       "      <td>...</td>\n",
       "      <td>...</td>\n",
       "      <td>...</td>\n",
       "      <td>...</td>\n",
       "    </tr>\n",
       "    <tr>\n",
       "      <th>895045</th>\n",
       "      <td>17637222</td>\n",
       "      <td>MEROPENEM HOS*EV POLV 10FL 1G MEROPENEM L. 288...</td>\n",
       "      <td>NaN</td>\n",
       "      <td>NaN</td>\n",
       "      <td>NaN</td>\n",
       "      <td>NaN</td>\n",
       "      <td>0.00</td>\n",
       "      <td>2016-05-24</td>\n",
       "      <td>NaN</td>\n",
       "      <td>True</td>\n",
       "      <td>NaN</td>\n",
       "      <td>NaN</td>\n",
       "      <td>139</td>\n",
       "      <td>4c9f18d34d17b903f078e45bc25d54b1</td>\n",
       "    </tr>\n",
       "    <tr>\n",
       "      <th>905129</th>\n",
       "      <td>3342376</td>\n",
       "      <td>CHIROCAINE*10F 10ML LEVOBUPIVACAINA CLORIDRATO...</td>\n",
       "      <td>NaN</td>\n",
       "      <td>NaN</td>\n",
       "      <td>NaN</td>\n",
       "      <td>NaN</td>\n",
       "      <td>0.00</td>\n",
       "      <td>2016-05-25</td>\n",
       "      <td>NaN</td>\n",
       "      <td>True</td>\n",
       "      <td>NaN</td>\n",
       "      <td>NaN</td>\n",
       "      <td>139</td>\n",
       "      <td>4c9f18d34d17b903f078e45bc25d54b1</td>\n",
       "    </tr>\n",
       "    <tr>\n",
       "      <th>905183</th>\n",
       "      <td>4372333</td>\n",
       "      <td>ISENTRESS*FL 60CPR RIV 400MG RALTEGRAVIR POTAS...</td>\n",
       "      <td>NaN</td>\n",
       "      <td>NaN</td>\n",
       "      <td>NaN</td>\n",
       "      <td>NaN</td>\n",
       "      <td>0.00</td>\n",
       "      <td>2016-05-25</td>\n",
       "      <td>NaN</td>\n",
       "      <td>True</td>\n",
       "      <td>NaN</td>\n",
       "      <td>NaN</td>\n",
       "      <td>139</td>\n",
       "      <td>4c9f18d34d17b903f078e45bc25d54b1</td>\n",
       "    </tr>\n",
       "    <tr>\n",
       "      <th>922577</th>\n",
       "      <td>1753859</td>\n",
       "      <td>ZYVOXID LINEZOLID 2-E 2015/N.35 DEL 27 MARZO L...</td>\n",
       "      <td>NaN</td>\n",
       "      <td>NaN</td>\n",
       "      <td>NaN</td>\n",
       "      <td>NaN</td>\n",
       "      <td>0.00</td>\n",
       "      <td>2016-05-24</td>\n",
       "      <td>NaN</td>\n",
       "      <td>True</td>\n",
       "      <td>NaN</td>\n",
       "      <td>NaN</td>\n",
       "      <td>139</td>\n",
       "      <td>4c9f18d34d17b903f078e45bc25d54b1</td>\n",
       "    </tr>\n",
       "    <tr>\n",
       "      <th>936449</th>\n",
       "      <td>1513507</td>\n",
       "      <td>MITOMYCIN C*INIET 1FL MITOMICINA 2-E 2015/N.35...</td>\n",
       "      <td>NaN</td>\n",
       "      <td>NaN</td>\n",
       "      <td>NaN</td>\n",
       "      <td>NaN</td>\n",
       "      <td>0.00</td>\n",
       "      <td>2016-05-25</td>\n",
       "      <td>NaN</td>\n",
       "      <td>True</td>\n",
       "      <td>NaN</td>\n",
       "      <td>NaN</td>\n",
       "      <td>139</td>\n",
       "      <td>4c9f18d34d17b903f078e45bc25d54b1</td>\n",
       "    </tr>\n",
       "  </tbody>\n",
       "</table>\n",
       "<p>174 rows × 14 columns</p>\n",
       "</div>"
      ],
      "text/plain": [
       "        id_lotto                                            oggetto  \\\n",
       "1609    11972362  SERVIZI DI TRASPORTO PUBBLICO LOCALE: ACCERTAM...   \n",
       "26022    3469444  Contratto di Servizio per il trasporto pubblic...   \n",
       "40783    2316458  TRIZIVIR*60CPR RIV ABACAVIR/LAMIVUDINA/ZIDOVUD...   \n",
       "45428   18345252                          GARA REGIONALE CIG MASTER   \n",
       "49270   14164374  MIMPARA*28CPR RIV CINACALCET CLORIDRATO 2-E 20...   \n",
       "...          ...                                                ...   \n",
       "895045  17637222  MEROPENEM HOS*EV POLV 10FL 1G MEROPENEM L. 288...   \n",
       "905129   3342376  CHIROCAINE*10F 10ML LEVOBUPIVACAINA CLORIDRATO...   \n",
       "905183   4372333  ISENTRESS*FL 60CPR RIV 400MG RALTEGRAVIR POTAS...   \n",
       "922577   1753859  ZYVOXID LINEZOLID 2-E 2015/N.35 DEL 27 MARZO L...   \n",
       "936449   1513507  MITOMYCIN C*INIET 1FL MITOMICINA 2-E 2015/N.35...   \n",
       "\n",
       "        id_scelta_contraente  id_cpv       importo  importo_base_asta  \\\n",
       "1609                     NaN     NaN  1.384415e+08                NaN   \n",
       "26022                    NaN     NaN  2.226800e+09                NaN   \n",
       "40783                    NaN     NaN           NaN                NaN   \n",
       "45428                    NaN     NaN           NaN                NaN   \n",
       "49270                    NaN     NaN           NaN                NaN   \n",
       "...                      ...     ...           ...                ...   \n",
       "895045                   NaN     NaN           NaN                NaN   \n",
       "905129                   NaN     NaN           NaN                NaN   \n",
       "905183                   NaN     NaN           NaN                NaN   \n",
       "922577                   NaN     NaN           NaN                NaN   \n",
       "936449                   NaN     NaN           NaN                NaN   \n",
       "\n",
       "        importo_liquidato data_inizio   data_fine  data_inferita_calcolata  \\\n",
       "1609          51705735.13  2017-06-30  2025-12-31                     True   \n",
       "26022           105000.00  2018-01-01  2032-12-31                     True   \n",
       "40783                0.00  2016-05-23         NaN                     True   \n",
       "45428                 NaN  2016-07-01  2019-06-30                     True   \n",
       "49270                0.00  2016-05-24         NaN                     True   \n",
       "...                   ...         ...         ...                      ...   \n",
       "895045               0.00  2016-05-24         NaN                     True   \n",
       "905129               0.00  2016-05-25         NaN                     True   \n",
       "905183               0.00  2016-05-25         NaN                     True   \n",
       "922577               0.00  2016-05-24         NaN                     True   \n",
       "936449               0.00  2016-05-25         NaN                     True   \n",
       "\n",
       "        id_lsf  id_mod_realizz  id_forma_giuridica  \\\n",
       "1609       NaN             NaN                  14   \n",
       "26022      NaN             NaN                  19   \n",
       "40783      NaN             NaN                 139   \n",
       "45428      NaN             NaN                 135   \n",
       "49270      NaN             NaN                 139   \n",
       "...        ...             ...                 ...   \n",
       "895045     NaN             NaN                 139   \n",
       "905129     NaN             NaN                 139   \n",
       "905183     NaN             NaN                 139   \n",
       "922577     NaN             NaN                 139   \n",
       "936449     NaN             NaN                 139   \n",
       "\n",
       "                                     md5  \n",
       "1609    47a78836496a7a97994acb6aef0d8cbf  \n",
       "26022   47a78836496a7a97994acb6aef0d8cbf  \n",
       "40783   4c9f18d34d17b903f078e45bc25d54b1  \n",
       "45428   4c9f18d34d17b903f078e45bc25d54b1  \n",
       "49270   4c9f18d34d17b903f078e45bc25d54b1  \n",
       "...                                  ...  \n",
       "895045  4c9f18d34d17b903f078e45bc25d54b1  \n",
       "905129  4c9f18d34d17b903f078e45bc25d54b1  \n",
       "905183  4c9f18d34d17b903f078e45bc25d54b1  \n",
       "922577  4c9f18d34d17b903f078e45bc25d54b1  \n",
       "936449  4c9f18d34d17b903f078e45bc25d54b1  \n",
       "\n",
       "[174 rows x 14 columns]"
      ]
     },
     "execution_count": 5,
     "metadata": {},
     "output_type": "execute_result"
    }
   ],
   "source": [
    "print(\"which lots do not have a id_scelta_contraente?\")\n",
    "lotti[pd.isna(lotti.id_scelta_contraente)]"
   ]
  },
  {
   "cell_type": "code",
   "execution_count": 6,
   "id": "d14eb3f4-4357-4c0a-bae3-10813fc7ba46",
   "metadata": {},
   "outputs": [
    {
     "name": "stdout",
     "output_type": "stream",
     "text": [
      "how many types of provisioning?\n"
     ]
    },
    {
     "data": {
      "text/plain": [
       "array([13., nan,  3.,  1., 14., 11.,  4.,  9., 10.,  5.,  7.,  6.,  8.])"
      ]
     },
     "execution_count": 6,
     "metadata": {},
     "output_type": "execute_result"
    }
   ],
   "source": [
    "print(\"how many types of provisioning?\")\n",
    "lotti.id_mod_realizz.unique()"
   ]
  },
  {
   "cell_type": "code",
   "execution_count": 7,
   "id": "26a17c1c-8dfd-4350-b1b6-68d0bfdb242b",
   "metadata": {},
   "outputs": [
    {
     "name": "stdout",
     "output_type": "stream",
     "text": [
      "what percentage of records do not have a specified type of provisioning?\n"
     ]
    },
    {
     "data": {
      "text/plain": [
       "0.95"
      ]
     },
     "execution_count": 7,
     "metadata": {},
     "output_type": "execute_result"
    }
   ],
   "source": [
    "print(\"what percentage of records do not have a specified type of provisioning?\")\n",
    "np.round(np.sum(lotti.id_mod_realizz.isna()) / lotti.shape[0], 2)"
   ]
  },
  {
   "cell_type": "code",
   "execution_count": 15,
   "id": "30b32649-99a0-4083-aea2-453eb57a670a",
   "metadata": {},
   "outputs": [
    {
     "name": "stdout",
     "output_type": "stream",
     "text": [
      "how many rows does are duplicate in lotti dataset?\n"
     ]
    },
    {
     "data": {
      "text/plain": [
       "0"
      ]
     },
     "execution_count": 15,
     "metadata": {},
     "output_type": "execute_result"
    }
   ],
   "source": [
    "print(\"how many rows does are duplicate in lotti dataset?\")\n",
    "np.sum(lotti.duplicated())"
   ]
  },
  {
   "cell_type": "markdown",
   "id": "56299436-9a7b-4b31-be20-2345e704e5b1",
   "metadata": {},
   "source": [
    "## vincitori attributes\n",
    "1. **id_lotto** identificatore del lotto di gara\n",
    "2. **ruolo** ruolo del vincitore di gara, e.g. \"mandante\", \"mandataria\", \"capogruppo\" etc\n",
    "3. **id_be** identificatore della business entity\n",
    "3. **id_forma_giuridica** identificatore della forma giuridica del vincitore e.g. srl, sas, spa...\n",
    "4. **mdg** hash(centrale di committenza)"
   ]
  },
  {
   "cell_type": "code",
   "execution_count": 8,
   "id": "b2c49dae-5bf8-41d1-b625-0b1886cbd926",
   "metadata": {},
   "outputs": [
    {
     "data": {
      "text/html": [
       "<div>\n",
       "<style scoped>\n",
       "    .dataframe tbody tr th:only-of-type {\n",
       "        vertical-align: middle;\n",
       "    }\n",
       "\n",
       "    .dataframe tbody tr th {\n",
       "        vertical-align: top;\n",
       "    }\n",
       "\n",
       "    .dataframe thead th {\n",
       "        text-align: right;\n",
       "    }\n",
       "</style>\n",
       "<table border=\"1\" class=\"dataframe\">\n",
       "  <thead>\n",
       "    <tr style=\"text-align: right;\">\n",
       "      <th></th>\n",
       "      <th>id_lotto</th>\n",
       "      <th>ruolo</th>\n",
       "      <th>id_be</th>\n",
       "      <th>id_forma_giuridica</th>\n",
       "      <th>md5</th>\n",
       "    </tr>\n",
       "  </thead>\n",
       "  <tbody>\n",
       "    <tr>\n",
       "      <th>0</th>\n",
       "      <td>887826082</td>\n",
       "      <td>NaN</td>\n",
       "      <td>90464</td>\n",
       "      <td>154</td>\n",
       "      <td>1f2eac73c875ee65907ba4d8681a7d2a</td>\n",
       "    </tr>\n",
       "    <tr>\n",
       "      <th>1</th>\n",
       "      <td>14913388</td>\n",
       "      <td>NaN</td>\n",
       "      <td>85208</td>\n",
       "      <td>176</td>\n",
       "      <td>1f2eac73c875ee65907ba4d8681a7d2a</td>\n",
       "    </tr>\n",
       "    <tr>\n",
       "      <th>2</th>\n",
       "      <td>13973004</td>\n",
       "      <td>NaN</td>\n",
       "      <td>89811</td>\n",
       "      <td>155</td>\n",
       "      <td>1f2eac73c875ee65907ba4d8681a7d2a</td>\n",
       "    </tr>\n",
       "    <tr>\n",
       "      <th>3</th>\n",
       "      <td>18037021</td>\n",
       "      <td>NaN</td>\n",
       "      <td>265228</td>\n",
       "      <td>175</td>\n",
       "      <td>1f2eac73c875ee65907ba4d8681a7d2a</td>\n",
       "    </tr>\n",
       "    <tr>\n",
       "      <th>4</th>\n",
       "      <td>11263465</td>\n",
       "      <td>NaN</td>\n",
       "      <td>356115</td>\n",
       "      <td>174</td>\n",
       "      <td>1f2eac73c875ee65907ba4d8681a7d2a</td>\n",
       "    </tr>\n",
       "  </tbody>\n",
       "</table>\n",
       "</div>"
      ],
      "text/plain": [
       "    id_lotto ruolo   id_be  id_forma_giuridica  \\\n",
       "0  887826082   NaN   90464                 154   \n",
       "1   14913388   NaN   85208                 176   \n",
       "2   13973004   NaN   89811                 155   \n",
       "3   18037021   NaN  265228                 175   \n",
       "4   11263465   NaN  356115                 174   \n",
       "\n",
       "                                md5  \n",
       "0  1f2eac73c875ee65907ba4d8681a7d2a  \n",
       "1  1f2eac73c875ee65907ba4d8681a7d2a  \n",
       "2  1f2eac73c875ee65907ba4d8681a7d2a  \n",
       "3  1f2eac73c875ee65907ba4d8681a7d2a  \n",
       "4  1f2eac73c875ee65907ba4d8681a7d2a  "
      ]
     },
     "execution_count": 8,
     "metadata": {},
     "output_type": "execute_result"
    }
   ],
   "source": [
    "vincitori.head()"
   ]
  },
  {
   "cell_type": "code",
   "execution_count": 9,
   "id": "73807770-68f1-4145-9b2f-b1e415979a21",
   "metadata": {},
   "outputs": [
    {
     "name": "stdout",
     "output_type": "stream",
     "text": [
      "how many non-unique id_lotto in vincitori dataframe?\n"
     ]
    },
    {
     "data": {
      "text/plain": [
       "19039"
      ]
     },
     "execution_count": 9,
     "metadata": {},
     "output_type": "execute_result"
    }
   ],
   "source": [
    "print(\"how many non-unique id_lotto in vincitori dataframe?\")\n",
    "vincitori.shape[0] - np.unique(vincitori.id_lotto).shape[0]"
   ]
  },
  {
   "cell_type": "code",
   "execution_count": 10,
   "id": "1c0a5532-8944-4173-843a-676550c982eb",
   "metadata": {},
   "outputs": [
    {
     "name": "stdout",
     "output_type": "stream",
     "text": [
      "duplicated items in vincitori.id_lotto\n"
     ]
    },
    {
     "data": {
      "text/html": [
       "<div>\n",
       "<style scoped>\n",
       "    .dataframe tbody tr th:only-of-type {\n",
       "        vertical-align: middle;\n",
       "    }\n",
       "\n",
       "    .dataframe tbody tr th {\n",
       "        vertical-align: top;\n",
       "    }\n",
       "\n",
       "    .dataframe thead th {\n",
       "        text-align: right;\n",
       "    }\n",
       "</style>\n",
       "<table border=\"1\" class=\"dataframe\">\n",
       "  <thead>\n",
       "    <tr style=\"text-align: right;\">\n",
       "      <th></th>\n",
       "      <th>id_lotto</th>\n",
       "      <th>ruolo</th>\n",
       "      <th>id_be</th>\n",
       "      <th>id_forma_giuridica</th>\n",
       "      <th>md5</th>\n",
       "    </tr>\n",
       "  </thead>\n",
       "  <tbody>\n",
       "    <tr>\n",
       "      <th>39</th>\n",
       "      <td>16418031</td>\n",
       "      <td>NaN</td>\n",
       "      <td>600910</td>\n",
       "      <td>171</td>\n",
       "      <td>1f2eac73c875ee65907ba4d8681a7d2a</td>\n",
       "    </tr>\n",
       "    <tr>\n",
       "      <th>68</th>\n",
       "      <td>933784192</td>\n",
       "      <td>NaN</td>\n",
       "      <td>95012</td>\n",
       "      <td>174</td>\n",
       "      <td>1f2eac73c875ee65907ba4d8681a7d2a</td>\n",
       "    </tr>\n",
       "    <tr>\n",
       "      <th>239</th>\n",
       "      <td>15751142</td>\n",
       "      <td>NaN</td>\n",
       "      <td>89503</td>\n",
       "      <td>154</td>\n",
       "      <td>1f2eac73c875ee65907ba4d8681a7d2a</td>\n",
       "    </tr>\n",
       "    <tr>\n",
       "      <th>341</th>\n",
       "      <td>8814713</td>\n",
       "      <td>NaN</td>\n",
       "      <td>151995</td>\n",
       "      <td>154</td>\n",
       "      <td>1f2eac73c875ee65907ba4d8681a7d2a</td>\n",
       "    </tr>\n",
       "    <tr>\n",
       "      <th>342</th>\n",
       "      <td>8814713</td>\n",
       "      <td>NaN</td>\n",
       "      <td>371725</td>\n",
       "      <td>154</td>\n",
       "      <td>1f2eac73c875ee65907ba4d8681a7d2a</td>\n",
       "    </tr>\n",
       "    <tr>\n",
       "      <th>...</th>\n",
       "      <td>...</td>\n",
       "      <td>...</td>\n",
       "      <td>...</td>\n",
       "      <td>...</td>\n",
       "      <td>...</td>\n",
       "    </tr>\n",
       "    <tr>\n",
       "      <th>916461</th>\n",
       "      <td>277772</td>\n",
       "      <td>NaN</td>\n",
       "      <td>407113</td>\n",
       "      <td>154</td>\n",
       "      <td>1f2eac73c875ee65907ba4d8681a7d2a</td>\n",
       "    </tr>\n",
       "    <tr>\n",
       "      <th>916528</th>\n",
       "      <td>11843948</td>\n",
       "      <td>NaN</td>\n",
       "      <td>91850</td>\n",
       "      <td>154</td>\n",
       "      <td>1f2eac73c875ee65907ba4d8681a7d2a</td>\n",
       "    </tr>\n",
       "    <tr>\n",
       "      <th>916578</th>\n",
       "      <td>14728230</td>\n",
       "      <td>NaN</td>\n",
       "      <td>110530</td>\n",
       "      <td>154</td>\n",
       "      <td>1f2eac73c875ee65907ba4d8681a7d2a</td>\n",
       "    </tr>\n",
       "    <tr>\n",
       "      <th>917049</th>\n",
       "      <td>18316161</td>\n",
       "      <td>01-MANDANTE</td>\n",
       "      <td>91964</td>\n",
       "      <td>154</td>\n",
       "      <td>1f2eac73c875ee65907ba4d8681a7d2a</td>\n",
       "    </tr>\n",
       "    <tr>\n",
       "      <th>917270</th>\n",
       "      <td>4927733</td>\n",
       "      <td>NaN</td>\n",
       "      <td>260367</td>\n",
       "      <td>154</td>\n",
       "      <td>1f2eac73c875ee65907ba4d8681a7d2a</td>\n",
       "    </tr>\n",
       "  </tbody>\n",
       "</table>\n",
       "<p>19039 rows × 5 columns</p>\n",
       "</div>"
      ],
      "text/plain": [
       "         id_lotto        ruolo   id_be  id_forma_giuridica  \\\n",
       "39       16418031          NaN  600910                 171   \n",
       "68      933784192          NaN   95012                 174   \n",
       "239      15751142          NaN   89503                 154   \n",
       "341       8814713          NaN  151995                 154   \n",
       "342       8814713          NaN  371725                 154   \n",
       "...           ...          ...     ...                 ...   \n",
       "916461     277772          NaN  407113                 154   \n",
       "916528   11843948          NaN   91850                 154   \n",
       "916578   14728230          NaN  110530                 154   \n",
       "917049   18316161  01-MANDANTE   91964                 154   \n",
       "917270    4927733          NaN  260367                 154   \n",
       "\n",
       "                                     md5  \n",
       "39      1f2eac73c875ee65907ba4d8681a7d2a  \n",
       "68      1f2eac73c875ee65907ba4d8681a7d2a  \n",
       "239     1f2eac73c875ee65907ba4d8681a7d2a  \n",
       "341     1f2eac73c875ee65907ba4d8681a7d2a  \n",
       "342     1f2eac73c875ee65907ba4d8681a7d2a  \n",
       "...                                  ...  \n",
       "916461  1f2eac73c875ee65907ba4d8681a7d2a  \n",
       "916528  1f2eac73c875ee65907ba4d8681a7d2a  \n",
       "916578  1f2eac73c875ee65907ba4d8681a7d2a  \n",
       "917049  1f2eac73c875ee65907ba4d8681a7d2a  \n",
       "917270  1f2eac73c875ee65907ba4d8681a7d2a  \n",
       "\n",
       "[19039 rows x 5 columns]"
      ]
     },
     "execution_count": 10,
     "metadata": {},
     "output_type": "execute_result"
    }
   ],
   "source": [
    "print(\"duplicated items in vincitori.id_lotto\")\n",
    "vincitori[vincitori.id_lotto.duplicated()]"
   ]
  },
  {
   "cell_type": "code",
   "execution_count": 11,
   "id": "23e68592-97d4-4a1b-8b88-8efc8983b81a",
   "metadata": {},
   "outputs": [
    {
     "name": "stdout",
     "output_type": "stream",
     "text": [
      "how many rows does are duplicate in vincitori dataset?\n"
     ]
    },
    {
     "data": {
      "text/plain": [
       "9"
      ]
     },
     "execution_count": 11,
     "metadata": {},
     "output_type": "execute_result"
    }
   ],
   "source": [
    "print(\"how many rows are duplicate in vincitori dataset?\")\n",
    "np.sum(vincitori.duplicated())"
   ]
  },
  {
   "cell_type": "markdown",
   "id": "f7526d49-f3bb-41da-ada9-ae3e3af1f080",
   "metadata": {},
   "source": [
    "And we shall get rid of them. \n",
    "Davide spiega che succede perché alcune PA attribuiscono la vittoria di una gara alla medesima azienda sia in qualità di capogruppo di aziende che come singola."
   ]
  },
  {
   "cell_type": "code",
   "execution_count": 16,
   "id": "62637152-554a-4ab2-9551-5af10a7bc910",
   "metadata": {},
   "outputs": [
    {
     "name": "stdout",
     "output_type": "stream",
     "text": [
      "how many vincitori.id_lotto are duplicated?\n"
     ]
    },
    {
     "data": {
      "text/plain": [
       "19039"
      ]
     },
     "execution_count": 16,
     "metadata": {},
     "output_type": "execute_result"
    }
   ],
   "source": [
    "print(\"how many vincitori.id_lotto are duplicated?\")\n",
    "np.sum(vincitori.id_lotto.duplicated())"
   ]
  },
  {
   "cell_type": "markdown",
   "id": "e3295cd8-e04f-42a1-a494-5957c3ec256c",
   "metadata": {},
   "source": [
    "this means that the same lot is won by more than one tender"
   ]
  },
  {
   "cell_type": "code",
   "execution_count": 19,
   "id": "6cc5bcde-4739-46f0-9e31-15fb7366e275",
   "metadata": {},
   "outputs": [
    {
     "data": {
      "text/html": [
       "<div>\n",
       "<style scoped>\n",
       "    .dataframe tbody tr th:only-of-type {\n",
       "        vertical-align: middle;\n",
       "    }\n",
       "\n",
       "    .dataframe tbody tr th {\n",
       "        vertical-align: top;\n",
       "    }\n",
       "\n",
       "    .dataframe thead th {\n",
       "        text-align: right;\n",
       "    }\n",
       "</style>\n",
       "<table border=\"1\" class=\"dataframe\">\n",
       "  <thead>\n",
       "    <tr style=\"text-align: right;\">\n",
       "      <th></th>\n",
       "      <th>id_lotto</th>\n",
       "      <th>ruolo</th>\n",
       "      <th>id_be</th>\n",
       "      <th>id_forma_giuridica</th>\n",
       "      <th>md5</th>\n",
       "    </tr>\n",
       "  </thead>\n",
       "  <tbody>\n",
       "    <tr>\n",
       "      <th>38</th>\n",
       "      <td>16418031</td>\n",
       "      <td>NaN</td>\n",
       "      <td>3079</td>\n",
       "      <td>176</td>\n",
       "      <td>1f2eac73c875ee65907ba4d8681a7d2a</td>\n",
       "    </tr>\n",
       "    <tr>\n",
       "      <th>39</th>\n",
       "      <td>16418031</td>\n",
       "      <td>NaN</td>\n",
       "      <td>600910</td>\n",
       "      <td>171</td>\n",
       "      <td>1f2eac73c875ee65907ba4d8681a7d2a</td>\n",
       "    </tr>\n",
       "    <tr>\n",
       "      <th>67</th>\n",
       "      <td>933784192</td>\n",
       "      <td>NaN</td>\n",
       "      <td>93326</td>\n",
       "      <td>154</td>\n",
       "      <td>1f2eac73c875ee65907ba4d8681a7d2a</td>\n",
       "    </tr>\n",
       "    <tr>\n",
       "      <th>68</th>\n",
       "      <td>933784192</td>\n",
       "      <td>NaN</td>\n",
       "      <td>95012</td>\n",
       "      <td>174</td>\n",
       "      <td>1f2eac73c875ee65907ba4d8681a7d2a</td>\n",
       "    </tr>\n",
       "    <tr>\n",
       "      <th>238</th>\n",
       "      <td>15751142</td>\n",
       "      <td>NaN</td>\n",
       "      <td>1699255</td>\n",
       "      <td>6</td>\n",
       "      <td>eaf4ac8f35faf9443c6b08dd0eee6399</td>\n",
       "    </tr>\n",
       "    <tr>\n",
       "      <th>...</th>\n",
       "      <td>...</td>\n",
       "      <td>...</td>\n",
       "      <td>...</td>\n",
       "      <td>...</td>\n",
       "      <td>...</td>\n",
       "    </tr>\n",
       "    <tr>\n",
       "      <th>916578</th>\n",
       "      <td>14728230</td>\n",
       "      <td>NaN</td>\n",
       "      <td>110530</td>\n",
       "      <td>154</td>\n",
       "      <td>1f2eac73c875ee65907ba4d8681a7d2a</td>\n",
       "    </tr>\n",
       "    <tr>\n",
       "      <th>917048</th>\n",
       "      <td>18316161</td>\n",
       "      <td>02-MANDATARIA</td>\n",
       "      <td>16739</td>\n",
       "      <td>176</td>\n",
       "      <td>1f2eac73c875ee65907ba4d8681a7d2a</td>\n",
       "    </tr>\n",
       "    <tr>\n",
       "      <th>917049</th>\n",
       "      <td>18316161</td>\n",
       "      <td>01-MANDANTE</td>\n",
       "      <td>91964</td>\n",
       "      <td>154</td>\n",
       "      <td>1f2eac73c875ee65907ba4d8681a7d2a</td>\n",
       "    </tr>\n",
       "    <tr>\n",
       "      <th>917269</th>\n",
       "      <td>4927733</td>\n",
       "      <td>NaN</td>\n",
       "      <td>90274</td>\n",
       "      <td>154</td>\n",
       "      <td>1f2eac73c875ee65907ba4d8681a7d2a</td>\n",
       "    </tr>\n",
       "    <tr>\n",
       "      <th>917270</th>\n",
       "      <td>4927733</td>\n",
       "      <td>NaN</td>\n",
       "      <td>260367</td>\n",
       "      <td>154</td>\n",
       "      <td>1f2eac73c875ee65907ba4d8681a7d2a</td>\n",
       "    </tr>\n",
       "  </tbody>\n",
       "</table>\n",
       "<p>29495 rows × 5 columns</p>\n",
       "</div>"
      ],
      "text/plain": [
       "         id_lotto          ruolo    id_be  id_forma_giuridica  \\\n",
       "38       16418031            NaN     3079                 176   \n",
       "39       16418031            NaN   600910                 171   \n",
       "67      933784192            NaN    93326                 154   \n",
       "68      933784192            NaN    95012                 174   \n",
       "238      15751142            NaN  1699255                   6   \n",
       "...           ...            ...      ...                 ...   \n",
       "916578   14728230            NaN   110530                 154   \n",
       "917048   18316161  02-MANDATARIA    16739                 176   \n",
       "917049   18316161    01-MANDANTE    91964                 154   \n",
       "917269    4927733            NaN    90274                 154   \n",
       "917270    4927733            NaN   260367                 154   \n",
       "\n",
       "                                     md5  \n",
       "38      1f2eac73c875ee65907ba4d8681a7d2a  \n",
       "39      1f2eac73c875ee65907ba4d8681a7d2a  \n",
       "67      1f2eac73c875ee65907ba4d8681a7d2a  \n",
       "68      1f2eac73c875ee65907ba4d8681a7d2a  \n",
       "238     eaf4ac8f35faf9443c6b08dd0eee6399  \n",
       "...                                  ...  \n",
       "916578  1f2eac73c875ee65907ba4d8681a7d2a  \n",
       "917048  1f2eac73c875ee65907ba4d8681a7d2a  \n",
       "917049  1f2eac73c875ee65907ba4d8681a7d2a  \n",
       "917269  1f2eac73c875ee65907ba4d8681a7d2a  \n",
       "917270  1f2eac73c875ee65907ba4d8681a7d2a  \n",
       "\n",
       "[29495 rows x 5 columns]"
      ]
     },
     "execution_count": 19,
     "metadata": {},
     "output_type": "execute_result"
    }
   ],
   "source": [
    "vincitori[vincitori.id_lotto.duplicated(keep=False)]"
   ]
  },
  {
   "cell_type": "code",
   "execution_count": 22,
   "id": "6fbe6d86-396b-4f67-a881-08d027d40040",
   "metadata": {},
   "outputs": [
    {
     "name": "stderr",
     "output_type": "stream",
     "text": [
      "/var/folders/zw/jt2ycyfx58j5m2lkspywwvnm0000gn/T/ipykernel_992/2535312974.py:1: UserWarning: Boolean Series key will be reindexed to match DataFrame index.\n",
      "  vincitori[vincitori.id_lotto.duplicated(keep=False)][vincitori.ruolo.notna()]\n"
     ]
    },
    {
     "data": {
      "text/html": [
       "<div>\n",
       "<style scoped>\n",
       "    .dataframe tbody tr th:only-of-type {\n",
       "        vertical-align: middle;\n",
       "    }\n",
       "\n",
       "    .dataframe tbody tr th {\n",
       "        vertical-align: top;\n",
       "    }\n",
       "\n",
       "    .dataframe thead th {\n",
       "        text-align: right;\n",
       "    }\n",
       "</style>\n",
       "<table border=\"1\" class=\"dataframe\">\n",
       "  <thead>\n",
       "    <tr style=\"text-align: right;\">\n",
       "      <th></th>\n",
       "      <th>id_lotto</th>\n",
       "      <th>ruolo</th>\n",
       "      <th>id_be</th>\n",
       "      <th>id_forma_giuridica</th>\n",
       "      <th>md5</th>\n",
       "    </tr>\n",
       "  </thead>\n",
       "  <tbody>\n",
       "    <tr>\n",
       "      <th>654</th>\n",
       "      <td>5912215</td>\n",
       "      <td>03-ASSOCIATA</td>\n",
       "      <td>334337</td>\n",
       "      <td>155</td>\n",
       "      <td>1f2eac73c875ee65907ba4d8681a7d2a</td>\n",
       "    </tr>\n",
       "    <tr>\n",
       "      <th>655</th>\n",
       "      <td>5912215</td>\n",
       "      <td>04-CAPOGRUPPO</td>\n",
       "      <td>449509</td>\n",
       "      <td>152</td>\n",
       "      <td>1f2eac73c875ee65907ba4d8681a7d2a</td>\n",
       "    </tr>\n",
       "    <tr>\n",
       "      <th>804</th>\n",
       "      <td>14265562</td>\n",
       "      <td>04-CAPOGRUPPO</td>\n",
       "      <td>97782</td>\n",
       "      <td>176</td>\n",
       "      <td>1f2eac73c875ee65907ba4d8681a7d2a</td>\n",
       "    </tr>\n",
       "    <tr>\n",
       "      <th>805</th>\n",
       "      <td>14265562</td>\n",
       "      <td>03-ASSOCIATA</td>\n",
       "      <td>314379</td>\n",
       "      <td>154</td>\n",
       "      <td>1f2eac73c875ee65907ba4d8681a7d2a</td>\n",
       "    </tr>\n",
       "    <tr>\n",
       "      <th>1786</th>\n",
       "      <td>9094048</td>\n",
       "      <td>01-MANDANTE</td>\n",
       "      <td>85377</td>\n",
       "      <td>176</td>\n",
       "      <td>1f2eac73c875ee65907ba4d8681a7d2a</td>\n",
       "    </tr>\n",
       "    <tr>\n",
       "      <th>...</th>\n",
       "      <td>...</td>\n",
       "      <td>...</td>\n",
       "      <td>...</td>\n",
       "      <td>...</td>\n",
       "      <td>...</td>\n",
       "    </tr>\n",
       "    <tr>\n",
       "      <th>915843</th>\n",
       "      <td>2796660</td>\n",
       "      <td>MANDANTE</td>\n",
       "      <td>100237</td>\n",
       "      <td>154</td>\n",
       "      <td>1f2eac73c875ee65907ba4d8681a7d2a</td>\n",
       "    </tr>\n",
       "    <tr>\n",
       "      <th>915844</th>\n",
       "      <td>2796660</td>\n",
       "      <td>MANDANTE</td>\n",
       "      <td>107370</td>\n",
       "      <td>154</td>\n",
       "      <td>1f2eac73c875ee65907ba4d8681a7d2a</td>\n",
       "    </tr>\n",
       "    <tr>\n",
       "      <th>915845</th>\n",
       "      <td>2796660</td>\n",
       "      <td>MANDATARIA</td>\n",
       "      <td>133365</td>\n",
       "      <td>165</td>\n",
       "      <td>1f2eac73c875ee65907ba4d8681a7d2a</td>\n",
       "    </tr>\n",
       "    <tr>\n",
       "      <th>917048</th>\n",
       "      <td>18316161</td>\n",
       "      <td>02-MANDATARIA</td>\n",
       "      <td>16739</td>\n",
       "      <td>176</td>\n",
       "      <td>1f2eac73c875ee65907ba4d8681a7d2a</td>\n",
       "    </tr>\n",
       "    <tr>\n",
       "      <th>917049</th>\n",
       "      <td>18316161</td>\n",
       "      <td>01-MANDANTE</td>\n",
       "      <td>91964</td>\n",
       "      <td>154</td>\n",
       "      <td>1f2eac73c875ee65907ba4d8681a7d2a</td>\n",
       "    </tr>\n",
       "  </tbody>\n",
       "</table>\n",
       "<p>4194 rows × 5 columns</p>\n",
       "</div>"
      ],
      "text/plain": [
       "        id_lotto          ruolo   id_be  id_forma_giuridica  \\\n",
       "654      5912215   03-ASSOCIATA  334337                 155   \n",
       "655      5912215  04-CAPOGRUPPO  449509                 152   \n",
       "804     14265562  04-CAPOGRUPPO   97782                 176   \n",
       "805     14265562   03-ASSOCIATA  314379                 154   \n",
       "1786     9094048    01-MANDANTE   85377                 176   \n",
       "...          ...            ...     ...                 ...   \n",
       "915843   2796660       MANDANTE  100237                 154   \n",
       "915844   2796660       MANDANTE  107370                 154   \n",
       "915845   2796660     MANDATARIA  133365                 165   \n",
       "917048  18316161  02-MANDATARIA   16739                 176   \n",
       "917049  18316161    01-MANDANTE   91964                 154   \n",
       "\n",
       "                                     md5  \n",
       "654     1f2eac73c875ee65907ba4d8681a7d2a  \n",
       "655     1f2eac73c875ee65907ba4d8681a7d2a  \n",
       "804     1f2eac73c875ee65907ba4d8681a7d2a  \n",
       "805     1f2eac73c875ee65907ba4d8681a7d2a  \n",
       "1786    1f2eac73c875ee65907ba4d8681a7d2a  \n",
       "...                                  ...  \n",
       "915843  1f2eac73c875ee65907ba4d8681a7d2a  \n",
       "915844  1f2eac73c875ee65907ba4d8681a7d2a  \n",
       "915845  1f2eac73c875ee65907ba4d8681a7d2a  \n",
       "917048  1f2eac73c875ee65907ba4d8681a7d2a  \n",
       "917049  1f2eac73c875ee65907ba4d8681a7d2a  \n",
       "\n",
       "[4194 rows x 5 columns]"
      ]
     },
     "execution_count": 22,
     "metadata": {},
     "output_type": "execute_result"
    }
   ],
   "source": [
    "vincitori[vincitori.id_lotto.duplicated(keep=False)][vincitori.ruolo.notna()]"
   ]
  },
  {
   "cell_type": "code",
   "execution_count": null,
   "id": "cc79b351-4e19-42f3-9b4a-ece46c62dfc3",
   "metadata": {},
   "outputs": [
    {
     "name": "stdout",
     "output_type": "stream",
     "text": [
      "how many lots do not have an assigned winner?\n"
     ]
    },
    {
     "data": {
      "text/plain": [
       "30197"
      ]
     },
     "execution_count": 12,
     "metadata": {},
     "output_type": "execute_result"
    }
   ],
   "source": [
    "print(\"how many lots do not have an assigned winner?\")\n",
    "lotti.shape[0] - vincitori.shape[0]"
   ]
  },
  {
   "cell_type": "markdown",
   "id": "ce9e47c2-7244-44d4-99c7-33ec02238512",
   "metadata": {},
   "source": [
    "and this is not ok, Davide said. We should investigate why."
   ]
  },
  {
   "cell_type": "markdown",
   "id": "bfdcd54a-5a54-43ed-82ed-25cb341e0a53",
   "metadata": {},
   "source": [
    "# Lotti left-join vincitori"
   ]
  },
  {
   "cell_type": "code",
   "execution_count": 13,
   "id": "640cf4a4-b2d4-43ba-9ed4-f6f2dacbf9c7",
   "metadata": {},
   "outputs": [
    {
     "data": {
      "text/plain": [
       "(966536, 18)"
      ]
     },
     "execution_count": 13,
     "metadata": {},
     "output_type": "execute_result"
    }
   ],
   "source": [
    "df = lotti.merge(vincitori,how=\"left\", on=\"id_lotto\")\n",
    "df.shape"
   ]
  },
  {
   "cell_type": "code",
   "execution_count": 14,
   "id": "2162e8c0-5796-4043-b66a-23d1315abc20",
   "metadata": {},
   "outputs": [
    {
     "name": "stdout",
     "output_type": "stream",
     "text": [
      "there are more call-winner\n"
     ]
    },
    {
     "data": {
      "text/plain": [
       "19039"
      ]
     },
     "execution_count": 14,
     "metadata": {},
     "output_type": "execute_result"
    }
   ],
   "source": [
    "print(\"there are more call-winner than lots\")\n",
    "df.shape[0] - lotti.shape[0] "
   ]
  },
  {
   "cell_type": "code",
   "execution_count": null,
   "id": "1e074ea5-eeec-4d5c-9d34-4ee3a5e25bfb",
   "metadata": {},
   "outputs": [],
   "source": []
  }
 ],
 "metadata": {
  "kernelspec": {
   "display_name": "Python 3 (ipykernel)",
   "language": "python",
   "name": "python3"
  },
  "language_info": {
   "codemirror_mode": {
    "name": "ipython",
    "version": 3
   },
   "file_extension": ".py",
   "mimetype": "text/x-python",
   "name": "python",
   "nbconvert_exporter": "python",
   "pygments_lexer": "ipython3",
   "version": "3.9.13"
  }
 },
 "nbformat": 4,
 "nbformat_minor": 5
}
