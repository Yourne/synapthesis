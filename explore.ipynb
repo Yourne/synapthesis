{
 "cells": [
  {
   "cell_type": "markdown",
   "id": "2bb9103a-3dac-4368-af3b-cb322684f578",
   "metadata": {},
   "source": [
    "# Conoscenza interente il dataset\n",
    "Un bando di gara è suddiviso in lotti. \n",
    "Per ciascun lotto si assegnano uno o più contratti a un vincitore.\n"
   ]
  },
  {
   "cell_type": "markdown",
   "id": "64b43da2-164e-419b-9b3f-8200d0603f64",
   "metadata": {
    "tags": []
   },
   "source": [
    "# Data quality\n",
    "* uniqueness: each record is distinct\n",
    "* accuracy: do data correctly represent the actual real object they stand for?\n",
    "* consistency: are the data cohenrent or are there any contradictions?\n",
    "* completeness: existence on non-null values\n",
    "* timeliness (availability): how much time pass before a datum is available for use?\n",
    "* currency: are data up-to-date?\n",
    "\n",
    "Within the dataset:  \n",
    "* the data are distinct.\n",
    "* accuracy is to be estimated\n",
    "* consistency: within the single record? within the whole dataset? to be estimated?\n",
    "* completeness: not at all\n",
    "* timeliness: time local adiministrations require to publish the data and Synapta requires to ETL\n",
    "* currency: at the moment is not a problem"
   ]
  },
  {
   "cell_type": "markdown",
   "id": "79d92aaf-82d2-4208-b48b-b13abb8b8cfe",
   "metadata": {},
   "source": [
    "# italiano : english\n",
    "bando : public call, public tender  \n",
    "lotto : lot"
   ]
  },
  {
   "cell_type": "markdown",
   "id": "6fb093c2-1a78-49fd-9de8-401fa09f72e9",
   "metadata": {
    "tags": []
   },
   "source": [
    "# dataset"
   ]
  },
  {
   "cell_type": "code",
   "execution_count": 1,
   "id": "15abda25-4aeb-4ec8-b143-5ab1bbce9559",
   "metadata": {},
   "outputs": [],
   "source": [
    "import numpy as np\n",
    "import pandas as pd\n",
    "from os import path\n",
    "\n",
    "data_directory = \"synData28June\"\n",
    "lotti_fn = \"export_lotti_veneto_2016_2018_giulio.csv\"\n",
    "vincitori_fn = \"export_vincitori_veneto_2016_2018_giulio.csv\"\n",
    "\n",
    "lotti = pd.read_csv(path.join(data_directory, lotti_fn), )\n",
    "vincitori = pd.read_csv(path.join(data_directory, vincitori_fn))"
   ]
  },
  {
   "cell_type": "markdown",
   "id": "a65b6b37-b3c2-4ede-8795-6dcacfa39a03",
   "metadata": {},
   "source": [
    "## lotti attributi\n",
    "1. **id lotto** identificatore del lotto di gara attribuito da Synapta\n",
    "2. **oggetto** oggetto del contratto del lotto di gara\n",
    "3. **id_scelta_contraente** identificatore numerico del metodo di assegnazione del lotto #(26)\n",
    "4. **id_cpv** *common procurement vocabulary* sistema di classificazione europeo per categorizzare l'oggetto dei contratti pubblici d'acquisto\n",
    "5. **importo** importo da pagare all'azienda fornitrice come definito dal contratto\n",
    "6. **importo_base_asta** importo massimo per l'asta a ribasso per il dato lotto\n",
    "7. **importo liquidato** importo effettivamente liquidato\n",
    "8. **data inizio** data d'inizio d'esecuzione del contratto\n",
    "9. **data fine** data di fine esecuzione del contratto\n",
    "10. **data inferita calcolata** booleano; se vero, la/le data/e sono state inferite da ?\n",
    "11. **id_lsf** identificatore lavoro, servizio, fornitura {1: lavoro, 2: servizio, 3: fornitura}\n",
    "12. **id_mod_realizz** modalilità realizzazione; specifica in funzione del contratto evenutalmente rimovibile#(12)\n",
    "13. **id_formagiuridica** identificatore della forma giuridica del committente\n",
    "14. **md5** hash(centrale di committenza)"
   ]
  },
  {
   "cell_type": "code",
   "execution_count": 2,
   "id": "87147e30-508b-41c1-b100-b00a6f1ed0d0",
   "metadata": {},
   "outputs": [
    {
     "data": {
      "text/html": [
       "<div>\n",
       "<style scoped>\n",
       "    .dataframe tbody tr th:only-of-type {\n",
       "        vertical-align: middle;\n",
       "    }\n",
       "\n",
       "    .dataframe tbody tr th {\n",
       "        vertical-align: top;\n",
       "    }\n",
       "\n",
       "    .dataframe thead th {\n",
       "        text-align: right;\n",
       "    }\n",
       "</style>\n",
       "<table border=\"1\" class=\"dataframe\">\n",
       "  <thead>\n",
       "    <tr style=\"text-align: right;\">\n",
       "      <th></th>\n",
       "      <th>id_lotto</th>\n",
       "      <th>oggetto</th>\n",
       "      <th>id_scelta_contraente</th>\n",
       "      <th>id_cpv</th>\n",
       "      <th>importo</th>\n",
       "      <th>importo_base_asta</th>\n",
       "      <th>importo_liquidato</th>\n",
       "      <th>data_inizio</th>\n",
       "      <th>data_fine</th>\n",
       "      <th>data_inferita_calcolata</th>\n",
       "      <th>id_lsf</th>\n",
       "      <th>id_mod_realizz</th>\n",
       "      <th>id_forma_giuridica</th>\n",
       "      <th>md5</th>\n",
       "    </tr>\n",
       "  </thead>\n",
       "  <tbody>\n",
       "    <tr>\n",
       "      <th>0</th>\n",
       "      <td>887826082</td>\n",
       "      <td>2017_OG1 OPERE EDILI - MANUTENZIONE ORDINARIA ...</td>\n",
       "      <td>27.0</td>\n",
       "      <td>7161.0</td>\n",
       "      <td>60000.00</td>\n",
       "      <td>NaN</td>\n",
       "      <td>NaN</td>\n",
       "      <td>2017-09-01</td>\n",
       "      <td>2017-12-30</td>\n",
       "      <td>True</td>\n",
       "      <td>1.0</td>\n",
       "      <td>13.0</td>\n",
       "      <td>154</td>\n",
       "      <td>1f2eac73c875ee65907ba4d8681a7d2a</td>\n",
       "    </tr>\n",
       "    <tr>\n",
       "      <th>1</th>\n",
       "      <td>14913388</td>\n",
       "      <td>SONDA PER PH METRIA ID 18P001</td>\n",
       "      <td>23.0</td>\n",
       "      <td>NaN</td>\n",
       "      <td>640.00</td>\n",
       "      <td>NaN</td>\n",
       "      <td>640.00</td>\n",
       "      <td>2018-08-09</td>\n",
       "      <td>2018-08-09</td>\n",
       "      <td>True</td>\n",
       "      <td>3.0</td>\n",
       "      <td>NaN</td>\n",
       "      <td>139</td>\n",
       "      <td>4c9f18d34d17b903f078e45bc25d54b1</td>\n",
       "    </tr>\n",
       "    <tr>\n",
       "      <th>2</th>\n",
       "      <td>13973004</td>\n",
       "      <td>CAT MOUNT GIREVOLE PED</td>\n",
       "      <td>23.0</td>\n",
       "      <td>NaN</td>\n",
       "      <td>27.50</td>\n",
       "      <td>NaN</td>\n",
       "      <td>27.45</td>\n",
       "      <td>2018-05-28</td>\n",
       "      <td>2018-05-28</td>\n",
       "      <td>True</td>\n",
       "      <td>3.0</td>\n",
       "      <td>NaN</td>\n",
       "      <td>135</td>\n",
       "      <td>4c9f18d34d17b903f078e45bc25d54b1</td>\n",
       "    </tr>\n",
       "    <tr>\n",
       "      <th>3</th>\n",
       "      <td>18037021</td>\n",
       "      <td>Servizio di ristorazione in occasione della 53...</td>\n",
       "      <td>23.0</td>\n",
       "      <td>NaN</td>\n",
       "      <td>4545.46</td>\n",
       "      <td>NaN</td>\n",
       "      <td>3190.91</td>\n",
       "      <td>2016-03-16</td>\n",
       "      <td>2016-04-21</td>\n",
       "      <td>True</td>\n",
       "      <td>2.0</td>\n",
       "      <td>NaN</td>\n",
       "      <td>75</td>\n",
       "      <td>380ded385c850cdd5f5aa90c91f9a0a9</td>\n",
       "    </tr>\n",
       "    <tr>\n",
       "      <th>4</th>\n",
       "      <td>11263465</td>\n",
       "      <td>Acquisto toner</td>\n",
       "      <td>23.0</td>\n",
       "      <td>NaN</td>\n",
       "      <td>79.00</td>\n",
       "      <td>NaN</td>\n",
       "      <td>79.00</td>\n",
       "      <td>2017-02-16</td>\n",
       "      <td>2017-05-12</td>\n",
       "      <td>True</td>\n",
       "      <td>3.0</td>\n",
       "      <td>NaN</td>\n",
       "      <td>103</td>\n",
       "      <td>e2d0bdd808a492fe24340a00f8cd6f7a</td>\n",
       "    </tr>\n",
       "  </tbody>\n",
       "</table>\n",
       "</div>"
      ],
      "text/plain": [
       "    id_lotto                                            oggetto  \\\n",
       "0  887826082  2017_OG1 OPERE EDILI - MANUTENZIONE ORDINARIA ...   \n",
       "1   14913388                      SONDA PER PH METRIA ID 18P001   \n",
       "2   13973004                             CAT MOUNT GIREVOLE PED   \n",
       "3   18037021  Servizio di ristorazione in occasione della 53...   \n",
       "4   11263465                                     Acquisto toner   \n",
       "\n",
       "   id_scelta_contraente  id_cpv   importo  importo_base_asta  \\\n",
       "0                  27.0  7161.0  60000.00                NaN   \n",
       "1                  23.0     NaN    640.00                NaN   \n",
       "2                  23.0     NaN     27.50                NaN   \n",
       "3                  23.0     NaN   4545.46                NaN   \n",
       "4                  23.0     NaN     79.00                NaN   \n",
       "\n",
       "   importo_liquidato data_inizio   data_fine  data_inferita_calcolata  id_lsf  \\\n",
       "0                NaN  2017-09-01  2017-12-30                     True     1.0   \n",
       "1             640.00  2018-08-09  2018-08-09                     True     3.0   \n",
       "2              27.45  2018-05-28  2018-05-28                     True     3.0   \n",
       "3            3190.91  2016-03-16  2016-04-21                     True     2.0   \n",
       "4              79.00  2017-02-16  2017-05-12                     True     3.0   \n",
       "\n",
       "   id_mod_realizz  id_forma_giuridica                               md5  \n",
       "0            13.0                 154  1f2eac73c875ee65907ba4d8681a7d2a  \n",
       "1             NaN                 139  4c9f18d34d17b903f078e45bc25d54b1  \n",
       "2             NaN                 135  4c9f18d34d17b903f078e45bc25d54b1  \n",
       "3             NaN                  75  380ded385c850cdd5f5aa90c91f9a0a9  \n",
       "4             NaN                 103  e2d0bdd808a492fe24340a00f8cd6f7a  "
      ]
     },
     "execution_count": 2,
     "metadata": {},
     "output_type": "execute_result"
    }
   ],
   "source": [
    "lotti.head()"
   ]
  },
  {
   "cell_type": "code",
   "execution_count": 3,
   "id": "f702ecc0-7b97-40d1-b298-855ac2030a78",
   "metadata": {},
   "outputs": [
    {
     "name": "stdout",
     "output_type": "stream",
     "text": [
      "how many missing variable in lotti.id_lotto?\n"
     ]
    },
    {
     "data": {
      "text/plain": [
       "0"
      ]
     },
     "execution_count": 3,
     "metadata": {},
     "output_type": "execute_result"
    }
   ],
   "source": [
    "print(\"how many missing variable in lotti.id_lotto?\")\n",
    "np.sum(pd.isna(lotti.id_lotto))"
   ]
  },
  {
   "cell_type": "code",
   "execution_count": 4,
   "id": "a5a430b0-cd0f-447e-88e9-8a651eb10a93",
   "metadata": {},
   "outputs": [
    {
     "name": "stdout",
     "output_type": "stream",
     "text": [
      "how many lots contain NaNs in id_scelta_contraente?\n"
     ]
    }
   ],
   "source": [
    "lotti.id_scelta_contraente.unique()\n",
    "print(\"how many lots contain NaNs in id_scelta_contraente?\")"
   ]
  },
  {
   "cell_type": "code",
   "execution_count": 5,
   "id": "fb3919a1-257b-44ab-9a12-885b57f27dd3",
   "metadata": {},
   "outputs": [
    {
     "name": "stdout",
     "output_type": "stream",
     "text": [
      "which lots do not have a id_scelta_contraente?\n"
     ]
    },
    {
     "data": {
      "text/html": [
       "<div>\n",
       "<style scoped>\n",
       "    .dataframe tbody tr th:only-of-type {\n",
       "        vertical-align: middle;\n",
       "    }\n",
       "\n",
       "    .dataframe tbody tr th {\n",
       "        vertical-align: top;\n",
       "    }\n",
       "\n",
       "    .dataframe thead th {\n",
       "        text-align: right;\n",
       "    }\n",
       "</style>\n",
       "<table border=\"1\" class=\"dataframe\">\n",
       "  <thead>\n",
       "    <tr style=\"text-align: right;\">\n",
       "      <th></th>\n",
       "      <th>id_lotto</th>\n",
       "      <th>oggetto</th>\n",
       "      <th>id_scelta_contraente</th>\n",
       "      <th>id_cpv</th>\n",
       "      <th>importo</th>\n",
       "      <th>importo_base_asta</th>\n",
       "      <th>importo_liquidato</th>\n",
       "      <th>data_inizio</th>\n",
       "      <th>data_fine</th>\n",
       "      <th>data_inferita_calcolata</th>\n",
       "      <th>id_lsf</th>\n",
       "      <th>id_mod_realizz</th>\n",
       "      <th>id_forma_giuridica</th>\n",
       "      <th>md5</th>\n",
       "    </tr>\n",
       "  </thead>\n",
       "  <tbody>\n",
       "    <tr>\n",
       "      <th>1609</th>\n",
       "      <td>11972362</td>\n",
       "      <td>SERVIZI DI TRASPORTO PUBBLICO LOCALE: ACCERTAM...</td>\n",
       "      <td>NaN</td>\n",
       "      <td>NaN</td>\n",
       "      <td>1.384415e+08</td>\n",
       "      <td>NaN</td>\n",
       "      <td>51705735.13</td>\n",
       "      <td>2017-06-30</td>\n",
       "      <td>2025-12-31</td>\n",
       "      <td>True</td>\n",
       "      <td>NaN</td>\n",
       "      <td>NaN</td>\n",
       "      <td>14</td>\n",
       "      <td>47a78836496a7a97994acb6aef0d8cbf</td>\n",
       "    </tr>\n",
       "    <tr>\n",
       "      <th>26022</th>\n",
       "      <td>3469444</td>\n",
       "      <td>Contratto di Servizio per il trasporto pubblic...</td>\n",
       "      <td>NaN</td>\n",
       "      <td>NaN</td>\n",
       "      <td>2.226800e+09</td>\n",
       "      <td>NaN</td>\n",
       "      <td>105000.00</td>\n",
       "      <td>2018-01-01</td>\n",
       "      <td>2032-12-31</td>\n",
       "      <td>True</td>\n",
       "      <td>NaN</td>\n",
       "      <td>NaN</td>\n",
       "      <td>19</td>\n",
       "      <td>47a78836496a7a97994acb6aef0d8cbf</td>\n",
       "    </tr>\n",
       "    <tr>\n",
       "      <th>40783</th>\n",
       "      <td>2316458</td>\n",
       "      <td>TRIZIVIR*60CPR RIV ABACAVIR/LAMIVUDINA/ZIDOVUD...</td>\n",
       "      <td>NaN</td>\n",
       "      <td>NaN</td>\n",
       "      <td>NaN</td>\n",
       "      <td>NaN</td>\n",
       "      <td>0.00</td>\n",
       "      <td>2016-05-23</td>\n",
       "      <td>NaN</td>\n",
       "      <td>True</td>\n",
       "      <td>NaN</td>\n",
       "      <td>NaN</td>\n",
       "      <td>139</td>\n",
       "      <td>4c9f18d34d17b903f078e45bc25d54b1</td>\n",
       "    </tr>\n",
       "    <tr>\n",
       "      <th>45428</th>\n",
       "      <td>18345252</td>\n",
       "      <td>GARA REGIONALE CIG MASTER</td>\n",
       "      <td>NaN</td>\n",
       "      <td>NaN</td>\n",
       "      <td>NaN</td>\n",
       "      <td>NaN</td>\n",
       "      <td>NaN</td>\n",
       "      <td>2016-07-01</td>\n",
       "      <td>2019-06-30</td>\n",
       "      <td>True</td>\n",
       "      <td>NaN</td>\n",
       "      <td>NaN</td>\n",
       "      <td>135</td>\n",
       "      <td>4c9f18d34d17b903f078e45bc25d54b1</td>\n",
       "    </tr>\n",
       "    <tr>\n",
       "      <th>49270</th>\n",
       "      <td>14164374</td>\n",
       "      <td>MIMPARA*28CPR RIV CINACALCET CLORIDRATO 2-E 20...</td>\n",
       "      <td>NaN</td>\n",
       "      <td>NaN</td>\n",
       "      <td>NaN</td>\n",
       "      <td>NaN</td>\n",
       "      <td>0.00</td>\n",
       "      <td>2016-05-24</td>\n",
       "      <td>NaN</td>\n",
       "      <td>True</td>\n",
       "      <td>NaN</td>\n",
       "      <td>NaN</td>\n",
       "      <td>139</td>\n",
       "      <td>4c9f18d34d17b903f078e45bc25d54b1</td>\n",
       "    </tr>\n",
       "    <tr>\n",
       "      <th>...</th>\n",
       "      <td>...</td>\n",
       "      <td>...</td>\n",
       "      <td>...</td>\n",
       "      <td>...</td>\n",
       "      <td>...</td>\n",
       "      <td>...</td>\n",
       "      <td>...</td>\n",
       "      <td>...</td>\n",
       "      <td>...</td>\n",
       "      <td>...</td>\n",
       "      <td>...</td>\n",
       "      <td>...</td>\n",
       "      <td>...</td>\n",
       "      <td>...</td>\n",
       "    </tr>\n",
       "    <tr>\n",
       "      <th>895045</th>\n",
       "      <td>17637222</td>\n",
       "      <td>MEROPENEM HOS*EV POLV 10FL 1G MEROPENEM L. 288...</td>\n",
       "      <td>NaN</td>\n",
       "      <td>NaN</td>\n",
       "      <td>NaN</td>\n",
       "      <td>NaN</td>\n",
       "      <td>0.00</td>\n",
       "      <td>2016-05-24</td>\n",
       "      <td>NaN</td>\n",
       "      <td>True</td>\n",
       "      <td>NaN</td>\n",
       "      <td>NaN</td>\n",
       "      <td>139</td>\n",
       "      <td>4c9f18d34d17b903f078e45bc25d54b1</td>\n",
       "    </tr>\n",
       "    <tr>\n",
       "      <th>905129</th>\n",
       "      <td>3342376</td>\n",
       "      <td>CHIROCAINE*10F 10ML LEVOBUPIVACAINA CLORIDRATO...</td>\n",
       "      <td>NaN</td>\n",
       "      <td>NaN</td>\n",
       "      <td>NaN</td>\n",
       "      <td>NaN</td>\n",
       "      <td>0.00</td>\n",
       "      <td>2016-05-25</td>\n",
       "      <td>NaN</td>\n",
       "      <td>True</td>\n",
       "      <td>NaN</td>\n",
       "      <td>NaN</td>\n",
       "      <td>139</td>\n",
       "      <td>4c9f18d34d17b903f078e45bc25d54b1</td>\n",
       "    </tr>\n",
       "    <tr>\n",
       "      <th>905183</th>\n",
       "      <td>4372333</td>\n",
       "      <td>ISENTRESS*FL 60CPR RIV 400MG RALTEGRAVIR POTAS...</td>\n",
       "      <td>NaN</td>\n",
       "      <td>NaN</td>\n",
       "      <td>NaN</td>\n",
       "      <td>NaN</td>\n",
       "      <td>0.00</td>\n",
       "      <td>2016-05-25</td>\n",
       "      <td>NaN</td>\n",
       "      <td>True</td>\n",
       "      <td>NaN</td>\n",
       "      <td>NaN</td>\n",
       "      <td>139</td>\n",
       "      <td>4c9f18d34d17b903f078e45bc25d54b1</td>\n",
       "    </tr>\n",
       "    <tr>\n",
       "      <th>922577</th>\n",
       "      <td>1753859</td>\n",
       "      <td>ZYVOXID LINEZOLID 2-E 2015/N.35 DEL 27 MARZO L...</td>\n",
       "      <td>NaN</td>\n",
       "      <td>NaN</td>\n",
       "      <td>NaN</td>\n",
       "      <td>NaN</td>\n",
       "      <td>0.00</td>\n",
       "      <td>2016-05-24</td>\n",
       "      <td>NaN</td>\n",
       "      <td>True</td>\n",
       "      <td>NaN</td>\n",
       "      <td>NaN</td>\n",
       "      <td>139</td>\n",
       "      <td>4c9f18d34d17b903f078e45bc25d54b1</td>\n",
       "    </tr>\n",
       "    <tr>\n",
       "      <th>936449</th>\n",
       "      <td>1513507</td>\n",
       "      <td>MITOMYCIN C*INIET 1FL MITOMICINA 2-E 2015/N.35...</td>\n",
       "      <td>NaN</td>\n",
       "      <td>NaN</td>\n",
       "      <td>NaN</td>\n",
       "      <td>NaN</td>\n",
       "      <td>0.00</td>\n",
       "      <td>2016-05-25</td>\n",
       "      <td>NaN</td>\n",
       "      <td>True</td>\n",
       "      <td>NaN</td>\n",
       "      <td>NaN</td>\n",
       "      <td>139</td>\n",
       "      <td>4c9f18d34d17b903f078e45bc25d54b1</td>\n",
       "    </tr>\n",
       "  </tbody>\n",
       "</table>\n",
       "<p>174 rows × 14 columns</p>\n",
       "</div>"
      ],
      "text/plain": [
       "        id_lotto                                            oggetto  \\\n",
       "1609    11972362  SERVIZI DI TRASPORTO PUBBLICO LOCALE: ACCERTAM...   \n",
       "26022    3469444  Contratto di Servizio per il trasporto pubblic...   \n",
       "40783    2316458  TRIZIVIR*60CPR RIV ABACAVIR/LAMIVUDINA/ZIDOVUD...   \n",
       "45428   18345252                          GARA REGIONALE CIG MASTER   \n",
       "49270   14164374  MIMPARA*28CPR RIV CINACALCET CLORIDRATO 2-E 20...   \n",
       "...          ...                                                ...   \n",
       "895045  17637222  MEROPENEM HOS*EV POLV 10FL 1G MEROPENEM L. 288...   \n",
       "905129   3342376  CHIROCAINE*10F 10ML LEVOBUPIVACAINA CLORIDRATO...   \n",
       "905183   4372333  ISENTRESS*FL 60CPR RIV 400MG RALTEGRAVIR POTAS...   \n",
       "922577   1753859  ZYVOXID LINEZOLID 2-E 2015/N.35 DEL 27 MARZO L...   \n",
       "936449   1513507  MITOMYCIN C*INIET 1FL MITOMICINA 2-E 2015/N.35...   \n",
       "\n",
       "        id_scelta_contraente  id_cpv       importo  importo_base_asta  \\\n",
       "1609                     NaN     NaN  1.384415e+08                NaN   \n",
       "26022                    NaN     NaN  2.226800e+09                NaN   \n",
       "40783                    NaN     NaN           NaN                NaN   \n",
       "45428                    NaN     NaN           NaN                NaN   \n",
       "49270                    NaN     NaN           NaN                NaN   \n",
       "...                      ...     ...           ...                ...   \n",
       "895045                   NaN     NaN           NaN                NaN   \n",
       "905129                   NaN     NaN           NaN                NaN   \n",
       "905183                   NaN     NaN           NaN                NaN   \n",
       "922577                   NaN     NaN           NaN                NaN   \n",
       "936449                   NaN     NaN           NaN                NaN   \n",
       "\n",
       "        importo_liquidato data_inizio   data_fine  data_inferita_calcolata  \\\n",
       "1609          51705735.13  2017-06-30  2025-12-31                     True   \n",
       "26022           105000.00  2018-01-01  2032-12-31                     True   \n",
       "40783                0.00  2016-05-23         NaN                     True   \n",
       "45428                 NaN  2016-07-01  2019-06-30                     True   \n",
       "49270                0.00  2016-05-24         NaN                     True   \n",
       "...                   ...         ...         ...                      ...   \n",
       "895045               0.00  2016-05-24         NaN                     True   \n",
       "905129               0.00  2016-05-25         NaN                     True   \n",
       "905183               0.00  2016-05-25         NaN                     True   \n",
       "922577               0.00  2016-05-24         NaN                     True   \n",
       "936449               0.00  2016-05-25         NaN                     True   \n",
       "\n",
       "        id_lsf  id_mod_realizz  id_forma_giuridica  \\\n",
       "1609       NaN             NaN                  14   \n",
       "26022      NaN             NaN                  19   \n",
       "40783      NaN             NaN                 139   \n",
       "45428      NaN             NaN                 135   \n",
       "49270      NaN             NaN                 139   \n",
       "...        ...             ...                 ...   \n",
       "895045     NaN             NaN                 139   \n",
       "905129     NaN             NaN                 139   \n",
       "905183     NaN             NaN                 139   \n",
       "922577     NaN             NaN                 139   \n",
       "936449     NaN             NaN                 139   \n",
       "\n",
       "                                     md5  \n",
       "1609    47a78836496a7a97994acb6aef0d8cbf  \n",
       "26022   47a78836496a7a97994acb6aef0d8cbf  \n",
       "40783   4c9f18d34d17b903f078e45bc25d54b1  \n",
       "45428   4c9f18d34d17b903f078e45bc25d54b1  \n",
       "49270   4c9f18d34d17b903f078e45bc25d54b1  \n",
       "...                                  ...  \n",
       "895045  4c9f18d34d17b903f078e45bc25d54b1  \n",
       "905129  4c9f18d34d17b903f078e45bc25d54b1  \n",
       "905183  4c9f18d34d17b903f078e45bc25d54b1  \n",
       "922577  4c9f18d34d17b903f078e45bc25d54b1  \n",
       "936449  4c9f18d34d17b903f078e45bc25d54b1  \n",
       "\n",
       "[174 rows x 14 columns]"
      ]
     },
     "execution_count": 5,
     "metadata": {},
     "output_type": "execute_result"
    }
   ],
   "source": [
    "print(\"which lots do not have a id_scelta_contraente?\")\n",
    "lotti[pd.isna(lotti.id_scelta_contraente)]"
   ]
  },
  {
   "cell_type": "code",
   "execution_count": 6,
   "id": "d14eb3f4-4357-4c0a-bae3-10813fc7ba46",
   "metadata": {},
   "outputs": [
    {
     "name": "stdout",
     "output_type": "stream",
     "text": [
      "how many types of provisioning?\n"
     ]
    },
    {
     "data": {
      "text/plain": [
       "array([13., nan,  3.,  1., 14., 11.,  4.,  9., 10.,  5.,  7.,  6.,  8.])"
      ]
     },
     "execution_count": 6,
     "metadata": {},
     "output_type": "execute_result"
    }
   ],
   "source": [
    "print(\"how many types of provisioning?\")\n",
    "lotti.id_mod_realizz.unique()"
   ]
  },
  {
   "cell_type": "code",
   "execution_count": 7,
   "id": "26a17c1c-8dfd-4350-b1b6-68d0bfdb242b",
   "metadata": {},
   "outputs": [
    {
     "name": "stdout",
     "output_type": "stream",
     "text": [
      "what percentage of records do not have a specified type of provisioning?\n"
     ]
    },
    {
     "data": {
      "text/plain": [
       "0.95"
      ]
     },
     "execution_count": 7,
     "metadata": {},
     "output_type": "execute_result"
    }
   ],
   "source": [
    "print(\"what percentage of records do not have a specified type of provisioning?\")\n",
    "np.round(np.sum(lotti.id_mod_realizz.isna()) / lotti.shape[0], 2)"
   ]
  },
  {
   "cell_type": "code",
   "execution_count": 8,
   "id": "30b32649-99a0-4083-aea2-453eb57a670a",
   "metadata": {},
   "outputs": [
    {
     "name": "stdout",
     "output_type": "stream",
     "text": [
      "how many rows does are duplicate in lotti dataset?\n"
     ]
    },
    {
     "data": {
      "text/plain": [
       "0"
      ]
     },
     "execution_count": 8,
     "metadata": {},
     "output_type": "execute_result"
    }
   ],
   "source": [
    "print(\"how many rows does are duplicate in lotti dataset?\")\n",
    "np.sum(lotti.duplicated())"
   ]
  },
  {
   "cell_type": "markdown",
   "id": "56299436-9a7b-4b31-be20-2345e704e5b1",
   "metadata": {},
   "source": [
    "## vincitori attributes\n",
    "1. **id_lotto** identificatore del lotto di gara\n",
    "2. **ruolo** ruolo del vincitore di gara, e.g. \"mandante\", \"mandataria\", \"capogruppo\" etc\n",
    "3. **id_be** identificatore della business entity\n",
    "3. **id_forma_giuridica** identificatore della forma giuridica del vincitore e.g. srl, sas, spa...\n",
    "4. **md5** hash(centrale di committenza) del vincitore o della pa che ha bandito il lotto?"
   ]
  },
  {
   "cell_type": "code",
   "execution_count": 9,
   "id": "b2c49dae-5bf8-41d1-b625-0b1886cbd926",
   "metadata": {},
   "outputs": [
    {
     "data": {
      "text/html": [
       "<div>\n",
       "<style scoped>\n",
       "    .dataframe tbody tr th:only-of-type {\n",
       "        vertical-align: middle;\n",
       "    }\n",
       "\n",
       "    .dataframe tbody tr th {\n",
       "        vertical-align: top;\n",
       "    }\n",
       "\n",
       "    .dataframe thead th {\n",
       "        text-align: right;\n",
       "    }\n",
       "</style>\n",
       "<table border=\"1\" class=\"dataframe\">\n",
       "  <thead>\n",
       "    <tr style=\"text-align: right;\">\n",
       "      <th></th>\n",
       "      <th>id_lotto</th>\n",
       "      <th>ruolo</th>\n",
       "      <th>id_be</th>\n",
       "      <th>id_forma_giuridica</th>\n",
       "      <th>md5</th>\n",
       "    </tr>\n",
       "  </thead>\n",
       "  <tbody>\n",
       "    <tr>\n",
       "      <th>0</th>\n",
       "      <td>887826082</td>\n",
       "      <td>NaN</td>\n",
       "      <td>90464</td>\n",
       "      <td>154</td>\n",
       "      <td>1f2eac73c875ee65907ba4d8681a7d2a</td>\n",
       "    </tr>\n",
       "    <tr>\n",
       "      <th>1</th>\n",
       "      <td>14913388</td>\n",
       "      <td>NaN</td>\n",
       "      <td>85208</td>\n",
       "      <td>176</td>\n",
       "      <td>1f2eac73c875ee65907ba4d8681a7d2a</td>\n",
       "    </tr>\n",
       "    <tr>\n",
       "      <th>2</th>\n",
       "      <td>13973004</td>\n",
       "      <td>NaN</td>\n",
       "      <td>89811</td>\n",
       "      <td>155</td>\n",
       "      <td>1f2eac73c875ee65907ba4d8681a7d2a</td>\n",
       "    </tr>\n",
       "    <tr>\n",
       "      <th>3</th>\n",
       "      <td>18037021</td>\n",
       "      <td>NaN</td>\n",
       "      <td>265228</td>\n",
       "      <td>175</td>\n",
       "      <td>1f2eac73c875ee65907ba4d8681a7d2a</td>\n",
       "    </tr>\n",
       "    <tr>\n",
       "      <th>4</th>\n",
       "      <td>11263465</td>\n",
       "      <td>NaN</td>\n",
       "      <td>356115</td>\n",
       "      <td>174</td>\n",
       "      <td>1f2eac73c875ee65907ba4d8681a7d2a</td>\n",
       "    </tr>\n",
       "  </tbody>\n",
       "</table>\n",
       "</div>"
      ],
      "text/plain": [
       "    id_lotto ruolo   id_be  id_forma_giuridica  \\\n",
       "0  887826082   NaN   90464                 154   \n",
       "1   14913388   NaN   85208                 176   \n",
       "2   13973004   NaN   89811                 155   \n",
       "3   18037021   NaN  265228                 175   \n",
       "4   11263465   NaN  356115                 174   \n",
       "\n",
       "                                md5  \n",
       "0  1f2eac73c875ee65907ba4d8681a7d2a  \n",
       "1  1f2eac73c875ee65907ba4d8681a7d2a  \n",
       "2  1f2eac73c875ee65907ba4d8681a7d2a  \n",
       "3  1f2eac73c875ee65907ba4d8681a7d2a  \n",
       "4  1f2eac73c875ee65907ba4d8681a7d2a  "
      ]
     },
     "execution_count": 9,
     "metadata": {},
     "output_type": "execute_result"
    }
   ],
   "source": [
    "vincitori.head()"
   ]
  },
  {
   "cell_type": "code",
   "execution_count": 10,
   "id": "73807770-68f1-4145-9b2f-b1e415979a21",
   "metadata": {},
   "outputs": [
    {
     "name": "stdout",
     "output_type": "stream",
     "text": [
      "how many non-unique id_lotto in vincitori dataframe?\n"
     ]
    },
    {
     "data": {
      "text/plain": [
       "19039"
      ]
     },
     "execution_count": 10,
     "metadata": {},
     "output_type": "execute_result"
    }
   ],
   "source": [
    "print(\"how many non-unique id_lotto in vincitori dataframe?\")\n",
    "vincitori.shape[0] - np.unique(vincitori.id_lotto).shape[0]"
   ]
  },
  {
   "cell_type": "code",
   "execution_count": 11,
   "id": "1c0a5532-8944-4173-843a-676550c982eb",
   "metadata": {},
   "outputs": [
    {
     "name": "stdout",
     "output_type": "stream",
     "text": [
      "duplicated items in vincitori.id_lotto\n"
     ]
    },
    {
     "data": {
      "text/html": [
       "<div>\n",
       "<style scoped>\n",
       "    .dataframe tbody tr th:only-of-type {\n",
       "        vertical-align: middle;\n",
       "    }\n",
       "\n",
       "    .dataframe tbody tr th {\n",
       "        vertical-align: top;\n",
       "    }\n",
       "\n",
       "    .dataframe thead th {\n",
       "        text-align: right;\n",
       "    }\n",
       "</style>\n",
       "<table border=\"1\" class=\"dataframe\">\n",
       "  <thead>\n",
       "    <tr style=\"text-align: right;\">\n",
       "      <th></th>\n",
       "      <th>id_lotto</th>\n",
       "      <th>ruolo</th>\n",
       "      <th>id_be</th>\n",
       "      <th>id_forma_giuridica</th>\n",
       "      <th>md5</th>\n",
       "    </tr>\n",
       "  </thead>\n",
       "  <tbody>\n",
       "    <tr>\n",
       "      <th>39</th>\n",
       "      <td>16418031</td>\n",
       "      <td>NaN</td>\n",
       "      <td>600910</td>\n",
       "      <td>171</td>\n",
       "      <td>1f2eac73c875ee65907ba4d8681a7d2a</td>\n",
       "    </tr>\n",
       "    <tr>\n",
       "      <th>68</th>\n",
       "      <td>933784192</td>\n",
       "      <td>NaN</td>\n",
       "      <td>95012</td>\n",
       "      <td>174</td>\n",
       "      <td>1f2eac73c875ee65907ba4d8681a7d2a</td>\n",
       "    </tr>\n",
       "    <tr>\n",
       "      <th>239</th>\n",
       "      <td>15751142</td>\n",
       "      <td>NaN</td>\n",
       "      <td>89503</td>\n",
       "      <td>154</td>\n",
       "      <td>1f2eac73c875ee65907ba4d8681a7d2a</td>\n",
       "    </tr>\n",
       "    <tr>\n",
       "      <th>341</th>\n",
       "      <td>8814713</td>\n",
       "      <td>NaN</td>\n",
       "      <td>151995</td>\n",
       "      <td>154</td>\n",
       "      <td>1f2eac73c875ee65907ba4d8681a7d2a</td>\n",
       "    </tr>\n",
       "    <tr>\n",
       "      <th>342</th>\n",
       "      <td>8814713</td>\n",
       "      <td>NaN</td>\n",
       "      <td>371725</td>\n",
       "      <td>154</td>\n",
       "      <td>1f2eac73c875ee65907ba4d8681a7d2a</td>\n",
       "    </tr>\n",
       "    <tr>\n",
       "      <th>...</th>\n",
       "      <td>...</td>\n",
       "      <td>...</td>\n",
       "      <td>...</td>\n",
       "      <td>...</td>\n",
       "      <td>...</td>\n",
       "    </tr>\n",
       "    <tr>\n",
       "      <th>916461</th>\n",
       "      <td>277772</td>\n",
       "      <td>NaN</td>\n",
       "      <td>407113</td>\n",
       "      <td>154</td>\n",
       "      <td>1f2eac73c875ee65907ba4d8681a7d2a</td>\n",
       "    </tr>\n",
       "    <tr>\n",
       "      <th>916528</th>\n",
       "      <td>11843948</td>\n",
       "      <td>NaN</td>\n",
       "      <td>91850</td>\n",
       "      <td>154</td>\n",
       "      <td>1f2eac73c875ee65907ba4d8681a7d2a</td>\n",
       "    </tr>\n",
       "    <tr>\n",
       "      <th>916578</th>\n",
       "      <td>14728230</td>\n",
       "      <td>NaN</td>\n",
       "      <td>110530</td>\n",
       "      <td>154</td>\n",
       "      <td>1f2eac73c875ee65907ba4d8681a7d2a</td>\n",
       "    </tr>\n",
       "    <tr>\n",
       "      <th>917049</th>\n",
       "      <td>18316161</td>\n",
       "      <td>01-MANDANTE</td>\n",
       "      <td>91964</td>\n",
       "      <td>154</td>\n",
       "      <td>1f2eac73c875ee65907ba4d8681a7d2a</td>\n",
       "    </tr>\n",
       "    <tr>\n",
       "      <th>917270</th>\n",
       "      <td>4927733</td>\n",
       "      <td>NaN</td>\n",
       "      <td>260367</td>\n",
       "      <td>154</td>\n",
       "      <td>1f2eac73c875ee65907ba4d8681a7d2a</td>\n",
       "    </tr>\n",
       "  </tbody>\n",
       "</table>\n",
       "<p>19039 rows × 5 columns</p>\n",
       "</div>"
      ],
      "text/plain": [
       "         id_lotto        ruolo   id_be  id_forma_giuridica  \\\n",
       "39       16418031          NaN  600910                 171   \n",
       "68      933784192          NaN   95012                 174   \n",
       "239      15751142          NaN   89503                 154   \n",
       "341       8814713          NaN  151995                 154   \n",
       "342       8814713          NaN  371725                 154   \n",
       "...           ...          ...     ...                 ...   \n",
       "916461     277772          NaN  407113                 154   \n",
       "916528   11843948          NaN   91850                 154   \n",
       "916578   14728230          NaN  110530                 154   \n",
       "917049   18316161  01-MANDANTE   91964                 154   \n",
       "917270    4927733          NaN  260367                 154   \n",
       "\n",
       "                                     md5  \n",
       "39      1f2eac73c875ee65907ba4d8681a7d2a  \n",
       "68      1f2eac73c875ee65907ba4d8681a7d2a  \n",
       "239     1f2eac73c875ee65907ba4d8681a7d2a  \n",
       "341     1f2eac73c875ee65907ba4d8681a7d2a  \n",
       "342     1f2eac73c875ee65907ba4d8681a7d2a  \n",
       "...                                  ...  \n",
       "916461  1f2eac73c875ee65907ba4d8681a7d2a  \n",
       "916528  1f2eac73c875ee65907ba4d8681a7d2a  \n",
       "916578  1f2eac73c875ee65907ba4d8681a7d2a  \n",
       "917049  1f2eac73c875ee65907ba4d8681a7d2a  \n",
       "917270  1f2eac73c875ee65907ba4d8681a7d2a  \n",
       "\n",
       "[19039 rows x 5 columns]"
      ]
     },
     "execution_count": 11,
     "metadata": {},
     "output_type": "execute_result"
    }
   ],
   "source": [
    "print(\"duplicated items in vincitori.id_lotto\")\n",
    "vincitori[vincitori.id_lotto.duplicated()]"
   ]
  },
  {
   "cell_type": "code",
   "execution_count": 12,
   "id": "23e68592-97d4-4a1b-8b88-8efc8983b81a",
   "metadata": {},
   "outputs": [
    {
     "name": "stdout",
     "output_type": "stream",
     "text": [
      "how many rows are duplicate in vincitori dataset?\n"
     ]
    },
    {
     "data": {
      "text/plain": [
       "9"
      ]
     },
     "execution_count": 12,
     "metadata": {},
     "output_type": "execute_result"
    }
   ],
   "source": [
    "print(\"how many rows are duplicate in vincitori dataset?\")\n",
    "np.sum(vincitori.duplicated())"
   ]
  },
  {
   "cell_type": "markdown",
   "id": "f7526d49-f3bb-41da-ada9-ae3e3af1f080",
   "metadata": {},
   "source": [
    "And we shall get rid of them. \n",
    "Davide spiega che succede perché alcune PA attribuiscono la vittoria di una gara alla medesima azienda sia in qualità di capogruppo di aziende che come singola."
   ]
  },
  {
   "cell_type": "code",
   "execution_count": 13,
   "id": "62637152-554a-4ab2-9551-5af10a7bc910",
   "metadata": {},
   "outputs": [
    {
     "name": "stdout",
     "output_type": "stream",
     "text": [
      "how many vincitori.id_lotto are duplicated?\n"
     ]
    },
    {
     "data": {
      "text/plain": [
       "19039"
      ]
     },
     "execution_count": 13,
     "metadata": {},
     "output_type": "execute_result"
    }
   ],
   "source": [
    "print(\"how many vincitori.id_lotto are duplicated?\")\n",
    "np.sum(vincitori.id_lotto.duplicated())"
   ]
  },
  {
   "cell_type": "markdown",
   "id": "e3295cd8-e04f-42a1-a494-5957c3ec256c",
   "metadata": {},
   "source": [
    "this means that the same lot is won by more than one tender"
   ]
  },
  {
   "cell_type": "code",
   "execution_count": 14,
   "id": "6cc5bcde-4739-46f0-9e31-15fb7366e275",
   "metadata": {},
   "outputs": [
    {
     "data": {
      "text/html": [
       "<div>\n",
       "<style scoped>\n",
       "    .dataframe tbody tr th:only-of-type {\n",
       "        vertical-align: middle;\n",
       "    }\n",
       "\n",
       "    .dataframe tbody tr th {\n",
       "        vertical-align: top;\n",
       "    }\n",
       "\n",
       "    .dataframe thead th {\n",
       "        text-align: right;\n",
       "    }\n",
       "</style>\n",
       "<table border=\"1\" class=\"dataframe\">\n",
       "  <thead>\n",
       "    <tr style=\"text-align: right;\">\n",
       "      <th></th>\n",
       "      <th>id_lotto</th>\n",
       "      <th>ruolo</th>\n",
       "      <th>id_be</th>\n",
       "      <th>id_forma_giuridica</th>\n",
       "      <th>md5</th>\n",
       "    </tr>\n",
       "  </thead>\n",
       "  <tbody>\n",
       "    <tr>\n",
       "      <th>38</th>\n",
       "      <td>16418031</td>\n",
       "      <td>NaN</td>\n",
       "      <td>3079</td>\n",
       "      <td>176</td>\n",
       "      <td>1f2eac73c875ee65907ba4d8681a7d2a</td>\n",
       "    </tr>\n",
       "    <tr>\n",
       "      <th>39</th>\n",
       "      <td>16418031</td>\n",
       "      <td>NaN</td>\n",
       "      <td>600910</td>\n",
       "      <td>171</td>\n",
       "      <td>1f2eac73c875ee65907ba4d8681a7d2a</td>\n",
       "    </tr>\n",
       "    <tr>\n",
       "      <th>67</th>\n",
       "      <td>933784192</td>\n",
       "      <td>NaN</td>\n",
       "      <td>93326</td>\n",
       "      <td>154</td>\n",
       "      <td>1f2eac73c875ee65907ba4d8681a7d2a</td>\n",
       "    </tr>\n",
       "    <tr>\n",
       "      <th>68</th>\n",
       "      <td>933784192</td>\n",
       "      <td>NaN</td>\n",
       "      <td>95012</td>\n",
       "      <td>174</td>\n",
       "      <td>1f2eac73c875ee65907ba4d8681a7d2a</td>\n",
       "    </tr>\n",
       "    <tr>\n",
       "      <th>238</th>\n",
       "      <td>15751142</td>\n",
       "      <td>NaN</td>\n",
       "      <td>1699255</td>\n",
       "      <td>6</td>\n",
       "      <td>eaf4ac8f35faf9443c6b08dd0eee6399</td>\n",
       "    </tr>\n",
       "    <tr>\n",
       "      <th>...</th>\n",
       "      <td>...</td>\n",
       "      <td>...</td>\n",
       "      <td>...</td>\n",
       "      <td>...</td>\n",
       "      <td>...</td>\n",
       "    </tr>\n",
       "    <tr>\n",
       "      <th>916578</th>\n",
       "      <td>14728230</td>\n",
       "      <td>NaN</td>\n",
       "      <td>110530</td>\n",
       "      <td>154</td>\n",
       "      <td>1f2eac73c875ee65907ba4d8681a7d2a</td>\n",
       "    </tr>\n",
       "    <tr>\n",
       "      <th>917048</th>\n",
       "      <td>18316161</td>\n",
       "      <td>02-MANDATARIA</td>\n",
       "      <td>16739</td>\n",
       "      <td>176</td>\n",
       "      <td>1f2eac73c875ee65907ba4d8681a7d2a</td>\n",
       "    </tr>\n",
       "    <tr>\n",
       "      <th>917049</th>\n",
       "      <td>18316161</td>\n",
       "      <td>01-MANDANTE</td>\n",
       "      <td>91964</td>\n",
       "      <td>154</td>\n",
       "      <td>1f2eac73c875ee65907ba4d8681a7d2a</td>\n",
       "    </tr>\n",
       "    <tr>\n",
       "      <th>917269</th>\n",
       "      <td>4927733</td>\n",
       "      <td>NaN</td>\n",
       "      <td>90274</td>\n",
       "      <td>154</td>\n",
       "      <td>1f2eac73c875ee65907ba4d8681a7d2a</td>\n",
       "    </tr>\n",
       "    <tr>\n",
       "      <th>917270</th>\n",
       "      <td>4927733</td>\n",
       "      <td>NaN</td>\n",
       "      <td>260367</td>\n",
       "      <td>154</td>\n",
       "      <td>1f2eac73c875ee65907ba4d8681a7d2a</td>\n",
       "    </tr>\n",
       "  </tbody>\n",
       "</table>\n",
       "<p>29495 rows × 5 columns</p>\n",
       "</div>"
      ],
      "text/plain": [
       "         id_lotto          ruolo    id_be  id_forma_giuridica  \\\n",
       "38       16418031            NaN     3079                 176   \n",
       "39       16418031            NaN   600910                 171   \n",
       "67      933784192            NaN    93326                 154   \n",
       "68      933784192            NaN    95012                 174   \n",
       "238      15751142            NaN  1699255                   6   \n",
       "...           ...            ...      ...                 ...   \n",
       "916578   14728230            NaN   110530                 154   \n",
       "917048   18316161  02-MANDATARIA    16739                 176   \n",
       "917049   18316161    01-MANDANTE    91964                 154   \n",
       "917269    4927733            NaN    90274                 154   \n",
       "917270    4927733            NaN   260367                 154   \n",
       "\n",
       "                                     md5  \n",
       "38      1f2eac73c875ee65907ba4d8681a7d2a  \n",
       "39      1f2eac73c875ee65907ba4d8681a7d2a  \n",
       "67      1f2eac73c875ee65907ba4d8681a7d2a  \n",
       "68      1f2eac73c875ee65907ba4d8681a7d2a  \n",
       "238     eaf4ac8f35faf9443c6b08dd0eee6399  \n",
       "...                                  ...  \n",
       "916578  1f2eac73c875ee65907ba4d8681a7d2a  \n",
       "917048  1f2eac73c875ee65907ba4d8681a7d2a  \n",
       "917049  1f2eac73c875ee65907ba4d8681a7d2a  \n",
       "917269  1f2eac73c875ee65907ba4d8681a7d2a  \n",
       "917270  1f2eac73c875ee65907ba4d8681a7d2a  \n",
       "\n",
       "[29495 rows x 5 columns]"
      ]
     },
     "execution_count": 14,
     "metadata": {},
     "output_type": "execute_result"
    }
   ],
   "source": [
    "vincitori[vincitori.id_lotto.duplicated(keep=False)]"
   ]
  },
  {
   "cell_type": "code",
   "execution_count": 15,
   "id": "6fbe6d86-396b-4f67-a881-08d027d40040",
   "metadata": {},
   "outputs": [
    {
     "name": "stderr",
     "output_type": "stream",
     "text": [
      "/var/folders/zw/jt2ycyfx58j5m2lkspywwvnm0000gn/T/ipykernel_3555/2535312974.py:1: UserWarning: Boolean Series key will be reindexed to match DataFrame index.\n",
      "  vincitori[vincitori.id_lotto.duplicated(keep=False)][vincitori.ruolo.notna()]\n"
     ]
    },
    {
     "data": {
      "text/html": [
       "<div>\n",
       "<style scoped>\n",
       "    .dataframe tbody tr th:only-of-type {\n",
       "        vertical-align: middle;\n",
       "    }\n",
       "\n",
       "    .dataframe tbody tr th {\n",
       "        vertical-align: top;\n",
       "    }\n",
       "\n",
       "    .dataframe thead th {\n",
       "        text-align: right;\n",
       "    }\n",
       "</style>\n",
       "<table border=\"1\" class=\"dataframe\">\n",
       "  <thead>\n",
       "    <tr style=\"text-align: right;\">\n",
       "      <th></th>\n",
       "      <th>id_lotto</th>\n",
       "      <th>ruolo</th>\n",
       "      <th>id_be</th>\n",
       "      <th>id_forma_giuridica</th>\n",
       "      <th>md5</th>\n",
       "    </tr>\n",
       "  </thead>\n",
       "  <tbody>\n",
       "    <tr>\n",
       "      <th>654</th>\n",
       "      <td>5912215</td>\n",
       "      <td>03-ASSOCIATA</td>\n",
       "      <td>334337</td>\n",
       "      <td>155</td>\n",
       "      <td>1f2eac73c875ee65907ba4d8681a7d2a</td>\n",
       "    </tr>\n",
       "    <tr>\n",
       "      <th>655</th>\n",
       "      <td>5912215</td>\n",
       "      <td>04-CAPOGRUPPO</td>\n",
       "      <td>449509</td>\n",
       "      <td>152</td>\n",
       "      <td>1f2eac73c875ee65907ba4d8681a7d2a</td>\n",
       "    </tr>\n",
       "    <tr>\n",
       "      <th>804</th>\n",
       "      <td>14265562</td>\n",
       "      <td>04-CAPOGRUPPO</td>\n",
       "      <td>97782</td>\n",
       "      <td>176</td>\n",
       "      <td>1f2eac73c875ee65907ba4d8681a7d2a</td>\n",
       "    </tr>\n",
       "    <tr>\n",
       "      <th>805</th>\n",
       "      <td>14265562</td>\n",
       "      <td>03-ASSOCIATA</td>\n",
       "      <td>314379</td>\n",
       "      <td>154</td>\n",
       "      <td>1f2eac73c875ee65907ba4d8681a7d2a</td>\n",
       "    </tr>\n",
       "    <tr>\n",
       "      <th>1786</th>\n",
       "      <td>9094048</td>\n",
       "      <td>01-MANDANTE</td>\n",
       "      <td>85377</td>\n",
       "      <td>176</td>\n",
       "      <td>1f2eac73c875ee65907ba4d8681a7d2a</td>\n",
       "    </tr>\n",
       "    <tr>\n",
       "      <th>...</th>\n",
       "      <td>...</td>\n",
       "      <td>...</td>\n",
       "      <td>...</td>\n",
       "      <td>...</td>\n",
       "      <td>...</td>\n",
       "    </tr>\n",
       "    <tr>\n",
       "      <th>915843</th>\n",
       "      <td>2796660</td>\n",
       "      <td>MANDANTE</td>\n",
       "      <td>100237</td>\n",
       "      <td>154</td>\n",
       "      <td>1f2eac73c875ee65907ba4d8681a7d2a</td>\n",
       "    </tr>\n",
       "    <tr>\n",
       "      <th>915844</th>\n",
       "      <td>2796660</td>\n",
       "      <td>MANDANTE</td>\n",
       "      <td>107370</td>\n",
       "      <td>154</td>\n",
       "      <td>1f2eac73c875ee65907ba4d8681a7d2a</td>\n",
       "    </tr>\n",
       "    <tr>\n",
       "      <th>915845</th>\n",
       "      <td>2796660</td>\n",
       "      <td>MANDATARIA</td>\n",
       "      <td>133365</td>\n",
       "      <td>165</td>\n",
       "      <td>1f2eac73c875ee65907ba4d8681a7d2a</td>\n",
       "    </tr>\n",
       "    <tr>\n",
       "      <th>917048</th>\n",
       "      <td>18316161</td>\n",
       "      <td>02-MANDATARIA</td>\n",
       "      <td>16739</td>\n",
       "      <td>176</td>\n",
       "      <td>1f2eac73c875ee65907ba4d8681a7d2a</td>\n",
       "    </tr>\n",
       "    <tr>\n",
       "      <th>917049</th>\n",
       "      <td>18316161</td>\n",
       "      <td>01-MANDANTE</td>\n",
       "      <td>91964</td>\n",
       "      <td>154</td>\n",
       "      <td>1f2eac73c875ee65907ba4d8681a7d2a</td>\n",
       "    </tr>\n",
       "  </tbody>\n",
       "</table>\n",
       "<p>4194 rows × 5 columns</p>\n",
       "</div>"
      ],
      "text/plain": [
       "        id_lotto          ruolo   id_be  id_forma_giuridica  \\\n",
       "654      5912215   03-ASSOCIATA  334337                 155   \n",
       "655      5912215  04-CAPOGRUPPO  449509                 152   \n",
       "804     14265562  04-CAPOGRUPPO   97782                 176   \n",
       "805     14265562   03-ASSOCIATA  314379                 154   \n",
       "1786     9094048    01-MANDANTE   85377                 176   \n",
       "...          ...            ...     ...                 ...   \n",
       "915843   2796660       MANDANTE  100237                 154   \n",
       "915844   2796660       MANDANTE  107370                 154   \n",
       "915845   2796660     MANDATARIA  133365                 165   \n",
       "917048  18316161  02-MANDATARIA   16739                 176   \n",
       "917049  18316161    01-MANDANTE   91964                 154   \n",
       "\n",
       "                                     md5  \n",
       "654     1f2eac73c875ee65907ba4d8681a7d2a  \n",
       "655     1f2eac73c875ee65907ba4d8681a7d2a  \n",
       "804     1f2eac73c875ee65907ba4d8681a7d2a  \n",
       "805     1f2eac73c875ee65907ba4d8681a7d2a  \n",
       "1786    1f2eac73c875ee65907ba4d8681a7d2a  \n",
       "...                                  ...  \n",
       "915843  1f2eac73c875ee65907ba4d8681a7d2a  \n",
       "915844  1f2eac73c875ee65907ba4d8681a7d2a  \n",
       "915845  1f2eac73c875ee65907ba4d8681a7d2a  \n",
       "917048  1f2eac73c875ee65907ba4d8681a7d2a  \n",
       "917049  1f2eac73c875ee65907ba4d8681a7d2a  \n",
       "\n",
       "[4194 rows x 5 columns]"
      ]
     },
     "execution_count": 15,
     "metadata": {},
     "output_type": "execute_result"
    }
   ],
   "source": [
    "vincitori[vincitori.id_lotto.duplicated(keep=False)][vincitori.ruolo.notna()]"
   ]
  },
  {
   "cell_type": "code",
   "execution_count": 16,
   "id": "cc79b351-4e19-42f3-9b4a-ece46c62dfc3",
   "metadata": {},
   "outputs": [
    {
     "name": "stdout",
     "output_type": "stream",
     "text": [
      "how many lots do not have an assigned winner?\n"
     ]
    },
    {
     "data": {
      "text/plain": [
       "30197"
      ]
     },
     "execution_count": 16,
     "metadata": {},
     "output_type": "execute_result"
    }
   ],
   "source": [
    "print(\"how many lots do not have an assigned winner?\")\n",
    "lotti.shape[0] - vincitori.shape[0]"
   ]
  },
  {
   "cell_type": "markdown",
   "id": "ce9e47c2-7244-44d4-99c7-33ec02238512",
   "metadata": {},
   "source": [
    "and this is not ok, Davide said. We should investigate why."
   ]
  },
  {
   "cell_type": "markdown",
   "id": "bfdcd54a-5a54-43ed-82ed-25cb341e0a53",
   "metadata": {
    "tags": []
   },
   "source": [
    "## Lotti left-join vincitori"
   ]
  },
  {
   "cell_type": "code",
   "execution_count": 47,
   "id": "640cf4a4-b2d4-43ba-9ed4-f6f2dacbf9c7",
   "metadata": {},
   "outputs": [
    {
     "data": {
      "text/plain": [
       "(966536, 18)"
      ]
     },
     "execution_count": 47,
     "metadata": {},
     "output_type": "execute_result"
    }
   ],
   "source": [
    "df = lotti.merge(vincitori,how=\"left\", on=\"id_lotto\")\n",
    "df.shape"
   ]
  },
  {
   "cell_type": "code",
   "execution_count": 48,
   "id": "06fa4861-d6c9-4242-91fa-a1ca41b9e397",
   "metadata": {},
   "outputs": [],
   "source": [
    "df.data_inizio = pd.to_datetime(df.data_inizio, yearfirst=True)\n",
    "df.loc[df.id_scelta_contraente.notna(),\"id_scelta_contraente\"] = df[df.id_scelta_contraente.notna()].astype({\"id_scelta_contraente\":\"int32\"})\n",
    "# df = df[df.id_cpv.notna()].astype({\"id_cpv\": \"int32\"})\n",
    "# df = df[df.id_lsf.notna()].astype({\"id_lsf\": \"int32\"})"
   ]
  },
  {
   "cell_type": "code",
   "execution_count": 21,
   "id": "2162e8c0-5796-4043-b66a-23d1315abc20",
   "metadata": {},
   "outputs": [
    {
     "data": {
      "text/plain": [
       "-880781"
      ]
     },
     "execution_count": 21,
     "metadata": {},
     "output_type": "execute_result"
    }
   ],
   "source": [
    "df.shape[0] - lotti.shape[0] "
   ]
  },
  {
   "cell_type": "markdown",
   "id": "5931e669-3498-41fb-ac5b-0cf361a5b029",
   "metadata": {},
   "source": [
    "There are more call-winner than lots. This is because there are more than one winner to the same public call. "
   ]
  },
  {
   "cell_type": "markdown",
   "id": "4151cd2b-9b57-4e96-9e88-a45d7f7269a0",
   "metadata": {},
   "source": [
    "# Missing values"
   ]
  },
  {
   "cell_type": "code",
   "execution_count": 22,
   "id": "557af58e-6431-43fc-8b8b-5f0b40ba65d0",
   "metadata": {},
   "outputs": [
    {
     "data": {
      "text/plain": [
       "id_lotto                       0\n",
       "oggetto                        0\n",
       "id_scelta_contraente           0\n",
       "id_cpv                         0\n",
       "importo                        6\n",
       "importo_base_asta          60511\n",
       "importo_liquidato          12315\n",
       "data_inizio                    0\n",
       "data_fine                   2946\n",
       "data_inferita_calcolata        0\n",
       "id_lsf                         0\n",
       "id_mod_realizz             18226\n",
       "id_forma_giuridica_x           0\n",
       "md5_x                          0\n",
       "ruolo                      63901\n",
       "id_be                       1857\n",
       "id_forma_giuridica_y        1857\n",
       "md5_y                       1963\n",
       "dtype: int64"
      ]
     },
     "execution_count": 22,
     "metadata": {},
     "output_type": "execute_result"
    }
   ],
   "source": [
    "# by attribute\n",
    "np.sum(df.isna(), axis=0)"
   ]
  },
  {
   "cell_type": "code",
   "execution_count": 23,
   "id": "b7808b2c-c921-4e3b-a465-8481bf20af87",
   "metadata": {},
   "outputs": [
    {
     "data": {
      "text/html": [
       "<div>\n",
       "<style scoped>\n",
       "    .dataframe tbody tr th:only-of-type {\n",
       "        vertical-align: middle;\n",
       "    }\n",
       "\n",
       "    .dataframe tbody tr th {\n",
       "        vertical-align: top;\n",
       "    }\n",
       "\n",
       "    .dataframe thead th {\n",
       "        text-align: right;\n",
       "    }\n",
       "</style>\n",
       "<table border=\"1\" class=\"dataframe\">\n",
       "  <thead>\n",
       "    <tr style=\"text-align: right;\">\n",
       "      <th></th>\n",
       "      <th>importo</th>\n",
       "      <th>importo_base_asta</th>\n",
       "    </tr>\n",
       "  </thead>\n",
       "  <tbody>\n",
       "  </tbody>\n",
       "</table>\n",
       "</div>"
      ],
      "text/plain": [
       "Empty DataFrame\n",
       "Columns: [importo, importo_base_asta]\n",
       "Index: []"
      ]
     },
     "execution_count": 23,
     "metadata": {},
     "output_type": "execute_result"
    }
   ],
   "source": [
    "df[df.oggetto.isna()] # non vedo alcun pattern\n",
    "df[df.importo.isna() & df.importo_base_asta.notna()][[\"importo\", \"importo_base_asta\"]] # esiste una base d'asta, non esiste l'importo."
   ]
  },
  {
   "cell_type": "code",
   "execution_count": 24,
   "id": "6f497427-0231-4104-b1c1-682d0abecbe8",
   "metadata": {},
   "outputs": [
    {
     "data": {
      "text/html": [
       "<div>\n",
       "<style scoped>\n",
       "    .dataframe tbody tr th:only-of-type {\n",
       "        vertical-align: middle;\n",
       "    }\n",
       "\n",
       "    .dataframe tbody tr th {\n",
       "        vertical-align: top;\n",
       "    }\n",
       "\n",
       "    .dataframe thead th {\n",
       "        text-align: right;\n",
       "    }\n",
       "</style>\n",
       "<table border=\"1\" class=\"dataframe\">\n",
       "  <thead>\n",
       "    <tr style=\"text-align: right;\">\n",
       "      <th></th>\n",
       "      <th>importo</th>\n",
       "      <th>importo_base_asta</th>\n",
       "    </tr>\n",
       "  </thead>\n",
       "  <tbody>\n",
       "    <tr>\n",
       "      <th>482155</th>\n",
       "      <td>NaN</td>\n",
       "      <td>NaN</td>\n",
       "    </tr>\n",
       "    <tr>\n",
       "      <th>497288</th>\n",
       "      <td>NaN</td>\n",
       "      <td>NaN</td>\n",
       "    </tr>\n",
       "    <tr>\n",
       "      <th>658449</th>\n",
       "      <td>NaN</td>\n",
       "      <td>NaN</td>\n",
       "    </tr>\n",
       "    <tr>\n",
       "      <th>767239</th>\n",
       "      <td>NaN</td>\n",
       "      <td>NaN</td>\n",
       "    </tr>\n",
       "    <tr>\n",
       "      <th>770705</th>\n",
       "      <td>NaN</td>\n",
       "      <td>NaN</td>\n",
       "    </tr>\n",
       "    <tr>\n",
       "      <th>770714</th>\n",
       "      <td>NaN</td>\n",
       "      <td>NaN</td>\n",
       "    </tr>\n",
       "  </tbody>\n",
       "</table>\n",
       "</div>"
      ],
      "text/plain": [
       "        importo  importo_base_asta\n",
       "482155      NaN                NaN\n",
       "497288      NaN                NaN\n",
       "658449      NaN                NaN\n",
       "767239      NaN                NaN\n",
       "770705      NaN                NaN\n",
       "770714      NaN                NaN"
      ]
     },
     "execution_count": 24,
     "metadata": {},
     "output_type": "execute_result"
    }
   ],
   "source": [
    "df[df.importo.isna() & df.importo_base_asta.isna()][[\"importo\", \"importo_base_asta\"]]"
   ]
  },
  {
   "cell_type": "markdown",
   "id": "bb7c080e-b7d7-4f9a-a1af-65dfc70ee27a",
   "metadata": {},
   "source": [
    "quindi la maggior parte delle volte, se non esiste l'importo, non esiste l'importo di base d'asta. il che è ragionevole"
   ]
  },
  {
   "cell_type": "code",
   "execution_count": 25,
   "id": "5e663de2-b29e-4b1f-ac34-67811be0a5d0",
   "metadata": {},
   "outputs": [
    {
     "data": {
      "text/html": [
       "<div>\n",
       "<style scoped>\n",
       "    .dataframe tbody tr th:only-of-type {\n",
       "        vertical-align: middle;\n",
       "    }\n",
       "\n",
       "    .dataframe tbody tr th {\n",
       "        vertical-align: top;\n",
       "    }\n",
       "\n",
       "    .dataframe thead th {\n",
       "        text-align: right;\n",
       "    }\n",
       "</style>\n",
       "<table border=\"1\" class=\"dataframe\">\n",
       "  <thead>\n",
       "    <tr style=\"text-align: right;\">\n",
       "      <th></th>\n",
       "      <th>importo</th>\n",
       "      <th>importo_liquidato</th>\n",
       "    </tr>\n",
       "  </thead>\n",
       "  <tbody>\n",
       "    <tr>\n",
       "      <th>497288</th>\n",
       "      <td>NaN</td>\n",
       "      <td>NaN</td>\n",
       "    </tr>\n",
       "  </tbody>\n",
       "</table>\n",
       "</div>"
      ],
      "text/plain": [
       "        importo  importo_liquidato\n",
       "497288      NaN                NaN"
      ]
     },
     "execution_count": 25,
     "metadata": {},
     "output_type": "execute_result"
    }
   ],
   "source": [
    "df[df.importo.isna() & df.importo_liquidato.isna()][[\"importo\", \"importo_liquidato\"]]"
   ]
  },
  {
   "cell_type": "code",
   "execution_count": 26,
   "id": "29fb2963-b884-4b47-b680-c87efa9de25b",
   "metadata": {},
   "outputs": [
    {
     "data": {
      "text/html": [
       "<div>\n",
       "<style scoped>\n",
       "    .dataframe tbody tr th:only-of-type {\n",
       "        vertical-align: middle;\n",
       "    }\n",
       "\n",
       "    .dataframe tbody tr th {\n",
       "        vertical-align: top;\n",
       "    }\n",
       "\n",
       "    .dataframe thead th {\n",
       "        text-align: right;\n",
       "    }\n",
       "</style>\n",
       "<table border=\"1\" class=\"dataframe\">\n",
       "  <thead>\n",
       "    <tr style=\"text-align: right;\">\n",
       "      <th></th>\n",
       "      <th>importo</th>\n",
       "      <th>importo_liquidato</th>\n",
       "    </tr>\n",
       "  </thead>\n",
       "  <tbody>\n",
       "    <tr>\n",
       "      <th>482155</th>\n",
       "      <td>NaN</td>\n",
       "      <td>2588.47</td>\n",
       "    </tr>\n",
       "    <tr>\n",
       "      <th>767239</th>\n",
       "      <td>NaN</td>\n",
       "      <td>722.13</td>\n",
       "    </tr>\n",
       "    <tr>\n",
       "      <th>770705</th>\n",
       "      <td>NaN</td>\n",
       "      <td>1763.70</td>\n",
       "    </tr>\n",
       "    <tr>\n",
       "      <th>770714</th>\n",
       "      <td>NaN</td>\n",
       "      <td>1585.44</td>\n",
       "    </tr>\n",
       "  </tbody>\n",
       "</table>\n",
       "</div>"
      ],
      "text/plain": [
       "        importo  importo_liquidato\n",
       "482155      NaN            2588.47\n",
       "767239      NaN             722.13\n",
       "770705      NaN            1763.70\n",
       "770714      NaN            1585.44"
      ]
     },
     "execution_count": 26,
     "metadata": {},
     "output_type": "execute_result"
    }
   ],
   "source": [
    "df[df.importo.isna() & (df.importo_liquidato > 0)][[\"importo\", \"importo_liquidato\"]]"
   ]
  },
  {
   "cell_type": "markdown",
   "id": "8d32825d-4d23-45c1-bbe3-2279e43e078c",
   "metadata": {},
   "source": []
  },
  {
   "cell_type": "code",
   "execution_count": 27,
   "id": "286e1bd2-4ec6-49c4-861a-7c262c11fe2f",
   "metadata": {},
   "outputs": [
    {
     "data": {
      "text/plain": [
       "0"
      ]
     },
     "execution_count": 27,
     "metadata": {},
     "output_type": "execute_result"
    }
   ],
   "source": [
    "np.sum(df.importo <= 0) # non esistono importi nulli tra quelli esisenti"
   ]
  },
  {
   "cell_type": "markdown",
   "id": "0572869e-8b5b-49aa-a399-d15347068218",
   "metadata": {
    "tags": []
   },
   "source": [
    "# histograms"
   ]
  },
  {
   "cell_type": "code",
   "execution_count": 28,
   "id": "3a377135-51da-405c-9b7f-6f95be353906",
   "metadata": {},
   "outputs": [
    {
     "data": {
      "text/plain": [
       "(67, 18)"
      ]
     },
     "execution_count": 28,
     "metadata": {},
     "output_type": "execute_result"
    }
   ],
   "source": [
    "subdf = df.sample(frac=.001)\n",
    "subdf.shape"
   ]
  },
  {
   "cell_type": "code",
   "execution_count": 29,
   "id": "f8a5b9ba-d351-4619-9d8c-27fda9ca8e39",
   "metadata": {},
   "outputs": [
    {
     "data": {
      "text/plain": [
       "<AxesSubplot:xlabel='importo', ylabel='Count'>"
      ]
     },
     "execution_count": 29,
     "metadata": {},
     "output_type": "execute_result"
    },
    {
     "data": {
      "image/png": "[encoded data removed]",
      "text/plain": [
       "<Figure size 432x288 with 1 Axes>"
      ]
     },
     "metadata": {
      "needs_background": "light"
     },
     "output_type": "display_data"
    }
   ],
   "source": [
    "import seaborn as sns\n",
    "sns.histplot(subdf, x=\"importo\")"
   ]
  },
  {
   "cell_type": "code",
   "execution_count": 30,
   "id": "f96c2b22-9076-4f94-a08d-71c40991ad46",
   "metadata": {},
   "outputs": [
    {
     "data": {
      "text/plain": [
       "4498870906.88"
      ]
     },
     "execution_count": 30,
     "metadata": {},
     "output_type": "execute_result"
    }
   ],
   "source": [
    "np.max(df.importo)"
   ]
  },
  {
   "cell_type": "code",
   "execution_count": 31,
   "id": "b682a608-9e7f-436b-9eb0-604112c0caaa",
   "metadata": {},
   "outputs": [
    {
     "data": {
      "text/plain": [
       "0.01"
      ]
     },
     "execution_count": 31,
     "metadata": {},
     "output_type": "execute_result"
    }
   ],
   "source": [
    "np.min(df.importo)"
   ]
  },
  {
   "cell_type": "code",
   "execution_count": 32,
   "id": "64c56fb8-c42d-4266-b867-50d3720975c2",
   "metadata": {},
   "outputs": [
    {
     "data": {
      "text/plain": [
       "3077"
      ]
     },
     "execution_count": 32,
     "metadata": {},
     "output_type": "execute_result"
    }
   ],
   "source": [
    "np.sum(df.importo>1e6)"
   ]
  },
  {
   "cell_type": "code",
   "execution_count": 33,
   "id": "538507e3-556c-42de-9d1e-0477ef0b2b96",
   "metadata": {},
   "outputs": [
    {
     "data": {
      "text/plain": [
       "<AxesSubplot:xlabel='importo', ylabel='Count'>"
      ]
     },
     "execution_count": 33,
     "metadata": {},
     "output_type": "execute_result"
    },
    {
     "data": {
      "image/png": "[encoded data removed]",
      "text/plain": [
       "<Figure size 432x288 with 1 Axes>"
      ]
     },
     "metadata": {
      "needs_background": "light"
     },
     "output_type": "display_data"
    }
   ],
   "source": [
    "sns.histplot(subdf[subdf.importo < 1e5], x=\"importo\")"
   ]
  },
  {
   "cell_type": "code",
   "execution_count": 34,
   "id": "cf7d263e-ae38-47ae-b9d6-f5738609466e",
   "metadata": {},
   "outputs": [
    {
     "name": "stdout",
     "output_type": "stream",
     "text": [
      "sample percetage: 95.38\n"
     ]
    },
    {
     "data": {
      "text/plain": [
       "<AxesSubplot:xlabel='importo', ylabel='Count'>"
      ]
     },
     "execution_count": 34,
     "metadata": {},
     "output_type": "execute_result"
    },
    {
     "data": {
      "image/png": "[encoded data removed]",
      "text/plain": [
       "<Figure size 432x288 with 1 Axes>"
      ]
     },
     "metadata": {
      "needs_background": "light"
     },
     "output_type": "display_data"
    }
   ],
   "source": [
    "th = 1e6\n",
    "print(f\"sample percetage: {np.sum(df.importo <= th) / df.shape[0] * 100 :.2f}\")\n",
    "sns.histplot(df[df.importo <= th], x=\"importo\")"
   ]
  },
  {
   "cell_type": "code",
   "execution_count": null,
   "id": "fd903caa-bbc2-42da-9e7c-5c19c86ce1a3",
   "metadata": {},
   "outputs": [],
   "source": []
  },
  {
   "cell_type": "code",
   "execution_count": 35,
   "id": "8922fe80-7d0c-452c-8846-7adba6d83eea",
   "metadata": {},
   "outputs": [
    {
     "name": "stdout",
     "output_type": "stream",
     "text": [
      "sample percetage: 4.60\n"
     ]
    },
    {
     "data": {
      "text/plain": [
       "<AxesSubplot:xlabel='importo', ylabel='Count'>"
      ]
     },
     "execution_count": 35,
     "metadata": {},
     "output_type": "execute_result"
    },
    {
     "data": {
      "image/png": "[encoded data removed]",
      "text/plain": [
       "<Figure size 432x288 with 1 Axes>"
      ]
     },
     "metadata": {
      "needs_background": "light"
     },
     "output_type": "display_data"
    }
   ],
   "source": [
    "print(f\"sample percetage: {np.sum((df.importo > th) & (df.importo < 1e8)) / df.shape[0] * 100 :.2f}\")\n",
    "sns.histplot(df[(df.importo > th) & (df.importo < 1e8)], x=\"importo\", bins=50)"
   ]
  },
  {
   "cell_type": "code",
   "execution_count": 36,
   "id": "20686dac-be6b-49cb-a57a-3ecbc1e5db5d",
   "metadata": {},
   "outputs": [
    {
     "data": {
      "text/plain": [
       "<AxesSubplot:xlabel='id_scelta_contraente', ylabel='count'>"
      ]
     },
     "execution_count": 36,
     "metadata": {},
     "output_type": "execute_result"
    },
    {
     "data": {
      "image/png": "[encoded data removed]",
      "text/plain": [
       "<Figure size 432x288 with 1 Axes>"
      ]
     },
     "metadata": {
      "needs_background": "light"
     },
     "output_type": "display_data"
    }
   ],
   "source": [
    "sns.countplot(x=\"id_scelta_contraente\", data=df[df.importo<=1e5])"
   ]
  },
  {
   "cell_type": "code",
   "execution_count": 37,
   "id": "3a7f4e00-14c0-48a5-ab73-39a9e9079427",
   "metadata": {},
   "outputs": [
    {
     "data": {
      "text/plain": [
       "<AxesSubplot:xlabel='id_scelta_contraente', ylabel='count'>"
      ]
     },
     "execution_count": 37,
     "metadata": {},
     "output_type": "execute_result"
    },
    {
     "data": {
      "image/png": "[encoded data removed]",
      "text/plain": [
       "<Figure size 432x288 with 1 Axes>"
      ]
     },
     "metadata": {
      "needs_background": "light"
     },
     "output_type": "display_data"
    }
   ],
   "source": [
    "sns.countplot(x=\"id_scelta_contraente\", data=df)"
   ]
  },
  {
   "cell_type": "code",
   "execution_count": 38,
   "id": "443ff1b3-133e-4fde-ac41-11fa41d2fd29",
   "metadata": {},
   "outputs": [
    {
     "data": {
      "text/plain": [
       "<AxesSubplot:xlabel='importo', ylabel='id_scelta_contraente'>"
      ]
     },
     "execution_count": 38,
     "metadata": {},
     "output_type": "execute_result"
    },
    {
     "data": {
      "image/png": "[encoded data removed]",
      "text/plain": [
       "<Figure size 432x288 with 1 Axes>"
      ]
     },
     "metadata": {
      "needs_background": "light"
     },
     "output_type": "display_data"
    }
   ],
   "source": [
    "sns.scatterplot(\n",
    "    x=\"importo\", y=\"id_scelta_contraente\", \n",
    "    hue=\"id_scelta_contraente\", \n",
    "    data=df,\n",
    "    alpha=.6,\n",
    "    palette=\"pastel\"\n",
    ")"
   ]
  },
  {
   "cell_type": "code",
   "execution_count": 39,
   "id": "78585ea2-706c-45d5-b1a2-c96737567939",
   "metadata": {},
   "outputs": [
    {
     "data": {
      "text/html": [
       "<div>\n",
       "<style scoped>\n",
       "    .dataframe tbody tr th:only-of-type {\n",
       "        vertical-align: middle;\n",
       "    }\n",
       "\n",
       "    .dataframe tbody tr th {\n",
       "        vertical-align: top;\n",
       "    }\n",
       "\n",
       "    .dataframe thead th {\n",
       "        text-align: right;\n",
       "    }\n",
       "</style>\n",
       "<table border=\"1\" class=\"dataframe\">\n",
       "  <thead>\n",
       "    <tr style=\"text-align: right;\">\n",
       "      <th></th>\n",
       "      <th>id_lotto</th>\n",
       "      <th>oggetto</th>\n",
       "      <th>id_scelta_contraente</th>\n",
       "      <th>id_cpv</th>\n",
       "      <th>importo</th>\n",
       "      <th>importo_base_asta</th>\n",
       "      <th>importo_liquidato</th>\n",
       "      <th>data_inizio</th>\n",
       "      <th>data_fine</th>\n",
       "      <th>data_inferita_calcolata</th>\n",
       "      <th>id_lsf</th>\n",
       "      <th>id_mod_realizz</th>\n",
       "      <th>id_forma_giuridica_x</th>\n",
       "      <th>md5_x</th>\n",
       "      <th>ruolo</th>\n",
       "      <th>id_be</th>\n",
       "      <th>id_forma_giuridica_y</th>\n",
       "      <th>md5_y</th>\n",
       "    </tr>\n",
       "  </thead>\n",
       "  <tbody>\n",
       "    <tr>\n",
       "      <th>745474</th>\n",
       "      <td>9471540</td>\n",
       "      <td>prop.952/2015, Fornitura Farmaci Enzalutamide,...</td>\n",
       "      <td>4</td>\n",
       "      <td>3121</td>\n",
       "      <td>4.498871e+09</td>\n",
       "      <td>NaN</td>\n",
       "      <td>50668.12</td>\n",
       "      <td>2016-05-27</td>\n",
       "      <td>NaN</td>\n",
       "      <td>True</td>\n",
       "      <td>3</td>\n",
       "      <td>1.0</td>\n",
       "      <td>135</td>\n",
       "      <td>4c9f18d34d17b903f078e45bc25d54b1</td>\n",
       "      <td>NaN</td>\n",
       "      <td>87468.0</td>\n",
       "      <td>176.0</td>\n",
       "      <td>1f2eac73c875ee65907ba4d8681a7d2a</td>\n",
       "    </tr>\n",
       "  </tbody>\n",
       "</table>\n",
       "</div>"
      ],
      "text/plain": [
       "        id_lotto                                            oggetto  \\\n",
       "745474   9471540  prop.952/2015, Fornitura Farmaci Enzalutamide,...   \n",
       "\n",
       "        id_scelta_contraente  id_cpv       importo  importo_base_asta  \\\n",
       "745474                     4    3121  4.498871e+09                NaN   \n",
       "\n",
       "        importo_liquidato data_inizio data_fine  data_inferita_calcolata  \\\n",
       "745474           50668.12  2016-05-27       NaN                     True   \n",
       "\n",
       "        id_lsf  id_mod_realizz  id_forma_giuridica_x  \\\n",
       "745474       3             1.0                   135   \n",
       "\n",
       "                                   md5_x ruolo    id_be  id_forma_giuridica_y  \\\n",
       "745474  4c9f18d34d17b903f078e45bc25d54b1   NaN  87468.0                 176.0   \n",
       "\n",
       "                                   md5_y  \n",
       "745474  1f2eac73c875ee65907ba4d8681a7d2a  "
      ]
     },
     "execution_count": 39,
     "metadata": {},
     "output_type": "execute_result"
    }
   ],
   "source": [
    "df[df.importo > 1e9]"
   ]
  },
  {
   "cell_type": "markdown",
   "id": "8f62224e-8c6a-4c62-afa6-5aa47c539ee8",
   "metadata": {},
   "source": [
    "questo è un outlier. l'importo erogato è stato di €50k"
   ]
  },
  {
   "cell_type": "code",
   "execution_count": 40,
   "id": "7fc91c4f-8b2a-4ba0-97c1-4b887706d8a7",
   "metadata": {},
   "outputs": [
    {
     "data": {
      "text/html": [
       "<div>\n",
       "<style scoped>\n",
       "    .dataframe tbody tr th:only-of-type {\n",
       "        vertical-align: middle;\n",
       "    }\n",
       "\n",
       "    .dataframe tbody tr th {\n",
       "        vertical-align: top;\n",
       "    }\n",
       "\n",
       "    .dataframe thead th {\n",
       "        text-align: right;\n",
       "    }\n",
       "</style>\n",
       "<table border=\"1\" class=\"dataframe\">\n",
       "  <thead>\n",
       "    <tr style=\"text-align: right;\">\n",
       "      <th></th>\n",
       "      <th>id_lotto</th>\n",
       "      <th>oggetto</th>\n",
       "      <th>id_scelta_contraente</th>\n",
       "      <th>id_cpv</th>\n",
       "      <th>importo</th>\n",
       "      <th>importo_base_asta</th>\n",
       "      <th>importo_liquidato</th>\n",
       "      <th>data_inizio</th>\n",
       "      <th>data_fine</th>\n",
       "      <th>data_inferita_calcolata</th>\n",
       "      <th>id_lsf</th>\n",
       "      <th>id_mod_realizz</th>\n",
       "      <th>id_forma_giuridica_x</th>\n",
       "      <th>md5_x</th>\n",
       "      <th>ruolo</th>\n",
       "      <th>id_be</th>\n",
       "      <th>id_forma_giuridica_y</th>\n",
       "      <th>md5_y</th>\n",
       "    </tr>\n",
       "  </thead>\n",
       "  <tbody>\n",
       "    <tr>\n",
       "      <th>5932</th>\n",
       "      <td>1894412</td>\n",
       "      <td>Servizio accoglienza cittadini stranieri richi...</td>\n",
       "      <td>1</td>\n",
       "      <td>9051</td>\n",
       "      <td>1.071000e+07</td>\n",
       "      <td>NaN</td>\n",
       "      <td>1618226.03</td>\n",
       "      <td>2016-08-18</td>\n",
       "      <td>2016-12-31</td>\n",
       "      <td>True</td>\n",
       "      <td>2</td>\n",
       "      <td>11.0</td>\n",
       "      <td>11</td>\n",
       "      <td>eaf4ac8f35faf9443c6b08dd0eee6399</td>\n",
       "      <td>NaN</td>\n",
       "      <td>107861.0</td>\n",
       "      <td>168.0</td>\n",
       "      <td>1f2eac73c875ee65907ba4d8681a7d2a</td>\n",
       "    </tr>\n",
       "    <tr>\n",
       "      <th>5933</th>\n",
       "      <td>1894412</td>\n",
       "      <td>Servizio accoglienza cittadini stranieri richi...</td>\n",
       "      <td>1</td>\n",
       "      <td>9051</td>\n",
       "      <td>1.071000e+07</td>\n",
       "      <td>NaN</td>\n",
       "      <td>1618226.03</td>\n",
       "      <td>2016-08-18</td>\n",
       "      <td>2016-12-31</td>\n",
       "      <td>True</td>\n",
       "      <td>2</td>\n",
       "      <td>11.0</td>\n",
       "      <td>11</td>\n",
       "      <td>eaf4ac8f35faf9443c6b08dd0eee6399</td>\n",
       "      <td>NaN</td>\n",
       "      <td>97295.0</td>\n",
       "      <td>165.0</td>\n",
       "      <td>1f2eac73c875ee65907ba4d8681a7d2a</td>\n",
       "    </tr>\n",
       "    <tr>\n",
       "      <th>5934</th>\n",
       "      <td>1894412</td>\n",
       "      <td>Servizio accoglienza cittadini stranieri richi...</td>\n",
       "      <td>1</td>\n",
       "      <td>9051</td>\n",
       "      <td>1.071000e+07</td>\n",
       "      <td>NaN</td>\n",
       "      <td>1618226.03</td>\n",
       "      <td>2016-08-18</td>\n",
       "      <td>2016-12-31</td>\n",
       "      <td>True</td>\n",
       "      <td>2</td>\n",
       "      <td>11.0</td>\n",
       "      <td>11</td>\n",
       "      <td>eaf4ac8f35faf9443c6b08dd0eee6399</td>\n",
       "      <td>NaN</td>\n",
       "      <td>238355.0</td>\n",
       "      <td>154.0</td>\n",
       "      <td>1f2eac73c875ee65907ba4d8681a7d2a</td>\n",
       "    </tr>\n",
       "    <tr>\n",
       "      <th>5935</th>\n",
       "      <td>1894412</td>\n",
       "      <td>Servizio accoglienza cittadini stranieri richi...</td>\n",
       "      <td>1</td>\n",
       "      <td>9051</td>\n",
       "      <td>1.071000e+07</td>\n",
       "      <td>NaN</td>\n",
       "      <td>1618226.03</td>\n",
       "      <td>2016-08-18</td>\n",
       "      <td>2016-12-31</td>\n",
       "      <td>True</td>\n",
       "      <td>2</td>\n",
       "      <td>11.0</td>\n",
       "      <td>11</td>\n",
       "      <td>eaf4ac8f35faf9443c6b08dd0eee6399</td>\n",
       "      <td>NaN</td>\n",
       "      <td>85954.0</td>\n",
       "      <td>163.0</td>\n",
       "      <td>1f2eac73c875ee65907ba4d8681a7d2a</td>\n",
       "    </tr>\n",
       "    <tr>\n",
       "      <th>5936</th>\n",
       "      <td>1894412</td>\n",
       "      <td>Servizio accoglienza cittadini stranieri richi...</td>\n",
       "      <td>1</td>\n",
       "      <td>9051</td>\n",
       "      <td>1.071000e+07</td>\n",
       "      <td>NaN</td>\n",
       "      <td>1618226.03</td>\n",
       "      <td>2016-08-18</td>\n",
       "      <td>2016-12-31</td>\n",
       "      <td>True</td>\n",
       "      <td>2</td>\n",
       "      <td>11.0</td>\n",
       "      <td>11</td>\n",
       "      <td>eaf4ac8f35faf9443c6b08dd0eee6399</td>\n",
       "      <td>NaN</td>\n",
       "      <td>613570.0</td>\n",
       "      <td>163.0</td>\n",
       "      <td>1f2eac73c875ee65907ba4d8681a7d2a</td>\n",
       "    </tr>\n",
       "    <tr>\n",
       "      <th>...</th>\n",
       "      <td>...</td>\n",
       "      <td>...</td>\n",
       "      <td>...</td>\n",
       "      <td>...</td>\n",
       "      <td>...</td>\n",
       "      <td>...</td>\n",
       "      <td>...</td>\n",
       "      <td>...</td>\n",
       "      <td>...</td>\n",
       "      <td>...</td>\n",
       "      <td>...</td>\n",
       "      <td>...</td>\n",
       "      <td>...</td>\n",
       "      <td>...</td>\n",
       "      <td>...</td>\n",
       "      <td>...</td>\n",
       "      <td>...</td>\n",
       "      <td>...</td>\n",
       "    </tr>\n",
       "    <tr>\n",
       "      <th>939842</th>\n",
       "      <td>711593573</td>\n",
       "      <td>CONTRATTO AI SENSI DELL'ART.153 COMMI 1-14 DEL...</td>\n",
       "      <td>1</td>\n",
       "      <td>6547</td>\n",
       "      <td>2.248128e+08</td>\n",
       "      <td>202080000.0</td>\n",
       "      <td>NaN</td>\n",
       "      <td>2018-03-14</td>\n",
       "      <td>2025-02-10</td>\n",
       "      <td>True</td>\n",
       "      <td>1</td>\n",
       "      <td>6.0</td>\n",
       "      <td>135</td>\n",
       "      <td>4c9f18d34d17b903f078e45bc25d54b1</td>\n",
       "      <td>NaN</td>\n",
       "      <td>2850053.0</td>\n",
       "      <td>176.0</td>\n",
       "      <td>1f2eac73c875ee65907ba4d8681a7d2a</td>\n",
       "    </tr>\n",
       "    <tr>\n",
       "      <th>954789</th>\n",
       "      <td>217331</td>\n",
       "      <td>CONCESSIONE IN REGIME DI PROJECT FINANCING DEL...</td>\n",
       "      <td>1</td>\n",
       "      <td>9436</td>\n",
       "      <td>5.252720e+07</td>\n",
       "      <td>NaN</td>\n",
       "      <td>0.00</td>\n",
       "      <td>2018-06-28</td>\n",
       "      <td>2020-09-24</td>\n",
       "      <td>True</td>\n",
       "      <td>2</td>\n",
       "      <td>6.0</td>\n",
       "      <td>15</td>\n",
       "      <td>47a78836496a7a97994acb6aef0d8cbf</td>\n",
       "      <td>01-MANDANTE</td>\n",
       "      <td>108491.0</td>\n",
       "      <td>176.0</td>\n",
       "      <td>1f2eac73c875ee65907ba4d8681a7d2a</td>\n",
       "    </tr>\n",
       "    <tr>\n",
       "      <th>954790</th>\n",
       "      <td>217331</td>\n",
       "      <td>CONCESSIONE IN REGIME DI PROJECT FINANCING DEL...</td>\n",
       "      <td>1</td>\n",
       "      <td>9436</td>\n",
       "      <td>5.252720e+07</td>\n",
       "      <td>NaN</td>\n",
       "      <td>0.00</td>\n",
       "      <td>2018-06-28</td>\n",
       "      <td>2020-09-24</td>\n",
       "      <td>True</td>\n",
       "      <td>2</td>\n",
       "      <td>6.0</td>\n",
       "      <td>15</td>\n",
       "      <td>47a78836496a7a97994acb6aef0d8cbf</td>\n",
       "      <td>01-MANDANTE</td>\n",
       "      <td>128052.0</td>\n",
       "      <td>176.0</td>\n",
       "      <td>1f2eac73c875ee65907ba4d8681a7d2a</td>\n",
       "    </tr>\n",
       "    <tr>\n",
       "      <th>954791</th>\n",
       "      <td>217331</td>\n",
       "      <td>CONCESSIONE IN REGIME DI PROJECT FINANCING DEL...</td>\n",
       "      <td>1</td>\n",
       "      <td>9436</td>\n",
       "      <td>5.252720e+07</td>\n",
       "      <td>NaN</td>\n",
       "      <td>0.00</td>\n",
       "      <td>2018-06-28</td>\n",
       "      <td>2020-09-24</td>\n",
       "      <td>True</td>\n",
       "      <td>2</td>\n",
       "      <td>6.0</td>\n",
       "      <td>15</td>\n",
       "      <td>47a78836496a7a97994acb6aef0d8cbf</td>\n",
       "      <td>02-MANDATARIA</td>\n",
       "      <td>1811097.0</td>\n",
       "      <td>154.0</td>\n",
       "      <td>1f2eac73c875ee65907ba4d8681a7d2a</td>\n",
       "    </tr>\n",
       "    <tr>\n",
       "      <th>956424</th>\n",
       "      <td>2691383</td>\n",
       "      <td>Fornitura dei farmaci \"viekirax, exviera, harv...</td>\n",
       "      <td>4</td>\n",
       "      <td>3121</td>\n",
       "      <td>4.456941e+08</td>\n",
       "      <td>NaN</td>\n",
       "      <td>254999.70</td>\n",
       "      <td>2016-01-04</td>\n",
       "      <td>2016-02-02</td>\n",
       "      <td>True</td>\n",
       "      <td>3</td>\n",
       "      <td>1.0</td>\n",
       "      <td>135</td>\n",
       "      <td>4c9f18d34d17b903f078e45bc25d54b1</td>\n",
       "      <td>NaN</td>\n",
       "      <td>97914.0</td>\n",
       "      <td>155.0</td>\n",
       "      <td>1f2eac73c875ee65907ba4d8681a7d2a</td>\n",
       "    </tr>\n",
       "  </tbody>\n",
       "</table>\n",
       "<p>279 rows × 18 columns</p>\n",
       "</div>"
      ],
      "text/plain": [
       "         id_lotto                                            oggetto  \\\n",
       "5932      1894412  Servizio accoglienza cittadini stranieri richi...   \n",
       "5933      1894412  Servizio accoglienza cittadini stranieri richi...   \n",
       "5934      1894412  Servizio accoglienza cittadini stranieri richi...   \n",
       "5935      1894412  Servizio accoglienza cittadini stranieri richi...   \n",
       "5936      1894412  Servizio accoglienza cittadini stranieri richi...   \n",
       "...           ...                                                ...   \n",
       "939842  711593573  CONTRATTO AI SENSI DELL'ART.153 COMMI 1-14 DEL...   \n",
       "954789     217331  CONCESSIONE IN REGIME DI PROJECT FINANCING DEL...   \n",
       "954790     217331  CONCESSIONE IN REGIME DI PROJECT FINANCING DEL...   \n",
       "954791     217331  CONCESSIONE IN REGIME DI PROJECT FINANCING DEL...   \n",
       "956424    2691383  Fornitura dei farmaci \"viekirax, exviera, harv...   \n",
       "\n",
       "        id_scelta_contraente  id_cpv       importo  importo_base_asta  \\\n",
       "5932                       1    9051  1.071000e+07                NaN   \n",
       "5933                       1    9051  1.071000e+07                NaN   \n",
       "5934                       1    9051  1.071000e+07                NaN   \n",
       "5935                       1    9051  1.071000e+07                NaN   \n",
       "5936                       1    9051  1.071000e+07                NaN   \n",
       "...                      ...     ...           ...                ...   \n",
       "939842                     1    6547  2.248128e+08        202080000.0   \n",
       "954789                     1    9436  5.252720e+07                NaN   \n",
       "954790                     1    9436  5.252720e+07                NaN   \n",
       "954791                     1    9436  5.252720e+07                NaN   \n",
       "956424                     4    3121  4.456941e+08                NaN   \n",
       "\n",
       "        importo_liquidato data_inizio   data_fine  data_inferita_calcolata  \\\n",
       "5932           1618226.03  2016-08-18  2016-12-31                     True   \n",
       "5933           1618226.03  2016-08-18  2016-12-31                     True   \n",
       "5934           1618226.03  2016-08-18  2016-12-31                     True   \n",
       "5935           1618226.03  2016-08-18  2016-12-31                     True   \n",
       "5936           1618226.03  2016-08-18  2016-12-31                     True   \n",
       "...                   ...         ...         ...                      ...   \n",
       "939842                NaN  2018-03-14  2025-02-10                     True   \n",
       "954789               0.00  2018-06-28  2020-09-24                     True   \n",
       "954790               0.00  2018-06-28  2020-09-24                     True   \n",
       "954791               0.00  2018-06-28  2020-09-24                     True   \n",
       "956424          254999.70  2016-01-04  2016-02-02                     True   \n",
       "\n",
       "        id_lsf  id_mod_realizz  id_forma_giuridica_x  \\\n",
       "5932         2            11.0                    11   \n",
       "5933         2            11.0                    11   \n",
       "5934         2            11.0                    11   \n",
       "5935         2            11.0                    11   \n",
       "5936         2            11.0                    11   \n",
       "...        ...             ...                   ...   \n",
       "939842       1             6.0                   135   \n",
       "954789       2             6.0                    15   \n",
       "954790       2             6.0                    15   \n",
       "954791       2             6.0                    15   \n",
       "956424       3             1.0                   135   \n",
       "\n",
       "                                   md5_x          ruolo      id_be  \\\n",
       "5932    eaf4ac8f35faf9443c6b08dd0eee6399            NaN   107861.0   \n",
       "5933    eaf4ac8f35faf9443c6b08dd0eee6399            NaN    97295.0   \n",
       "5934    eaf4ac8f35faf9443c6b08dd0eee6399            NaN   238355.0   \n",
       "5935    eaf4ac8f35faf9443c6b08dd0eee6399            NaN    85954.0   \n",
       "5936    eaf4ac8f35faf9443c6b08dd0eee6399            NaN   613570.0   \n",
       "...                                  ...            ...        ...   \n",
       "939842  4c9f18d34d17b903f078e45bc25d54b1            NaN  2850053.0   \n",
       "954789  47a78836496a7a97994acb6aef0d8cbf    01-MANDANTE   108491.0   \n",
       "954790  47a78836496a7a97994acb6aef0d8cbf    01-MANDANTE   128052.0   \n",
       "954791  47a78836496a7a97994acb6aef0d8cbf  02-MANDATARIA  1811097.0   \n",
       "956424  4c9f18d34d17b903f078e45bc25d54b1            NaN    97914.0   \n",
       "\n",
       "        id_forma_giuridica_y                             md5_y  \n",
       "5932                   168.0  1f2eac73c875ee65907ba4d8681a7d2a  \n",
       "5933                   165.0  1f2eac73c875ee65907ba4d8681a7d2a  \n",
       "5934                   154.0  1f2eac73c875ee65907ba4d8681a7d2a  \n",
       "5935                   163.0  1f2eac73c875ee65907ba4d8681a7d2a  \n",
       "5936                   163.0  1f2eac73c875ee65907ba4d8681a7d2a  \n",
       "...                      ...                               ...  \n",
       "939842                 176.0  1f2eac73c875ee65907ba4d8681a7d2a  \n",
       "954789                 176.0  1f2eac73c875ee65907ba4d8681a7d2a  \n",
       "954790                 176.0  1f2eac73c875ee65907ba4d8681a7d2a  \n",
       "954791                 154.0  1f2eac73c875ee65907ba4d8681a7d2a  \n",
       "956424                 155.0  1f2eac73c875ee65907ba4d8681a7d2a  \n",
       "\n",
       "[279 rows x 18 columns]"
      ]
     },
     "execution_count": 40,
     "metadata": {},
     "output_type": "execute_result"
    }
   ],
   "source": [
    "df[df.importo > 1e7]"
   ]
  },
  {
   "cell_type": "raw",
   "id": "755cb8b0-2e7d-47f0-b0d6-c1a839316b08",
   "metadata": {},
   "source": [
    "id_scelta_contraente_to_string = {\n",
    "    23:\n",
    "    26:\"AFFIDAMENTO DIRETTO IN ADESIONE AD ACCORDO QUADRO/CONVENZIONE\",\n",
    "    4:\"PROCEDURA NEGOZIATA SENZA PREVIA PUBBLICAZIONE\",\n",
    "}"
   ]
  },
  {
   "cell_type": "code",
   "execution_count": 41,
   "id": "7f276dd5-e607-4890-8de3-d8984543fab9",
   "metadata": {},
   "outputs": [
    {
     "data": {
      "text/plain": [
       "<AxesSubplot:xlabel='id_cpv', ylabel='Count'>"
      ]
     },
     "execution_count": 41,
     "metadata": {},
     "output_type": "execute_result"
    },
    {
     "data": {
      "image/png": "[encoded data removed]",
      "text/plain": [
       "<Figure size 432x288 with 1 Axes>"
      ]
     },
     "metadata": {
      "needs_background": "light"
     },
     "output_type": "display_data"
    }
   ],
   "source": [
    "sns.histplot(data=df, x=\"id_cpv\")"
   ]
  },
  {
   "cell_type": "code",
   "execution_count": 42,
   "id": "30c91251-f45c-473a-b958-ff2183c2e4fd",
   "metadata": {},
   "outputs": [
    {
     "data": {
      "text/plain": [
       "<AxesSubplot:xlabel='id_lsf', ylabel='count'>"
      ]
     },
     "execution_count": 42,
     "metadata": {},
     "output_type": "execute_result"
    },
    {
     "data": {
      "image/png": "[encoded data removed]",
      "text/plain": [
       "<Figure size 432x288 with 1 Axes>"
      ]
     },
     "metadata": {
      "needs_background": "light"
     },
     "output_type": "display_data"
    }
   ],
   "source": [
    "sns.countplot(data=df, x=\"id_lsf\")"
   ]
  },
  {
   "cell_type": "markdown",
   "id": "d0e20942-e372-4027-b302-0662f6278544",
   "metadata": {
    "tags": []
   },
   "source": [
    "# Isolation forest\n",
    "The sklearn implementation wants X{array-like, sparse matrix} of shape (n_samples, n_features). \n",
    "Hence, I must handle missing values."
   ]
  },
  {
   "cell_type": "code",
   "execution_count": 43,
   "id": "a21fd07e-e882-4d18-9c21-862d3f0535b3",
   "metadata": {},
   "outputs": [
    {
     "data": {
      "text/plain": [
       "0        2017-09-01\n",
       "10       2018-12-19\n",
       "19       2018-05-09\n",
       "26       2017-02-28\n",
       "31       2017-12-04\n",
       "            ...    \n",
       "966460   2017-06-13\n",
       "966466   2016-01-01\n",
       "966479   2018-03-01\n",
       "966530   2018-01-01\n",
       "966534   2018-06-26\n",
       "Name: data_inizio, Length: 66716, dtype: datetime64[ns]"
      ]
     },
     "execution_count": 43,
     "metadata": {},
     "output_type": "execute_result"
    }
   ],
   "source": [
    "df.data_inizio"
   ]
  },
  {
   "cell_type": "raw",
   "id": "0defb848-4318-43aa-bf30-016e833cbbe6",
   "metadata": {},
   "source": [
    "from sklearn.ensemble import IsolationForest\n",
    "\n",
    "detector = IsolationForest()"
   ]
  }
 ],
 "metadata": {
  "kernelspec": {
   "display_name": "Python 3 (ipykernel)",
   "language": "python",
   "name": "python3"
  },
  "language_info": {
   "codemirror_mode": {
    "name": "ipython",
    "version": 3
   },
   "file_extension": ".py",
   "mimetype": "text/x-python",
   "name": "python",
   "nbconvert_exporter": "python",
   "pygments_lexer": "ipython3",
   "version": "3.9.13"
  }
 },
 "nbformat": 4,
 "nbformat_minor": 5
}
