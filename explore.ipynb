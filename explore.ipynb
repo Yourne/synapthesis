{
 "cells": [
  {
   "cell_type": "markdown",
   "id": "2bb9103a-3dac-4368-af3b-cb322684f578",
   "metadata": {},
   "source": [
    "# Conoscenza interente il dataset\n",
    "Un bando di gara è suddiviso in lotti. \n",
    "Per ciascun lotto si assegnano uno o più contratti a un vincitore.\n"
   ]
  },
  {
   "cell_type": "markdown",
   "id": "79d92aaf-82d2-4208-b48b-b13abb8b8cfe",
   "metadata": {},
   "source": [
    "# italiano : english\n",
    "bando : public call, public tender\n",
    "lotto : lot"
   ]
  },
  {
   "cell_type": "code",
   "execution_count": 1,
   "id": "15abda25-4aeb-4ec8-b143-5ab1bbce9559",
   "metadata": {},
   "outputs": [],
   "source": [
    "import numpy as np\n",
    "import pandas as pd\n",
    "from os import path\n",
    "\n",
    "data_directory = \"synData28June\"\n",
    "lotti_fn = \"export_lotti_veneto_2016_2018_giulio.csv\"\n",
    "vincitori_fn = \"export_vincitori_veneto_2016_2018_giulio.csv\"\n",
    "\n",
    "lotti = pd.read_csv(path.join(data_directory, lotti_fn))\n",
    "vincitori = pd.read_csv(path.join(data_directory, vincitori_fn))"
   ]
  },
  {
   "cell_type": "markdown",
   "id": "a65b6b37-b3c2-4ede-8795-6dcacfa39a03",
   "metadata": {},
   "source": [
    "## lotti attributi\n",
    "1. **id lotto** identificatore del lotto di gara attribuito da Synapta\n",
    "2. **oggetto** oggetto del contratto del lotto di gara\n",
    "3. **id_scelta_contraente** identificatore numerico del metodo di assegnazione del lotto #(26)\n",
    "4. **id_cpv** *common procurement vocabulary* sistema di classificazione europeo per categorizzare l'oggetto dei contratti pubblici d'acquisto\n",
    "5. **importo** importo da pagare all'azienda fornitrice come definito dal contratto\n",
    "6. **importo_base_asta** importo massimo per l'asta a ribasso per il dato lotto\n",
    "7. **importo liquidato** importo effettivamente liquidato\n",
    "8. **data inizio** data d'inizio d'esecuzione del contratto\n",
    "9. **data fine** data di fine esecuzione del contratto\n",
    "10. **data inferita calcolata** booleano; se vero, la/le data/e sono state inferite da ?\n",
    "11. **id_lsf** identificatore lavoro, servizio, fornitura {1: lavoro, 2: servizio, 3: fornitura}\n",
    "12. **id_mod_realizz** modalilità realizzazione; specifica in funzione del contratto evenutalmente rimovibile#(12)\n",
    "13. **id_formagiuridica** identificatore della forma giuridica del committente\n",
    "14. **md5** hash(tipo di centrale di committenza)"
   ]
  },
  {
   "cell_type": "code",
   "execution_count": 2,
   "id": "87147e30-508b-41c1-b100-b00a6f1ed0d0",
   "metadata": {},
   "outputs": [
    {
     "data": {
      "text/html": [
       "<div>\n",
       "<style scoped>\n",
       "    .dataframe tbody tr th:only-of-type {\n",
       "        vertical-align: middle;\n",
       "    }\n",
       "\n",
       "    .dataframe tbody tr th {\n",
       "        vertical-align: top;\n",
       "    }\n",
       "\n",
       "    .dataframe thead th {\n",
       "        text-align: right;\n",
       "    }\n",
       "</style>\n",
       "<table border=\"1\" class=\"dataframe\">\n",
       "  <thead>\n",
       "    <tr style=\"text-align: right;\">\n",
       "      <th></th>\n",
       "      <th>id_lotto</th>\n",
       "      <th>oggetto</th>\n",
       "      <th>id_scelta_contraente</th>\n",
       "      <th>id_cpv</th>\n",
       "      <th>importo</th>\n",
       "      <th>importo_base_asta</th>\n",
       "      <th>importo_liquidato</th>\n",
       "      <th>data_inizio</th>\n",
       "      <th>data_fine</th>\n",
       "      <th>data_inferita_calcolata</th>\n",
       "      <th>id_lsf</th>\n",
       "      <th>id_mod_realizz</th>\n",
       "      <th>id_forma_giuridica</th>\n",
       "      <th>md5</th>\n",
       "    </tr>\n",
       "  </thead>\n",
       "  <tbody>\n",
       "    <tr>\n",
       "      <th>0</th>\n",
       "      <td>887826082</td>\n",
       "      <td>2017_OG1 OPERE EDILI - MANUTENZIONE ORDINARIA ...</td>\n",
       "      <td>27.0</td>\n",
       "      <td>7161.0</td>\n",
       "      <td>60000.00</td>\n",
       "      <td>NaN</td>\n",
       "      <td>NaN</td>\n",
       "      <td>2017-09-01</td>\n",
       "      <td>2017-12-30</td>\n",
       "      <td>True</td>\n",
       "      <td>1.0</td>\n",
       "      <td>13.0</td>\n",
       "      <td>154</td>\n",
       "      <td>1f2eac73c875ee65907ba4d8681a7d2a</td>\n",
       "    </tr>\n",
       "    <tr>\n",
       "      <th>1</th>\n",
       "      <td>14913388</td>\n",
       "      <td>SONDA PER PH METRIA ID 18P001</td>\n",
       "      <td>23.0</td>\n",
       "      <td>NaN</td>\n",
       "      <td>640.00</td>\n",
       "      <td>NaN</td>\n",
       "      <td>640.00</td>\n",
       "      <td>2018-08-09</td>\n",
       "      <td>2018-08-09</td>\n",
       "      <td>True</td>\n",
       "      <td>3.0</td>\n",
       "      <td>NaN</td>\n",
       "      <td>139</td>\n",
       "      <td>4c9f18d34d17b903f078e45bc25d54b1</td>\n",
       "    </tr>\n",
       "    <tr>\n",
       "      <th>2</th>\n",
       "      <td>13973004</td>\n",
       "      <td>CAT MOUNT GIREVOLE PED</td>\n",
       "      <td>23.0</td>\n",
       "      <td>NaN</td>\n",
       "      <td>27.50</td>\n",
       "      <td>NaN</td>\n",
       "      <td>27.45</td>\n",
       "      <td>2018-05-28</td>\n",
       "      <td>2018-05-28</td>\n",
       "      <td>True</td>\n",
       "      <td>3.0</td>\n",
       "      <td>NaN</td>\n",
       "      <td>135</td>\n",
       "      <td>4c9f18d34d17b903f078e45bc25d54b1</td>\n",
       "    </tr>\n",
       "    <tr>\n",
       "      <th>3</th>\n",
       "      <td>18037021</td>\n",
       "      <td>Servizio di ristorazione in occasione della 53...</td>\n",
       "      <td>23.0</td>\n",
       "      <td>NaN</td>\n",
       "      <td>4545.46</td>\n",
       "      <td>NaN</td>\n",
       "      <td>3190.91</td>\n",
       "      <td>2016-03-16</td>\n",
       "      <td>2016-04-21</td>\n",
       "      <td>True</td>\n",
       "      <td>2.0</td>\n",
       "      <td>NaN</td>\n",
       "      <td>75</td>\n",
       "      <td>380ded385c850cdd5f5aa90c91f9a0a9</td>\n",
       "    </tr>\n",
       "    <tr>\n",
       "      <th>4</th>\n",
       "      <td>11263465</td>\n",
       "      <td>Acquisto toner</td>\n",
       "      <td>23.0</td>\n",
       "      <td>NaN</td>\n",
       "      <td>79.00</td>\n",
       "      <td>NaN</td>\n",
       "      <td>79.00</td>\n",
       "      <td>2017-02-16</td>\n",
       "      <td>2017-05-12</td>\n",
       "      <td>True</td>\n",
       "      <td>3.0</td>\n",
       "      <td>NaN</td>\n",
       "      <td>103</td>\n",
       "      <td>e2d0bdd808a492fe24340a00f8cd6f7a</td>\n",
       "    </tr>\n",
       "  </tbody>\n",
       "</table>\n",
       "</div>"
      ],
      "text/plain": [
       "    id_lotto                                            oggetto  \\\n",
       "0  887826082  2017_OG1 OPERE EDILI - MANUTENZIONE ORDINARIA ...   \n",
       "1   14913388                      SONDA PER PH METRIA ID 18P001   \n",
       "2   13973004                             CAT MOUNT GIREVOLE PED   \n",
       "3   18037021  Servizio di ristorazione in occasione della 53...   \n",
       "4   11263465                                     Acquisto toner   \n",
       "\n",
       "   id_scelta_contraente  id_cpv   importo  importo_base_asta  \\\n",
       "0                  27.0  7161.0  60000.00                NaN   \n",
       "1                  23.0     NaN    640.00                NaN   \n",
       "2                  23.0     NaN     27.50                NaN   \n",
       "3                  23.0     NaN   4545.46                NaN   \n",
       "4                  23.0     NaN     79.00                NaN   \n",
       "\n",
       "   importo_liquidato data_inizio   data_fine  data_inferita_calcolata  id_lsf  \\\n",
       "0                NaN  2017-09-01  2017-12-30                     True     1.0   \n",
       "1             640.00  2018-08-09  2018-08-09                     True     3.0   \n",
       "2              27.45  2018-05-28  2018-05-28                     True     3.0   \n",
       "3            3190.91  2016-03-16  2016-04-21                     True     2.0   \n",
       "4              79.00  2017-02-16  2017-05-12                     True     3.0   \n",
       "\n",
       "   id_mod_realizz  id_forma_giuridica                               md5  \n",
       "0            13.0                 154  1f2eac73c875ee65907ba4d8681a7d2a  \n",
       "1             NaN                 139  4c9f18d34d17b903f078e45bc25d54b1  \n",
       "2             NaN                 135  4c9f18d34d17b903f078e45bc25d54b1  \n",
       "3             NaN                  75  380ded385c850cdd5f5aa90c91f9a0a9  \n",
       "4             NaN                 103  e2d0bdd808a492fe24340a00f8cd6f7a  "
      ]
     },
     "execution_count": 2,
     "metadata": {},
     "output_type": "execute_result"
    }
   ],
   "source": [
    "lotti.head()"
   ]
  },
  {
   "cell_type": "code",
   "execution_count": 16,
   "id": "f702ecc0-7b97-40d1-b298-855ac2030a78",
   "metadata": {},
   "outputs": [
    {
     "name": "stdout",
     "output_type": "stream",
     "text": [
      "how many missing variable in lotti.id_lotto?\n"
     ]
    },
    {
     "data": {
      "text/plain": [
       "0"
      ]
     },
     "execution_count": 16,
     "metadata": {},
     "output_type": "execute_result"
    }
   ],
   "source": [
    "print(\"how many missing variable in lotti.id_lotto?\")\n",
    "np.sum(pd.isna(lotti.id_lotto))"
   ]
  },
  {
   "cell_type": "code",
   "execution_count": 48,
   "id": "a5a430b0-cd0f-447e-88e9-8a651eb10a93",
   "metadata": {},
   "outputs": [
    {
     "name": "stdout",
     "output_type": "stream",
     "text": [
      "how many lots contain NaNs in id_scelta_contraente?\n"
     ]
    }
   ],
   "source": [
    "lotti.id_scelta_contraente.unique()\n",
    "print(\"how many lots contain NaNs in id_scelta_contraente?\")"
   ]
  },
  {
   "cell_type": "code",
   "execution_count": 49,
   "id": "fb3919a1-257b-44ab-9a12-885b57f27dd3",
   "metadata": {},
   "outputs": [
    {
     "name": "stdout",
     "output_type": "stream",
     "text": [
      "which lots do not have a id_scelta_contraente?\n"
     ]
    },
    {
     "data": {
      "text/html": [
       "<div>\n",
       "<style scoped>\n",
       "    .dataframe tbody tr th:only-of-type {\n",
       "        vertical-align: middle;\n",
       "    }\n",
       "\n",
       "    .dataframe tbody tr th {\n",
       "        vertical-align: top;\n",
       "    }\n",
       "\n",
       "    .dataframe thead th {\n",
       "        text-align: right;\n",
       "    }\n",
       "</style>\n",
       "<table border=\"1\" class=\"dataframe\">\n",
       "  <thead>\n",
       "    <tr style=\"text-align: right;\">\n",
       "      <th></th>\n",
       "      <th>id_lotto</th>\n",
       "      <th>oggetto</th>\n",
       "      <th>id_scelta_contraente</th>\n",
       "      <th>id_cpv</th>\n",
       "      <th>importo</th>\n",
       "      <th>importo_base_asta</th>\n",
       "      <th>importo_liquidato</th>\n",
       "      <th>data_inizio</th>\n",
       "      <th>data_fine</th>\n",
       "      <th>data_inferita_calcolata</th>\n",
       "      <th>id_lsf</th>\n",
       "      <th>id_mod_realizz</th>\n",
       "      <th>id_forma_giuridica</th>\n",
       "      <th>md5</th>\n",
       "    </tr>\n",
       "  </thead>\n",
       "  <tbody>\n",
       "    <tr>\n",
       "      <th>1609</th>\n",
       "      <td>11972362</td>\n",
       "      <td>SERVIZI DI TRASPORTO PUBBLICO LOCALE: ACCERTAM...</td>\n",
       "      <td>NaN</td>\n",
       "      <td>NaN</td>\n",
       "      <td>1.384415e+08</td>\n",
       "      <td>NaN</td>\n",
       "      <td>51705735.13</td>\n",
       "      <td>2017-06-30</td>\n",
       "      <td>2025-12-31</td>\n",
       "      <td>True</td>\n",
       "      <td>NaN</td>\n",
       "      <td>NaN</td>\n",
       "      <td>14</td>\n",
       "      <td>47a78836496a7a97994acb6aef0d8cbf</td>\n",
       "    </tr>\n",
       "    <tr>\n",
       "      <th>26022</th>\n",
       "      <td>3469444</td>\n",
       "      <td>Contratto di Servizio per il trasporto pubblic...</td>\n",
       "      <td>NaN</td>\n",
       "      <td>NaN</td>\n",
       "      <td>2.226800e+09</td>\n",
       "      <td>NaN</td>\n",
       "      <td>105000.00</td>\n",
       "      <td>2018-01-01</td>\n",
       "      <td>2032-12-31</td>\n",
       "      <td>True</td>\n",
       "      <td>NaN</td>\n",
       "      <td>NaN</td>\n",
       "      <td>19</td>\n",
       "      <td>47a78836496a7a97994acb6aef0d8cbf</td>\n",
       "    </tr>\n",
       "    <tr>\n",
       "      <th>40783</th>\n",
       "      <td>2316458</td>\n",
       "      <td>TRIZIVIR*60CPR RIV ABACAVIR/LAMIVUDINA/ZIDOVUD...</td>\n",
       "      <td>NaN</td>\n",
       "      <td>NaN</td>\n",
       "      <td>NaN</td>\n",
       "      <td>NaN</td>\n",
       "      <td>0.00</td>\n",
       "      <td>2016-05-23</td>\n",
       "      <td>NaN</td>\n",
       "      <td>True</td>\n",
       "      <td>NaN</td>\n",
       "      <td>NaN</td>\n",
       "      <td>139</td>\n",
       "      <td>4c9f18d34d17b903f078e45bc25d54b1</td>\n",
       "    </tr>\n",
       "    <tr>\n",
       "      <th>45428</th>\n",
       "      <td>18345252</td>\n",
       "      <td>GARA REGIONALE CIG MASTER</td>\n",
       "      <td>NaN</td>\n",
       "      <td>NaN</td>\n",
       "      <td>NaN</td>\n",
       "      <td>NaN</td>\n",
       "      <td>NaN</td>\n",
       "      <td>2016-07-01</td>\n",
       "      <td>2019-06-30</td>\n",
       "      <td>True</td>\n",
       "      <td>NaN</td>\n",
       "      <td>NaN</td>\n",
       "      <td>135</td>\n",
       "      <td>4c9f18d34d17b903f078e45bc25d54b1</td>\n",
       "    </tr>\n",
       "    <tr>\n",
       "      <th>49270</th>\n",
       "      <td>14164374</td>\n",
       "      <td>MIMPARA*28CPR RIV CINACALCET CLORIDRATO 2-E 20...</td>\n",
       "      <td>NaN</td>\n",
       "      <td>NaN</td>\n",
       "      <td>NaN</td>\n",
       "      <td>NaN</td>\n",
       "      <td>0.00</td>\n",
       "      <td>2016-05-24</td>\n",
       "      <td>NaN</td>\n",
       "      <td>True</td>\n",
       "      <td>NaN</td>\n",
       "      <td>NaN</td>\n",
       "      <td>139</td>\n",
       "      <td>4c9f18d34d17b903f078e45bc25d54b1</td>\n",
       "    </tr>\n",
       "    <tr>\n",
       "      <th>...</th>\n",
       "      <td>...</td>\n",
       "      <td>...</td>\n",
       "      <td>...</td>\n",
       "      <td>...</td>\n",
       "      <td>...</td>\n",
       "      <td>...</td>\n",
       "      <td>...</td>\n",
       "      <td>...</td>\n",
       "      <td>...</td>\n",
       "      <td>...</td>\n",
       "      <td>...</td>\n",
       "      <td>...</td>\n",
       "      <td>...</td>\n",
       "      <td>...</td>\n",
       "    </tr>\n",
       "    <tr>\n",
       "      <th>895045</th>\n",
       "      <td>17637222</td>\n",
       "      <td>MEROPENEM HOS*EV POLV 10FL 1G MEROPENEM L. 288...</td>\n",
       "      <td>NaN</td>\n",
       "      <td>NaN</td>\n",
       "      <td>NaN</td>\n",
       "      <td>NaN</td>\n",
       "      <td>0.00</td>\n",
       "      <td>2016-05-24</td>\n",
       "      <td>NaN</td>\n",
       "      <td>True</td>\n",
       "      <td>NaN</td>\n",
       "      <td>NaN</td>\n",
       "      <td>139</td>\n",
       "      <td>4c9f18d34d17b903f078e45bc25d54b1</td>\n",
       "    </tr>\n",
       "    <tr>\n",
       "      <th>905129</th>\n",
       "      <td>3342376</td>\n",
       "      <td>CHIROCAINE*10F 10ML LEVOBUPIVACAINA CLORIDRATO...</td>\n",
       "      <td>NaN</td>\n",
       "      <td>NaN</td>\n",
       "      <td>NaN</td>\n",
       "      <td>NaN</td>\n",
       "      <td>0.00</td>\n",
       "      <td>2016-05-25</td>\n",
       "      <td>NaN</td>\n",
       "      <td>True</td>\n",
       "      <td>NaN</td>\n",
       "      <td>NaN</td>\n",
       "      <td>139</td>\n",
       "      <td>4c9f18d34d17b903f078e45bc25d54b1</td>\n",
       "    </tr>\n",
       "    <tr>\n",
       "      <th>905183</th>\n",
       "      <td>4372333</td>\n",
       "      <td>ISENTRESS*FL 60CPR RIV 400MG RALTEGRAVIR POTAS...</td>\n",
       "      <td>NaN</td>\n",
       "      <td>NaN</td>\n",
       "      <td>NaN</td>\n",
       "      <td>NaN</td>\n",
       "      <td>0.00</td>\n",
       "      <td>2016-05-25</td>\n",
       "      <td>NaN</td>\n",
       "      <td>True</td>\n",
       "      <td>NaN</td>\n",
       "      <td>NaN</td>\n",
       "      <td>139</td>\n",
       "      <td>4c9f18d34d17b903f078e45bc25d54b1</td>\n",
       "    </tr>\n",
       "    <tr>\n",
       "      <th>922577</th>\n",
       "      <td>1753859</td>\n",
       "      <td>ZYVOXID LINEZOLID 2-E 2015/N.35 DEL 27 MARZO L...</td>\n",
       "      <td>NaN</td>\n",
       "      <td>NaN</td>\n",
       "      <td>NaN</td>\n",
       "      <td>NaN</td>\n",
       "      <td>0.00</td>\n",
       "      <td>2016-05-24</td>\n",
       "      <td>NaN</td>\n",
       "      <td>True</td>\n",
       "      <td>NaN</td>\n",
       "      <td>NaN</td>\n",
       "      <td>139</td>\n",
       "      <td>4c9f18d34d17b903f078e45bc25d54b1</td>\n",
       "    </tr>\n",
       "    <tr>\n",
       "      <th>936449</th>\n",
       "      <td>1513507</td>\n",
       "      <td>MITOMYCIN C*INIET 1FL MITOMICINA 2-E 2015/N.35...</td>\n",
       "      <td>NaN</td>\n",
       "      <td>NaN</td>\n",
       "      <td>NaN</td>\n",
       "      <td>NaN</td>\n",
       "      <td>0.00</td>\n",
       "      <td>2016-05-25</td>\n",
       "      <td>NaN</td>\n",
       "      <td>True</td>\n",
       "      <td>NaN</td>\n",
       "      <td>NaN</td>\n",
       "      <td>139</td>\n",
       "      <td>4c9f18d34d17b903f078e45bc25d54b1</td>\n",
       "    </tr>\n",
       "  </tbody>\n",
       "</table>\n",
       "<p>174 rows × 14 columns</p>\n",
       "</div>"
      ],
      "text/plain": [
       "        id_lotto                                            oggetto  \\\n",
       "1609    11972362  SERVIZI DI TRASPORTO PUBBLICO LOCALE: ACCERTAM...   \n",
       "26022    3469444  Contratto di Servizio per il trasporto pubblic...   \n",
       "40783    2316458  TRIZIVIR*60CPR RIV ABACAVIR/LAMIVUDINA/ZIDOVUD...   \n",
       "45428   18345252                          GARA REGIONALE CIG MASTER   \n",
       "49270   14164374  MIMPARA*28CPR RIV CINACALCET CLORIDRATO 2-E 20...   \n",
       "...          ...                                                ...   \n",
       "895045  17637222  MEROPENEM HOS*EV POLV 10FL 1G MEROPENEM L. 288...   \n",
       "905129   3342376  CHIROCAINE*10F 10ML LEVOBUPIVACAINA CLORIDRATO...   \n",
       "905183   4372333  ISENTRESS*FL 60CPR RIV 400MG RALTEGRAVIR POTAS...   \n",
       "922577   1753859  ZYVOXID LINEZOLID 2-E 2015/N.35 DEL 27 MARZO L...   \n",
       "936449   1513507  MITOMYCIN C*INIET 1FL MITOMICINA 2-E 2015/N.35...   \n",
       "\n",
       "        id_scelta_contraente  id_cpv       importo  importo_base_asta  \\\n",
       "1609                     NaN     NaN  1.384415e+08                NaN   \n",
       "26022                    NaN     NaN  2.226800e+09                NaN   \n",
       "40783                    NaN     NaN           NaN                NaN   \n",
       "45428                    NaN     NaN           NaN                NaN   \n",
       "49270                    NaN     NaN           NaN                NaN   \n",
       "...                      ...     ...           ...                ...   \n",
       "895045                   NaN     NaN           NaN                NaN   \n",
       "905129                   NaN     NaN           NaN                NaN   \n",
       "905183                   NaN     NaN           NaN                NaN   \n",
       "922577                   NaN     NaN           NaN                NaN   \n",
       "936449                   NaN     NaN           NaN                NaN   \n",
       "\n",
       "        importo_liquidato data_inizio   data_fine  data_inferita_calcolata  \\\n",
       "1609          51705735.13  2017-06-30  2025-12-31                     True   \n",
       "26022           105000.00  2018-01-01  2032-12-31                     True   \n",
       "40783                0.00  2016-05-23         NaN                     True   \n",
       "45428                 NaN  2016-07-01  2019-06-30                     True   \n",
       "49270                0.00  2016-05-24         NaN                     True   \n",
       "...                   ...         ...         ...                      ...   \n",
       "895045               0.00  2016-05-24         NaN                     True   \n",
       "905129               0.00  2016-05-25         NaN                     True   \n",
       "905183               0.00  2016-05-25         NaN                     True   \n",
       "922577               0.00  2016-05-24         NaN                     True   \n",
       "936449               0.00  2016-05-25         NaN                     True   \n",
       "\n",
       "        id_lsf  id_mod_realizz  id_forma_giuridica  \\\n",
       "1609       NaN             NaN                  14   \n",
       "26022      NaN             NaN                  19   \n",
       "40783      NaN             NaN                 139   \n",
       "45428      NaN             NaN                 135   \n",
       "49270      NaN             NaN                 139   \n",
       "...        ...             ...                 ...   \n",
       "895045     NaN             NaN                 139   \n",
       "905129     NaN             NaN                 139   \n",
       "905183     NaN             NaN                 139   \n",
       "922577     NaN             NaN                 139   \n",
       "936449     NaN             NaN                 139   \n",
       "\n",
       "                                     md5  \n",
       "1609    47a78836496a7a97994acb6aef0d8cbf  \n",
       "26022   47a78836496a7a97994acb6aef0d8cbf  \n",
       "40783   4c9f18d34d17b903f078e45bc25d54b1  \n",
       "45428   4c9f18d34d17b903f078e45bc25d54b1  \n",
       "49270   4c9f18d34d17b903f078e45bc25d54b1  \n",
       "...                                  ...  \n",
       "895045  4c9f18d34d17b903f078e45bc25d54b1  \n",
       "905129  4c9f18d34d17b903f078e45bc25d54b1  \n",
       "905183  4c9f18d34d17b903f078e45bc25d54b1  \n",
       "922577  4c9f18d34d17b903f078e45bc25d54b1  \n",
       "936449  4c9f18d34d17b903f078e45bc25d54b1  \n",
       "\n",
       "[174 rows x 14 columns]"
      ]
     },
     "execution_count": 49,
     "metadata": {},
     "output_type": "execute_result"
    }
   ],
   "source": [
    "print(\"which lots do not have a id_scelta_contraente?\")\n",
    "lotti[pd.isna(lotti.id_scelta_contraente)]"
   ]
  },
  {
   "cell_type": "code",
   "execution_count": 28,
   "id": "d14eb3f4-4357-4c0a-bae3-10813fc7ba46",
   "metadata": {},
   "outputs": [
    {
     "data": {
      "text/plain": [
       "array([13., nan,  3.,  1., 14., 11.,  4.,  9., 10.,  5.,  7.,  6.,  8.])"
      ]
     },
     "execution_count": 28,
     "metadata": {},
     "output_type": "execute_result"
    }
   ],
   "source": [
    "print(\"how many types of provisioning?\")\n",
    "lotti.id_mod_realizz.unique()"
   ]
  },
  {
   "cell_type": "code",
   "execution_count": 41,
   "id": "26a17c1c-8dfd-4350-b1b6-68d0bfdb242b",
   "metadata": {},
   "outputs": [
    {
     "name": "stdout",
     "output_type": "stream",
     "text": [
      "what percentage of records do not have a specified type of provisioning?\n"
     ]
    },
    {
     "data": {
      "text/plain": [
       "0.95"
      ]
     },
     "execution_count": 41,
     "metadata": {},
     "output_type": "execute_result"
    }
   ],
   "source": [
    "print(\"what percentage of records do not have a specified type of provisioning?\")\n",
    "np.round(np.sum(lotti.id_mod_realizz.isna()) / lotti.shape[0], 2)"
   ]
  },
  {
   "cell_type": "markdown",
   "id": "56299436-9a7b-4b31-be20-2345e704e5b1",
   "metadata": {},
   "source": [
    "## vincitori attributes\n",
    "1. **id_lotto** identificatore del lotto di gara\n",
    "2. **ruolo** ruolo del vincitore di gara, e.g. \"mandante\", \"mandataria\", \"capogruppo\" etc\n",
    "3. **id_be** identificatore della business entity\n",
    "3. **id_forma_giuridica** identificatore della forma giuridica del vincitore e.g. srl, sas, spa...\n",
    "4. **mdg** hash(centrale di committenza)"
   ]
  },
  {
   "cell_type": "code",
   "execution_count": 3,
   "id": "b2c49dae-5bf8-41d1-b625-0b1886cbd926",
   "metadata": {},
   "outputs": [
    {
     "data": {
      "text/html": [
       "<div>\n",
       "<style scoped>\n",
       "    .dataframe tbody tr th:only-of-type {\n",
       "        vertical-align: middle;\n",
       "    }\n",
       "\n",
       "    .dataframe tbody tr th {\n",
       "        vertical-align: top;\n",
       "    }\n",
       "\n",
       "    .dataframe thead th {\n",
       "        text-align: right;\n",
       "    }\n",
       "</style>\n",
       "<table border=\"1\" class=\"dataframe\">\n",
       "  <thead>\n",
       "    <tr style=\"text-align: right;\">\n",
       "      <th></th>\n",
       "      <th>id_lotto</th>\n",
       "      <th>ruolo</th>\n",
       "      <th>id_be</th>\n",
       "      <th>id_forma_giuridica</th>\n",
       "      <th>md5</th>\n",
       "    </tr>\n",
       "  </thead>\n",
       "  <tbody>\n",
       "    <tr>\n",
       "      <th>0</th>\n",
       "      <td>887826082</td>\n",
       "      <td>NaN</td>\n",
       "      <td>90464</td>\n",
       "      <td>154</td>\n",
       "      <td>1f2eac73c875ee65907ba4d8681a7d2a</td>\n",
       "    </tr>\n",
       "    <tr>\n",
       "      <th>1</th>\n",
       "      <td>14913388</td>\n",
       "      <td>NaN</td>\n",
       "      <td>85208</td>\n",
       "      <td>176</td>\n",
       "      <td>1f2eac73c875ee65907ba4d8681a7d2a</td>\n",
       "    </tr>\n",
       "    <tr>\n",
       "      <th>2</th>\n",
       "      <td>13973004</td>\n",
       "      <td>NaN</td>\n",
       "      <td>89811</td>\n",
       "      <td>155</td>\n",
       "      <td>1f2eac73c875ee65907ba4d8681a7d2a</td>\n",
       "    </tr>\n",
       "    <tr>\n",
       "      <th>3</th>\n",
       "      <td>18037021</td>\n",
       "      <td>NaN</td>\n",
       "      <td>265228</td>\n",
       "      <td>175</td>\n",
       "      <td>1f2eac73c875ee65907ba4d8681a7d2a</td>\n",
       "    </tr>\n",
       "    <tr>\n",
       "      <th>4</th>\n",
       "      <td>11263465</td>\n",
       "      <td>NaN</td>\n",
       "      <td>356115</td>\n",
       "      <td>174</td>\n",
       "      <td>1f2eac73c875ee65907ba4d8681a7d2a</td>\n",
       "    </tr>\n",
       "  </tbody>\n",
       "</table>\n",
       "</div>"
      ],
      "text/plain": [
       "    id_lotto ruolo   id_be  id_forma_giuridica  \\\n",
       "0  887826082   NaN   90464                 154   \n",
       "1   14913388   NaN   85208                 176   \n",
       "2   13973004   NaN   89811                 155   \n",
       "3   18037021   NaN  265228                 175   \n",
       "4   11263465   NaN  356115                 174   \n",
       "\n",
       "                                md5  \n",
       "0  1f2eac73c875ee65907ba4d8681a7d2a  \n",
       "1  1f2eac73c875ee65907ba4d8681a7d2a  \n",
       "2  1f2eac73c875ee65907ba4d8681a7d2a  \n",
       "3  1f2eac73c875ee65907ba4d8681a7d2a  \n",
       "4  1f2eac73c875ee65907ba4d8681a7d2a  "
      ]
     },
     "execution_count": 3,
     "metadata": {},
     "output_type": "execute_result"
    }
   ],
   "source": [
    "vincitori.head()"
   ]
  },
  {
   "cell_type": "code",
   "execution_count": 17,
   "id": "73807770-68f1-4145-9b2f-b1e415979a21",
   "metadata": {},
   "outputs": [
    {
     "name": "stdout",
     "output_type": "stream",
     "text": [
      "how many non-unique id_lotto?\n"
     ]
    },
    {
     "data": {
      "text/plain": [
       "19039"
      ]
     },
     "execution_count": 17,
     "metadata": {},
     "output_type": "execute_result"
    }
   ],
   "source": [
    "print(\"how many non-unique id_lotto in vincitori dataframe?\")\n",
    "vincitori.shape[0] - np.unique(vincitori.id_lotto).shape[0]"
   ]
  },
  {
   "cell_type": "code",
   "execution_count": 60,
   "id": "1c0a5532-8944-4173-843a-676550c982eb",
   "metadata": {},
   "outputs": [
    {
     "name": "stdout",
     "output_type": "stream",
     "text": [
      "duplicated items in vincitori.id_lotto\n"
     ]
    },
    {
     "data": {
      "text/plain": [
       "9"
      ]
     },
     "execution_count": 60,
     "metadata": {},
     "output_type": "execute_result"
    }
   ],
   "source": [
    "print(\"duplicated items in vincitori.id_lotto\")\n",
    "vincitori[vincitori.id_lotto.duplicated()]\n"
   ]
  },
  {
   "cell_type": "code",
   "execution_count": 61,
   "id": "23e68592-97d4-4a1b-8b88-8efc8983b81a",
   "metadata": {},
   "outputs": [
    {
     "name": "stdout",
     "output_type": "stream",
     "text": [
      "how many rows does are duplicate in vincitori dataset?\n"
     ]
    },
    {
     "data": {
      "text/plain": [
       "9"
      ]
     },
     "execution_count": 61,
     "metadata": {},
     "output_type": "execute_result"
    }
   ],
   "source": [
    "print(\"how many rows does are duplicate in vincitori dataset?\")\n",
    "np.sum(vincitori.duplicated())"
   ]
  },
  {
   "cell_type": "code",
   "execution_count": 47,
   "id": "cc79b351-4e19-42f3-9b4a-ece46c62dfc3",
   "metadata": {},
   "outputs": [
    {
     "name": "stdout",
     "output_type": "stream",
     "text": [
      "how many lots do not have an assigned winner?\n"
     ]
    },
    {
     "data": {
      "text/plain": [
       "30197"
      ]
     },
     "execution_count": 47,
     "metadata": {},
     "output_type": "execute_result"
    }
   ],
   "source": [
    "print(\"how many lots do not have an assigned winner?\")\n",
    "lotti.shape[0] - vincitori.shape[0]"
   ]
  },
  {
   "cell_type": "markdown",
   "id": "ce9e47c2-7244-44d4-99c7-33ec02238512",
   "metadata": {},
   "source": [
    "and this is not ok, Davide said. We should investigate why."
   ]
  },
  {
   "cell_type": "markdown",
   "id": "bfdcd54a-5a54-43ed-82ed-25cb341e0a53",
   "metadata": {},
   "source": [
    "# lotti left joins vincitori"
   ]
  },
  {
   "cell_type": "code",
   "execution_count": 55,
   "id": "640cf4a4-b2d4-43ba-9ed4-f6f2dacbf9c7",
   "metadata": {},
   "outputs": [
    {
     "data": {
      "text/plain": [
       "(966536, 18)"
      ]
     },
     "execution_count": 55,
     "metadata": {},
     "output_type": "execute_result"
    }
   ],
   "source": [
    "df = lotti.merge(vincitori,how=\"left\", on=\"id_lotto\")\n",
    "df.shape"
   ]
  },
  {
   "cell_type": "code",
   "execution_count": 57,
   "id": "2162e8c0-5796-4043-b66a-23d1315abc20",
   "metadata": {},
   "outputs": [
    {
     "data": {
      "text/plain": [
       "19039"
      ]
     },
     "execution_count": 57,
     "metadata": {},
     "output_type": "execute_result"
    }
   ],
   "source": [
    "print(\"there are more call-winner\")\n",
    "df.shape[0] - lotti.shape[0] "
   ]
  },
  {
   "cell_type": "code",
   "execution_count": null,
   "id": "1e074ea5-eeec-4d5c-9d34-4ee3a5e25bfb",
   "metadata": {},
   "outputs": [],
   "source": []
  }
 ],
 "metadata": {
  "kernelspec": {
   "display_name": "Python 3 (ipykernel)",
   "language": "python",
   "name": "python3"
  },
  "language_info": {
   "codemirror_mode": {
    "name": "ipython",
    "version": 3
   },
   "file_extension": ".py",
   "mimetype": "text/x-python",
   "name": "python",
   "nbconvert_exporter": "python",
   "pygments_lexer": "ipython3",
   "version": "3.9.13"
  }
 },
 "nbformat": 4,
 "nbformat_minor": 5
}
