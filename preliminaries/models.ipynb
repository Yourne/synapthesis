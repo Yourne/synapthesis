{
 "cells": [
  {
   "cell_type": "code",
   "execution_count": 5,
   "metadata": {},
   "outputs": [
    {
     "name": "stdout",
     "output_type": "stream",
     "text": [
      "importo values to substitute with importo_base_asta values percentage:           0.0012%\n",
      "data_inizio values to substitute with data_inferita values percentage:           0.3145%\n",
      "columns dropped with mostly missing values:\n",
      "['oggetto', 'importo_liquidato', 'importo_base_asta', 'data_inferita', 'id_mod_realizz', 'cpv_vero']\n",
      "dropped all the rows with at least one missing value\n"
     ]
    },
    {
     "data": {
      "text/plain": [
       "id_pa                                int64\n",
       "id_scelta_contraente                 int64\n",
       "importo                            float64\n",
       "data_inizio                 datetime64[ns]\n",
       "data_fine                   datetime64[ns]\n",
       "id_lsf                               int64\n",
       "id_forma_giuridica_pa                int64\n",
       "uber_forma_giuridica_pa             object\n",
       "cpv                                  int64\n",
       "id_be                                int64\n",
       "id_forma_giuridica_be                int64\n",
       "uber_forma_giuridica_be             object\n",
       "procedura                           object\n",
       "tipo_procedura                      object\n",
       "median_expenditure_pa              float64\n",
       "median_revenue_be                  float64\n",
       "contr_med_pa                       float64\n",
       "contr_med_be                       float64\n",
       "durata                     timedelta64[ns]\n",
       "day_of_year_sin                    float64\n",
       "day_of_year_cos                    float64\n",
       "med_yearly_n_contr_pa              float64\n",
       "med_yearly_n_contr_be              float64\n",
       "dtype: object"
      ]
     },
     "execution_count": 5,
     "metadata": {},
     "output_type": "execute_result"
    }
   ],
   "source": [
    "import utils\n",
    "from load_dataset import load_dataset, feature_extraction\n",
    "\n",
    "data_directory = \"/Users/nepal/Documents/synapthesis/synData6July\"\n",
    "lotti_fn = \"export_lotti_veneto_2016_2018_giulio_v2.csv\"\n",
    "vincitori_fn = \"export_vincitori_veneto_2016_2018_giulio_v2.csv\"\n",
    "procedura_fn = \"tipi_procedure.csv\"\n",
    "\n",
    "df = load_dataset(data_directory, lotti_fn, vincitori_fn, procedura_fn)\n",
    "df = feature_extraction(df)\n",
    "\n",
    "df.dtypes\n"
   ]
  },
  {
   "cell_type": "code",
   "execution_count": 6,
   "metadata": {},
   "outputs": [
    {
     "ename": "NameError",
     "evalue": "name 'np' is not defined",
     "output_type": "error",
     "traceback": [
      "\u001b[0;31m---------------------------------------------------------------------------\u001b[0m",
      "\u001b[0;31mNameError\u001b[0m                                 Traceback (most recent call last)",
      "\u001b[1;32m/Users/nepal/Documents/synapthesis/preliminaries/models.ipynb Cell 2\u001b[0m in \u001b[0;36m<cell line: 15>\u001b[0;34m()\u001b[0m\n\u001b[1;32m     <a href='vscode-notebook-cell:/Users/nepal/Documents/synapthesis/preliminaries/models.ipynb#ch0000001?line=12'>13</a>\u001b[0m \u001b[39m# convert to log10\u001b[39;00m\n\u001b[1;32m     <a href='vscode-notebook-cell:/Users/nepal/Documents/synapthesis/preliminaries/models.ipynb#ch0000001?line=13'>14</a>\u001b[0m importo_cols \u001b[39m=\u001b[39m [\u001b[39m\"\u001b[39m\u001b[39mimporto\u001b[39m\u001b[39m\"\u001b[39m, \u001b[39m\"\u001b[39m\u001b[39mmedian_expenditure_pa\u001b[39m\u001b[39m\"\u001b[39m, \u001b[39m\"\u001b[39m\u001b[39mmedian_revenue_be\u001b[39m\u001b[39m\"\u001b[39m, \u001b[39m\"\u001b[39m\u001b[39mcontr_med_pa\u001b[39m\u001b[39m\"\u001b[39m,\u001b[39m\"\u001b[39m\u001b[39mcontr_med_be\u001b[39m\u001b[39m\"\u001b[39m]\n\u001b[0;32m---> <a href='vscode-notebook-cell:/Users/nepal/Documents/synapthesis/preliminaries/models.ipynb#ch0000001?line=14'>15</a>\u001b[0m df\u001b[39m.\u001b[39mloc[:, importo_cols] \u001b[39m=\u001b[39m np\u001b[39m.\u001b[39mlog10(df[importo_cols])\n",
      "\u001b[0;31mNameError\u001b[0m: name 'np' is not defined"
     ]
    }
   ],
   "source": [
    "# drop columns\n",
    "df = df.drop(columns=[\"id_pa\", \"data_fine\", \"id_forma_giuridica_pa\", \n",
    "            \"id_be\", \"id_forma_giuridica_be\", \"uber_forma_giuridica_be\", \"procedura\", \"tipo_procedura\", \n",
    "            \"med_yearly_n_contr_pa\", \"med_yearly_n_contr_be\", \"id_lsf\"])\n",
    "\n",
    "# convert uber_forma_giurica_pa with label encoding to integers\n",
    "uber_forma_giuridica_pa_names = dict()\n",
    "for i, forma in enumerate(set(df.uber_forma_giuridica_pa)):\n",
    "    uber_forma_giuridica_pa_names[forma] = i\n",
    "\n",
    "df = df.replace(uber_forma_giuridica_pa_names)"
   ]
  },
  {
   "cell_type": "code",
   "execution_count": 7,
   "metadata": {},
   "outputs": [],
   "source": [
    "import numpy as np\n",
    "# convert to log10\n",
    "importo_cols = [\"importo\", \"median_expenditure_pa\", \"median_revenue_be\", \"contr_med_pa\",\"contr_med_be\"]\n",
    "df.loc[:, importo_cols] = np.log10(df[importo_cols])\n",
    "    "
   ]
  },
  {
   "cell_type": "code",
   "execution_count": null,
   "metadata": {},
   "outputs": [],
   "source": []
  }
 ],
 "metadata": {
  "kernelspec": {
   "display_name": "Python 3.9.12 ('base')",
   "language": "python",
   "name": "python3"
  },
  "language_info": {
   "codemirror_mode": {
    "name": "ipython",
    "version": 3
   },
   "file_extension": ".py",
   "mimetype": "text/x-python",
   "name": "python",
   "nbconvert_exporter": "python",
   "pygments_lexer": "ipython3",
   "version": "3.9.12"
  },
  "orig_nbformat": 4,
  "vscode": {
   "interpreter": {
    "hash": "d1cfeb6185f643ec464a079a5b9eb481464a0163b688360f3347b9b9d5311284"
   }
  }
 },
 "nbformat": 4,
 "nbformat_minor": 2
}
