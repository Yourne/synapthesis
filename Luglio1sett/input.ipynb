{
 "cells": [
  {
   "cell_type": "code",
   "execution_count": 1,
   "id": "212488a0-2466-4ff6-803a-6188dc27384c",
   "metadata": {},
   "outputs": [],
   "source": [
    "import numpy as np\n",
    "import pandas as pd\n",
    "from os import path\n",
    "\n",
    "data_directory = \"synData28June\"\n",
    "lotti_fn = \"export_lotti_veneto_2016_2018_giulio.csv\"\n",
    "vincitori_fn = \"export_vincitori_veneto_2016_2018_giulio.csv\"\n",
    "\n",
    "lotti = pd.read_csv(path.join(data_directory, lotti_fn))\n",
    "vincitori = pd.read_csv(path.join(data_directory, vincitori_fn))\n",
    "\n",
    "lotti.data_inizio = pd.to_datetime(lotti.data_inizio, yearfirst=True)\n",
    "lotti.data_fine = pd.to_datetime(lotti.data_fine, yearfirst=True)"
   ]
  },
  {
   "cell_type": "code",
   "execution_count": 2,
   "id": "129bf8aa-45d6-46d8-8e28-cd5acf4c033f",
   "metadata": {},
   "outputs": [
    {
     "data": {
      "text/plain": [
       "id_lotto               int64\n",
       "ruolo                 object\n",
       "id_be                  int64\n",
       "id_forma_giuridica     int64\n",
       "md5                   object\n",
       "dtype: object"
      ]
     },
     "execution_count": 2,
     "metadata": {},
     "output_type": "execute_result"
    }
   ],
   "source": [
    "vincitori.dtypes"
   ]
  },
  {
   "cell_type": "code",
   "execution_count": 3,
   "id": "02f3233a-c6c2-4e6b-a14c-39ac65c9f645",
   "metadata": {},
   "outputs": [
    {
     "data": {
      "text/plain": [
       "id_lotto                            int64\n",
       "oggetto                            object\n",
       "id_scelta_contraente              float64\n",
       "id_cpv                            float64\n",
       "importo                           float64\n",
       "importo_base_asta                 float64\n",
       "importo_liquidato                 float64\n",
       "data_inizio                datetime64[ns]\n",
       "data_fine                  datetime64[ns]\n",
       "data_inferita_calcolata              bool\n",
       "id_lsf                            float64\n",
       "id_mod_realizz                    float64\n",
       "id_forma_giuridica                  int64\n",
       "md5                                object\n",
       "dtype: object"
      ]
     },
     "execution_count": 3,
     "metadata": {},
     "output_type": "execute_result"
    }
   ],
   "source": [
    "lotti.dtypes"
   ]
  },
  {
   "cell_type": "markdown",
   "id": "898ad198-93c3-4b94-adf7-cb6f0b774203",
   "metadata": {},
   "source": [
    "np.nan is float64, hence all id attributes are float. \n",
    "\n",
    "Ma cosa voglio farci? voglio riempirli con un valore? isolation forest, ad esempio, non funziona con i NaN. \n",
    "\n",
    "È importante che l'algoritmo funzioni, non che tutto sia concettualmente corretto.\n",
    "\n",
    "la domanda successiva diventa: cosa metto nelle lacune?\n",
    "\n",
    "* attributi categorici: vorrei che NaN fosse una categoria.\n",
    "* attributi continui: 0. trattandosi di importi sembra ragionevole. eventualmente si può sempre cambiare.\n",
    "* date: onenstamente non lo so. \n",
    "\n",
    "eliminare le features con troppi zeri? può una variabile quasi sempre vuota essere predittiva? potenzialmente sì, infatti è un outlier già di per sè. (si può parlare di outlier nel caso di variabili categoriche?)"
   ]
  },
  {
   "cell_type": "code",
   "execution_count": 4,
   "id": "dcc82257-9dee-4a1e-ad6d-7a9b0be058d9",
   "metadata": {},
   "outputs": [
    {
     "data": {
      "text/plain": [
       "3193"
      ]
     },
     "execution_count": 4,
     "metadata": {},
     "output_type": "execute_result"
    }
   ],
   "source": [
    "len(lotti.id_cpv.unique())"
   ]
  },
  {
   "cell_type": "code",
   "execution_count": 5,
   "id": "0aa93afe-1f0e-4718-be47-50f0769c522a",
   "metadata": {},
   "outputs": [
    {
     "data": {
      "text/plain": [
       "26"
      ]
     },
     "execution_count": 5,
     "metadata": {},
     "output_type": "execute_result"
    }
   ],
   "source": [
    "len(lotti.id_scelta_contraente.unique())"
   ]
  },
  {
   "cell_type": "code",
   "execution_count": 6,
   "id": "0c4c7f01-b85e-41d4-822f-fd2815084dca",
   "metadata": {},
   "outputs": [
    {
     "data": {
      "text/plain": [
       "13"
      ]
     },
     "execution_count": 6,
     "metadata": {},
     "output_type": "execute_result"
    }
   ],
   "source": [
    "len(lotti.id_mod_realizz.unique())"
   ]
  },
  {
   "cell_type": "code",
   "execution_count": 7,
   "id": "a98837c9-7af6-4a9c-a09d-424a012e0143",
   "metadata": {},
   "outputs": [
    {
     "data": {
      "text/plain": [
       "id_lotto                        0\n",
       "oggetto                        37\n",
       "id_scelta_contraente          174\n",
       "id_cpv                     884070\n",
       "importo                      1115\n",
       "importo_base_asta          929553\n",
       "importo_liquidato           56249\n",
       "data_inizio                     0\n",
       "data_fine                   53278\n",
       "data_inferita_calcolata         0\n",
       "id_lsf                      33487\n",
       "id_mod_realizz             903220\n",
       "id_forma_giuridica              0\n",
       "md5                             0\n",
       "dtype: int64"
      ]
     },
     "execution_count": 7,
     "metadata": {},
     "output_type": "execute_result"
    }
   ],
   "source": [
    "np.sum(lotti.isna(), axis=0)"
   ]
  },
  {
   "cell_type": "code",
   "execution_count": 8,
   "id": "51f9e11a-8a24-45eb-9039-f6871232e625",
   "metadata": {},
   "outputs": [
    {
     "data": {
      "text/plain": [
       "id_lotto                       0\n",
       "oggetto                        2\n",
       "id_scelta_contraente           9\n",
       "id_cpv                         0\n",
       "importo                       87\n",
       "importo_base_asta          58515\n",
       "importo_liquidato          10802\n",
       "data_inizio                    0\n",
       "data_fine                   2882\n",
       "data_inferita_calcolata        0\n",
       "id_lsf                      2023\n",
       "id_mod_realizz             19547\n",
       "id_forma_giuridica             0\n",
       "md5                            0\n",
       "dtype: int64"
      ]
     },
     "execution_count": 8,
     "metadata": {},
     "output_type": "execute_result"
    }
   ],
   "source": [
    "# Assuming that the cpv is given\n",
    "lottiCPV = lotti[lotti.id_cpv.notna()]\n",
    "np.sum(lottiCPV.isna(), axis=0)"
   ]
  },
  {
   "cell_type": "code",
   "execution_count": 9,
   "id": "d4ac5610-876f-4057-823d-3fe2ab6542e0",
   "metadata": {},
   "outputs": [
    {
     "data": {
      "text/plain": [
       "id_mod_realizz\n",
       "1.0     19618\n",
       "3.0     10318\n",
       "4.0       874\n",
       "5.0        13\n",
       "6.0        14\n",
       "7.0         8\n",
       "8.0         2\n",
       "9.0        41\n",
       "10.0       24\n",
       "11.0      934\n",
       "13.0      318\n",
       "14.0    11716\n",
       "NaN     19547\n",
       "dtype: int64"
      ]
     },
     "execution_count": 9,
     "metadata": {},
     "output_type": "execute_result"
    }
   ],
   "source": [
    "lottiCPV.groupby(\"id_mod_realizz\", dropna=False).size() # 13"
   ]
  },
  {
   "cell_type": "code",
   "execution_count": 10,
   "id": "7e4a89b0-f0cb-4065-84e0-86ae7194f0a0",
   "metadata": {},
   "outputs": [
    {
     "data": {
      "text/plain": [
       "id_scelta_contraente\n",
       "1.0      4210\n",
       "2.0       437\n",
       "3.0       311\n",
       "4.0     11331\n",
       "5.0        19\n",
       "6.0      1828\n",
       "7.0       248\n",
       "8.0      7402\n",
       "14.0     1246\n",
       "17.0      241\n",
       "21.0      190\n",
       "22.0     1416\n",
       "23.0    20834\n",
       "24.0       62\n",
       "25.0       14\n",
       "26.0    13009\n",
       "27.0      449\n",
       "29.0       44\n",
       "30.0       14\n",
       "31.0      105\n",
       "33.0        8\n",
       "NaN         9\n",
       "dtype: int64"
      ]
     },
     "execution_count": 10,
     "metadata": {},
     "output_type": "execute_result"
    }
   ],
   "source": [
    "lottiCPV.groupby(\"id_scelta_contraente\", dropna=False).size() # 22"
   ]
  },
  {
   "cell_type": "code",
   "execution_count": 11,
   "id": "5a65791a-e119-4621-b9dd-83d46df5fa96",
   "metadata": {},
   "outputs": [
    {
     "data": {
      "text/plain": [
       "(86,)"
      ]
     },
     "execution_count": 11,
     "metadata": {},
     "output_type": "execute_result"
    }
   ],
   "source": [
    "lottiCPV.groupby(\"id_forma_giuridica\").size().shape"
   ]
  },
  {
   "cell_type": "markdown",
   "id": "e8a93360-a198-4732-a996-a526dd1b5c86",
   "metadata": {},
   "source": [
    "# Encoding nominal features\n",
    "dopo una ricerca, opto per hashing encoding\n",
    "* id_scelta_contrante: 21+NaN one-hot or  hashing\n",
    "* id_cpv: 3193 hashing\n",
    "* id_lsf: 3+NaN, one-hot\n",
    "* id_mod_realizz: 12+NaN, one-hot\n",
    "* id_forma_giuridica: 86, hashing\n",
    "\n",
    "ma conviene considerarle come se fossere un'unica grande feature? Boh. Bisogna provare. \n",
    "\n",
    "# Encoding datetime\n",
    "they are intrisically cyclic (but for year). possible choices:\n",
    "* day-of-the-week\n",
    "* day-of-the-month\n",
    "* month\n",
    "\n",
    "map them to sin cos and eventually consider the frequency domain (Fuorier transform)"
   ]
  },
  {
   "cell_type": "markdown",
   "id": "544441fe-d59c-4b77-b449-3c45a28678ce",
   "metadata": {},
   "source": [
    "Problema generale con i tree-based algorithms: considerano una feature alla volta, quindi è più conveniente avere un numero inferiore di features. Alcuni articoli su Medium, Towardsdatascience sostengono che i modelli basati su alberi classificatori senza alcun tipo di codica funzionino meglio"
   ]
  },
  {
   "cell_type": "markdown",
   "id": "0b153fa1-4dec-4d1b-b3fd-d0575fb548fa",
   "metadata": {},
   "source": [
    "C'è un problema fondamentale di rappresentazione. Come rappresento questi dati? sono eterogenei, incompleti. E poi mi manca una misura di anomalia. L'idea è di farla apprendere alla macchina, una volta definita una rappresentazione adeguata al modello. "
   ]
  },
  {
   "cell_type": "markdown",
   "id": "fed2b583-2690-4daf-846f-7aa350273680",
   "metadata": {},
   "source": [
    "Outlier di una dato mercato: il prezzo è fuori misura. grafico a boxplot (o qualsiasi altro modello) segnalo gli outlier. Proxy del mercato è il cpv. La quantità del bene scambiato non compare nell'oggetto dei contratti. Le altre informazioni rilevanti sono gli agenti del mercato, stazione appaltante ad esempio, oppure la scelta del contraente "
   ]
  },
  {
   "cell_type": "markdown",
   "id": "3cd4f973-e06b-472a-a68c-18bfa38836c1",
   "metadata": {},
   "source": [
    "Progettiamo un esperimento. dato un cpv e un tipo di scelta di scelta del contraente, plottare l'istogramma degli importi. HP: i due predittori sono sufficienti per trovare outlier. Prova: andiamo a identificare gli outlier con un po' di modelli."
   ]
  },
  {
   "cell_type": "code",
   "execution_count": 23,
   "id": "e38baeeb-54f7-44b1-80e2-fa731b81fb2d",
   "metadata": {},
   "outputs": [
    {
     "data": {
      "text/plain": [
       "22026.465794806718"
      ]
     },
     "execution_count": 23,
     "metadata": {},
     "output_type": "execute_result"
    }
   ],
   "source": [
    "np.exp(10)"
   ]
  },
  {
   "cell_type": "code",
   "execution_count": 22,
   "id": "8f17ae92-6157-48c2-81e3-976a1b1d3c2a",
   "metadata": {},
   "outputs": [
    {
     "data": {
      "text/plain": [
       "0    3121.0\n",
       "Name: id_cpv, dtype: float64"
      ]
     },
     "execution_count": 22,
     "metadata": {},
     "output_type": "execute_result"
    }
   ],
   "source": [
    "lotti.id_cpv.mode()"
   ]
  },
  {
   "cell_type": "code",
   "execution_count": 12,
   "id": "a68b4dc6-0dac-4e5d-9774-76a8eb91d17a",
   "metadata": {},
   "outputs": [],
   "source": [
    "# given the most common cpv\n",
    "modeCPVMarket = lotti[lotti.id_cpv == lotti.id_cpv.mode().values[0]]"
   ]
  },
  {
   "cell_type": "code",
   "execution_count": 13,
   "id": "9652a619-13b3-48e6-9bb9-714544c04765",
   "metadata": {},
   "outputs": [],
   "source": [
    "# given the most common id_scelta_contrante\n",
    "modeMarket = modeCPVMarket[modeCPVMarket.id_scelta_contraente == modeCPVMarket.id_scelta_contraente.mode().values[0]]"
   ]
  },
  {
   "cell_type": "code",
   "execution_count": 14,
   "id": "73872bdf-3172-4f44-ad8f-579b2d2d5001",
   "metadata": {},
   "outputs": [
    {
     "name": "stderr",
     "output_type": "stream",
     "text": [
      "/var/folders/zw/jt2ycyfx58j5m2lkspywwvnm0000gn/T/ipykernel_9770/3232996774.py:1: SettingWithCopyWarning: \n",
      "A value is trying to be set on a copy of a slice from a DataFrame.\n",
      "Try using .loc[row_indexer,col_indexer] = value instead\n",
      "\n",
      "See the caveats in the documentation: https://pandas.pydata.org/pandas-docs/stable/user_guide/indexing.html#returning-a-view-versus-a-copy\n",
      "  modeMarket.loc[:, \"importo\"] = np.log(modeMarket.importo)\n"
     ]
    }
   ],
   "source": [
    "modeMarket.loc[:, \"importo\"] = np.log(modeMarket.importo)"
   ]
  },
  {
   "cell_type": "code",
   "execution_count": 15,
   "id": "950b38a2-6055-499b-81af-38b619411092",
   "metadata": {},
   "outputs": [
    {
     "data": {
      "image/png": "[encoded data removed]",
      "text/plain": [
       "<Figure size 432x288 with 1 Axes>"
      ]
     },
     "metadata": {
      "needs_background": "light"
     },
     "output_type": "display_data"
    }
   ],
   "source": [
    "import seaborn as sns\n",
    "import matplotlib.colors as mcolors\n",
    "import matplotlib.pyplot as plt\n",
    "\n",
    "for i, forma_giuridica in enumerate(modeMarket.id_forma_giuridica.unique()):\n",
    "    sns.histplot(\n",
    "        data=modeMarket[modeMarket.id_forma_giuridica == forma_giuridica], \n",
    "        x=\"importo\", bins=100,\n",
    "        color=list(mcolors.TABLEAU_COLORS)[i], alpha=.7, label=forma_giuridica\n",
    "    )\n",
    "    plt.legend()"
   ]
  },
  {
   "cell_type": "code",
   "execution_count": 16,
   "id": "16b8d81f-bedc-4139-91a9-7ee6d2cfb317",
   "metadata": {},
   "outputs": [
    {
     "data": {
      "image/png": "[encoded data removed]",
      "text/plain": [
       "<Figure size 432x288 with 1 Axes>"
      ]
     },
     "metadata": {
      "needs_background": "light"
     },
     "output_type": "display_data"
    }
   ],
   "source": [
    "for i, lsf in enumerate(modeMarket.id_lsf.unique()):\n",
    "    sns.histplot(\n",
    "        data=modeMarket[modeMarket.id_lsf == lsf], \n",
    "        x=\"importo\", bins=100,\n",
    "        color=list(mcolors.TABLEAU_COLORS)[i], alpha=.7, label=lsf\n",
    "    )\n",
    "    plt.legend()"
   ]
  },
  {
   "cell_type": "code",
   "execution_count": 17,
   "id": "8bc92923-fbb6-4660-a7f6-15a1a1e997bd",
   "metadata": {},
   "outputs": [
    {
     "data": {
      "image/png": "[encoded data removed]",
      "text/plain": [
       "<Figure size 432x288 with 1 Axes>"
      ]
     },
     "metadata": {
      "needs_background": "light"
     },
     "output_type": "display_data"
    }
   ],
   "source": [
    "for i, md5 in enumerate(modeMarket.md5.unique()):\n",
    "    sns.histplot(\n",
    "        data=modeMarket[modeMarket.md5 == md5], \n",
    "        x=\"importo\", bins=100,\n",
    "        color=list(mcolors.TABLEAU_COLORS)[i], alpha=.7, label=md5\n",
    "    )\n",
    "    plt.legend()"
   ]
  },
  {
   "cell_type": "code",
   "execution_count": 19,
   "id": "b9a0634f-0654-4936-b1c8-60db44f5dd42",
   "metadata": {},
   "outputs": [
    {
     "data": {
      "text/plain": [
       "(13,)"
      ]
     },
     "execution_count": 19,
     "metadata": {},
     "output_type": "execute_result"
    }
   ],
   "source": [
    "modeCPVMarket.id_scelta_contraente.unique().shape"
   ]
  },
  {
   "cell_type": "code",
   "execution_count": 20,
   "id": "53b3f11b-bf4c-483a-9f5f-0c37ced2a3b2",
   "metadata": {},
   "outputs": [
    {
     "data": {
      "image/png": "[encoded data removed]",
      "text/plain": [
       "<Figure size 432x288 with 1 Axes>"
      ]
     },
     "metadata": {
      "needs_background": "light"
     },
     "output_type": "display_data"
    }
   ],
   "source": [
    "for i, scelta in enumerate(modeCPVMarket.id_scelta_contraente.unique()[:2]):\n",
    "    sns.histplot(\n",
    "        data=modeCPVMarket[modeCPVMarket.id_scelta_contraente == scelta],\n",
    "        x=\"importo\", bins=100,\n",
    "        color=list(mcolors.TABLEAU_COLORS)[i], alpha=.7, label=scelta\n",
    "    )"
   ]
  },
  {
   "cell_type": "code",
   "execution_count": null,
   "id": "083575aa-10d8-43ec-9ed1-208b681e9187",
   "metadata": {},
   "outputs": [],
   "source": []
  }
 ],
 "metadata": {
  "kernelspec": {
   "display_name": "Python 3 (ipykernel)",
   "language": "python",
   "name": "python3"
  },
  "language_info": {
   "codemirror_mode": {
    "name": "ipython",
    "version": 3
   },
   "file_extension": ".py",
   "mimetype": "text/x-python",
   "name": "python",
   "nbconvert_exporter": "python",
   "pygments_lexer": "ipython3",
   "version": "3.9.13"
  }
 },
 "nbformat": 4,
 "nbformat_minor": 5
}
